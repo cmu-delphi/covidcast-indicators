{
 "cells": [
  {
   "cell_type": "markdown",
   "metadata": {},
   "source": [
    "# Construct county signal from facility data\n",
    "\n",
    "https://healthdata.gov/Hospital/COVID-19-Reported-Patient-Impact-and-Hospital-Capa/anag-cw7u"
   ]
  },
  {
   "cell_type": "code",
   "execution_count": 1,
   "metadata": {},
   "outputs": [],
   "source": [
    "# standard library\n",
    "import pickle\n",
    "from datetime import date, datetime, timedelta\n",
    "from os import path\n",
    "\n",
    "# third party\n",
    "from delphi_utils import GeoMapper\n",
    "from numpy import nan\n",
    "from pandas import concat, DataFrame\n",
    "\n",
    "# first party\n",
    "from epidata import Epidata"
   ]
  },
  {
   "cell_type": "markdown",
   "metadata": {},
   "source": [
    "## Retrieve geographic mapping and facility information"
   ]
  },
  {
   "cell_type": "code",
   "execution_count": 2,
   "metadata": {},
   "outputs": [],
   "source": [
    "gmpr = GeoMapper()\n",
    "us_states = set(gmpr.get_geo_values(\"state_id\"))\n",
    "excluded_states = {\"fm\", \"gu\", \"vi\", \"as\", \"pw\", \n",
    "                   \"pr\", \"mp\", \"mh\", \"um\", \"dc\"}\n",
    "us_states = list(sorted(us_states - excluded_states))\n",
    "\n",
    "fips_info = DataFrame({\"fips\": sorted(list(gmpr.get_geo_values(\"fips\")))})\n",
    "fips_info = gmpr.add_geocode(fips_info, \"fips\", \"state\", \"fips\", \"state\")\n",
    "fips_info = fips_info[~fips_info.fips.str.endswith('000')]\n",
    "fips_info = fips_info[fips_info.state_id.isin(us_states)]"
   ]
  },
  {
   "cell_type": "code",
   "execution_count": 3,
   "metadata": {},
   "outputs": [],
   "source": [
    "# get all facility IDs\n",
    "def extract_facility_info(state_id):\n",
    "    facility_info = Epidata.check(Epidata.covid_hosp_facility_lookup(state=state_id))\n",
    "    facility_info_df = []\n",
    "    for facility in facility_info[\"epidata\"]:\n",
    "        facility_info_df.append(DataFrame(facility, index=[0]))\n",
    "    return concat(facility_info_df)\n",
    "\n",
    "facility_info_file = \"./facility_info.p\"\n",
    "if path.exists(facility_info_file):\n",
    "    facility_info = pickle.load(open(facility_info_file, \"rb\"))\n",
    "else:\n",
    "    facility_info = []\n",
    "    for state_id in us_states:\n",
    "        facility_info.append(extract_facility_info(state_id))\n",
    "    facility_info = concat(facility_info, ignore_index=True)\n",
    "    pickle.dump(facility_info, open(facility_info_file, \"wb\"))"
   ]
  },
  {
   "cell_type": "markdown",
   "metadata": {},
   "source": [
    "## Retrieve data "
   ]
  },
  {
   "cell_type": "markdown",
   "metadata": {},
   "source": [
    "Example call to retrieve county signal on a particular collection date."
   ]
  },
  {
   "cell_type": "code",
   "execution_count": 4,
   "metadata": {
    "scrolled": false
   },
   "outputs": [
    {
     "name": "stdout",
     "output_type": "stream",
     "text": [
      "34011F failed\n",
      "112\n"
     ]
    }
   ],
   "source": [
    "state_signal_name = \"previous_day_admission_adult_covid_confirmed\"\n",
    "facility_signal_name = \"previous_day_admission_adult_covid_confirmed_7_day_sum\"\n",
    "NA_code = -999999\n",
    "def get_state_data(state_id, collection_date):\n",
    "    \"\"\"Calculate state signal, summed over the next week.\"\"\"\n",
    "    to_epidate = lambda x: int(str(x).replace(\"-\", \"\"))\n",
    "    next_week_date = to_epidate(datetime.strptime(str(collection_date), \"%Y%m%d\").date() + timedelta(6))\n",
    "    res = Epidata.covid_hosp(state_id, Epidata.range(collection_date, next_week_date))\n",
    "    if not len(res[\"epidata\"]) == 7:\n",
    "        return nan\n",
    "    return sum([row[state_signal_name] for row in res[\"epidata\"]])\n",
    "\n",
    "def get_facility_data(state_id, collection_date, facility_info=facility_info):\n",
    "    \"\"\"Return facility data in a given state and collection week.\"\"\"\n",
    "    \n",
    "    state_facility_ids = facility_info[facility_info.state.eq(state_id.upper())].hospital_pk.values\n",
    "    \n",
    "    # facility IDs should be 6 digits, but are occasionally smaller if leading \n",
    "    # zeros are dropped in preprocessing\n",
    "    facility_ids = set([f.zfill(6) for f in state_facility_ids if len(f) <= 6])\n",
    "    \n",
    "    out = {}\n",
    "    for facility_id in facility_ids:\n",
    "        res = Epidata.covid_hosp_facility(facility_id, collection_date)\n",
    "        if res[\"result\"] != 1:\n",
    "            print(facility_id, \"failed\")\n",
    "            continue\n",
    "        val = res[\"epidata\"][0][facility_signal_name]\n",
    "        val = nan if val == NA_code else val # censoring if count is less than 4\n",
    "        out[facility_id] = val\n",
    "    return out\n",
    "        \n",
    "    \n",
    "state_id = \"nc\"\n",
    "collection_date = 20201204\n",
    "data = {**{state_id: get_state_data(state_id, collection_date)},\n",
    "        **get_facility_data(state_id, collection_date)}\n",
    "print(len(data))"
   ]
  },
  {
   "cell_type": "code",
   "execution_count": 5,
   "metadata": {},
   "outputs": [],
   "source": [
    "# reformat data\n",
    "data = DataFrame.from_dict(data, orient=\"index\").reset_index()\n",
    "data.columns = [\"hospital_pk\", \"7_day_sum\"]\n",
    "data = data.merge(\n",
    "    facility_info[[\"hospital_pk\", \"fips_code\"]],\n",
    "    how=\"left\", on=\"hospital_pk\",\n",
    ")\n",
    "data.fips_code = data.fips_code.apply(lambda x: str(x).zfill(5))\n",
    "counties_in_state = fips_info[fips_info.state_id.eq(state_id)].fips.values\n",
    "state_data = data[data.fips_code.isin(counties_in_state) & ~data[\"7_day_sum\"].isnull()]\n",
    "state_data = state_data.groupby(\"fips_code\").sum().reset_index()\n",
    "\n",
    "# calculate discrepancy between state total and facility report\n",
    "missing_counts = (data[data.hospital_pk.eq(state_id)][\"7_day_sum\"] - state_data[\"7_day_sum\"].sum())[0]\n",
    "\n",
    "# unreported counties (through censoring or otherwise)\n",
    "missing_counties = set(counties_in_state) - set(state_data.fips_code)\n",
    "\n",
    "# disperse total across all missing counties\n",
    "missing_data = DataFrame({\n",
    "    \"fips_code\": list(missing_counties),\n",
    "    \"7_day_sum\": missing_counts/len(missing_counties)\n",
    "})\n",
    "\n",
    "state_data = concat([state_data[[\"fips_code\", \"7_day_sum\"]], missing_data], ignore_index=True)\n",
    "state_data[\"collection_date\"] = collection_date"
   ]
  },
  {
   "cell_type": "code",
   "execution_count": 6,
   "metadata": {},
   "outputs": [
    {
     "data": {
      "text/html": [
       "<div>\n",
       "<style scoped>\n",
       "    .dataframe tbody tr th:only-of-type {\n",
       "        vertical-align: middle;\n",
       "    }\n",
       "\n",
       "    .dataframe tbody tr th {\n",
       "        vertical-align: top;\n",
       "    }\n",
       "\n",
       "    .dataframe thead th {\n",
       "        text-align: right;\n",
       "    }\n",
       "</style>\n",
       "<table border=\"1\" class=\"dataframe\">\n",
       "  <thead>\n",
       "    <tr style=\"text-align: right;\">\n",
       "      <th></th>\n",
       "      <th>fips_code</th>\n",
       "      <th>7_day_sum</th>\n",
       "      <th>collection_date</th>\n",
       "    </tr>\n",
       "  </thead>\n",
       "  <tbody>\n",
       "    <tr>\n",
       "      <th>0</th>\n",
       "      <td>37001</td>\n",
       "      <td>47.000000</td>\n",
       "      <td>20201204</td>\n",
       "    </tr>\n",
       "    <tr>\n",
       "      <th>1</th>\n",
       "      <td>37005</td>\n",
       "      <td>0.000000</td>\n",
       "      <td>20201204</td>\n",
       "    </tr>\n",
       "    <tr>\n",
       "      <th>2</th>\n",
       "      <td>37009</td>\n",
       "      <td>11.000000</td>\n",
       "      <td>20201204</td>\n",
       "    </tr>\n",
       "    <tr>\n",
       "      <th>3</th>\n",
       "      <td>37011</td>\n",
       "      <td>0.000000</td>\n",
       "      <td>20201204</td>\n",
       "    </tr>\n",
       "    <tr>\n",
       "      <th>4</th>\n",
       "      <td>37013</td>\n",
       "      <td>12.000000</td>\n",
       "      <td>20201204</td>\n",
       "    </tr>\n",
       "    <tr>\n",
       "      <th>...</th>\n",
       "      <td>...</td>\n",
       "      <td>...</td>\n",
       "      <td>...</td>\n",
       "    </tr>\n",
       "    <tr>\n",
       "      <th>95</th>\n",
       "      <td>37043</td>\n",
       "      <td>1.137931</td>\n",
       "      <td>20201204</td>\n",
       "    </tr>\n",
       "    <tr>\n",
       "      <th>96</th>\n",
       "      <td>37185</td>\n",
       "      <td>1.137931</td>\n",
       "      <td>20201204</td>\n",
       "    </tr>\n",
       "    <tr>\n",
       "      <th>97</th>\n",
       "      <td>37115</td>\n",
       "      <td>1.137931</td>\n",
       "      <td>20201204</td>\n",
       "    </tr>\n",
       "    <tr>\n",
       "      <th>98</th>\n",
       "      <td>37095</td>\n",
       "      <td>1.137931</td>\n",
       "      <td>20201204</td>\n",
       "    </tr>\n",
       "    <tr>\n",
       "      <th>99</th>\n",
       "      <td>37079</td>\n",
       "      <td>1.137931</td>\n",
       "      <td>20201204</td>\n",
       "    </tr>\n",
       "  </tbody>\n",
       "</table>\n",
       "<p>100 rows × 3 columns</p>\n",
       "</div>"
      ],
      "text/plain": [
       "   fips_code  7_day_sum  collection_date\n",
       "0      37001  47.000000         20201204\n",
       "1      37005   0.000000         20201204\n",
       "2      37009  11.000000         20201204\n",
       "3      37011   0.000000         20201204\n",
       "4      37013  12.000000         20201204\n",
       "..       ...        ...              ...\n",
       "95     37043   1.137931         20201204\n",
       "96     37185   1.137931         20201204\n",
       "97     37115   1.137931         20201204\n",
       "98     37095   1.137931         20201204\n",
       "99     37079   1.137931         20201204\n",
       "\n",
       "[100 rows x 3 columns]"
      ]
     },
     "execution_count": 6,
     "metadata": {},
     "output_type": "execute_result"
    }
   ],
   "source": [
    "state_data"
   ]
  },
  {
   "cell_type": "code",
   "execution_count": null,
   "metadata": {},
   "outputs": [],
   "source": []
  }
 ],
 "metadata": {
  "kernelspec": {
   "display_name": "Python 3 (ipykernel)",
   "language": "python",
   "name": "python3"
  },
  "language_info": {
   "codemirror_mode": {
    "name": "ipython",
    "version": 3
   },
   "file_extension": ".py",
   "mimetype": "text/x-python",
   "name": "python",
   "nbconvert_exporter": "python",
   "pygments_lexer": "ipython3",
   "version": "3.7.10"
  }
 },
 "nbformat": 4,
 "nbformat_minor": 4
}
