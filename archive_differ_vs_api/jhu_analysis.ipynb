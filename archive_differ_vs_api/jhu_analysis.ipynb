{
 "cells": [
  {
   "cell_type": "markdown",
   "metadata": {},
   "source": [
    "# Analysis of Comparison between JHU Source Data vs Latest API vs Archive Differ S3\n",
    "\n",
    "Check out `jhu_source.py` for the code that creates the json used for this analysis. \n",
    "\n",
    "Let's use the term observation to call a one specific combination of: \n",
    "- signal (either `confirmed_cumulative_num` or `deaths_cumulative_num`)\n",
    "- time_value (one day)\n",
    "- county-level data \n",
    "from github jhu source. \n",
    "\n",
    "So one observation would consist of a date's data from around 3000 counties, about the cumulative number of either COVID cases or deaths.\n",
    "\n",
    "Theoretically an observation, its equivalent api call latest result, and the equivalent csv file in the S3 archive differ bucket, all three should all return the same data.\n",
    "\n",
    "\n",
    "`jhu_source.py` takes an observation data, and compare it to api and S3 equivalent. \n",
    "\n",
    "We only care about US county-level data in this comparison.\n",
    "\n",
    "Before comparison, we remove rows from all 3 places whose values are:\n",
    "- 0\n",
    "- NA\n",
    "- describing megacounties.\n",
    "\n",
    "Megacounties data are dropped because the source data does not contain them, but the API and S3 dataframes do contain them.\n",
    "This is why the `jhu_source.py` script should not be used to compare API vs S3 data.\n",
    "\n",
    "JHU source is from these two files on github:\n",
    "https://raw.githubusercontent.com/CSSEGISandData/COVID-19/master/csse_covid_19_data/csse_covid_19_time_series/time_series_covid19_deaths_US.csv\n",
    "https://raw.githubusercontent.com/CSSEGISandData/COVID-19/master/csse_covid_19_data/csse_covid_19_time_series/time_series_covid19_deaths_US.csv\n",
    "\n",
    "\n",
    "Load the JSON file resulting from the jhu_source.py script run:"
   ]
  },
  {
   "cell_type": "code",
   "execution_count": 1,
   "metadata": {},
   "outputs": [],
   "source": [
    "import pandas as pd\n",
    "import json\n",
    "\n",
    "\n",
    "with open('jhu_source_20241010.json') as f:\n",
    "    data = json.load(f)\n",
    "df = pd.json_normalize(data)"
   ]
  },
  {
   "cell_type": "code",
   "execution_count": 2,
   "metadata": {},
   "outputs": [
    {
     "data": {
      "text/plain": [
       "Index(['date', 'signal', 'skip_reason', 'source_row_count', 'api_row_count',\n",
       "       's3_row_count', 'source_api_diff_count', 'source_s3_diff_count',\n",
       "       'api_s3_diff_count'],\n",
       "      dtype='object')"
      ]
     },
     "execution_count": 2,
     "metadata": {},
     "output_type": "execute_result"
    }
   ],
   "source": [
    "df.columns"
   ]
  },
  {
   "cell_type": "code",
   "execution_count": 3,
   "metadata": {},
   "outputs": [
    {
     "data": {
      "text/plain": [
       "2285"
      ]
     },
     "execution_count": 3,
     "metadata": {},
     "output_type": "execute_result"
    }
   ],
   "source": [
    "len(df)"
   ]
  },
  {
   "cell_type": "code",
   "execution_count": 4,
   "metadata": {},
   "outputs": [
    {
     "data": {
      "text/html": [
       "<div>\n",
       "<style scoped>\n",
       "    .dataframe tbody tr th:only-of-type {\n",
       "        vertical-align: middle;\n",
       "    }\n",
       "\n",
       "    .dataframe tbody tr th {\n",
       "        vertical-align: top;\n",
       "    }\n",
       "\n",
       "    .dataframe thead th {\n",
       "        text-align: right;\n",
       "    }\n",
       "</style>\n",
       "<table border=\"1\" class=\"dataframe\">\n",
       "  <thead>\n",
       "    <tr style=\"text-align: right;\">\n",
       "      <th></th>\n",
       "      <th>date</th>\n",
       "      <th>signal</th>\n",
       "      <th>skip_reason</th>\n",
       "      <th>source_row_count</th>\n",
       "      <th>api_row_count</th>\n",
       "      <th>s3_row_count</th>\n",
       "      <th>source_api_diff_count</th>\n",
       "      <th>source_s3_diff_count</th>\n",
       "      <th>api_s3_diff_count</th>\n",
       "    </tr>\n",
       "  </thead>\n",
       "  <tbody>\n",
       "    <tr>\n",
       "      <th>0</th>\n",
       "      <td>20200123</td>\n",
       "      <td>confirmed_cumulative_num</td>\n",
       "      <td>File jhu/20200123_county_confirmed_cumulative_...</td>\n",
       "      <td>NaN</td>\n",
       "      <td>NaN</td>\n",
       "      <td>NaN</td>\n",
       "      <td>NaN</td>\n",
       "      <td>NaN</td>\n",
       "      <td>NaN</td>\n",
       "    </tr>\n",
       "    <tr>\n",
       "      <th>1</th>\n",
       "      <td>20200124</td>\n",
       "      <td>confirmed_cumulative_num</td>\n",
       "      <td>File jhu/20200124_county_confirmed_cumulative_...</td>\n",
       "      <td>NaN</td>\n",
       "      <td>NaN</td>\n",
       "      <td>NaN</td>\n",
       "      <td>NaN</td>\n",
       "      <td>NaN</td>\n",
       "      <td>NaN</td>\n",
       "    </tr>\n",
       "    <tr>\n",
       "      <th>2</th>\n",
       "      <td>20200125</td>\n",
       "      <td>confirmed_cumulative_num</td>\n",
       "      <td>File jhu/20200125_county_confirmed_cumulative_...</td>\n",
       "      <td>NaN</td>\n",
       "      <td>NaN</td>\n",
       "      <td>NaN</td>\n",
       "      <td>NaN</td>\n",
       "      <td>NaN</td>\n",
       "      <td>NaN</td>\n",
       "    </tr>\n",
       "    <tr>\n",
       "      <th>3</th>\n",
       "      <td>20200126</td>\n",
       "      <td>confirmed_cumulative_num</td>\n",
       "      <td>File jhu/20200126_county_confirmed_cumulative_...</td>\n",
       "      <td>NaN</td>\n",
       "      <td>NaN</td>\n",
       "      <td>NaN</td>\n",
       "      <td>NaN</td>\n",
       "      <td>NaN</td>\n",
       "      <td>NaN</td>\n",
       "    </tr>\n",
       "    <tr>\n",
       "      <th>4</th>\n",
       "      <td>20200127</td>\n",
       "      <td>confirmed_cumulative_num</td>\n",
       "      <td>File jhu/20200127_county_confirmed_cumulative_...</td>\n",
       "      <td>NaN</td>\n",
       "      <td>NaN</td>\n",
       "      <td>NaN</td>\n",
       "      <td>NaN</td>\n",
       "      <td>NaN</td>\n",
       "      <td>NaN</td>\n",
       "    </tr>\n",
       "  </tbody>\n",
       "</table>\n",
       "</div>"
      ],
      "text/plain": [
       "       date                    signal  \\\n",
       "0  20200123  confirmed_cumulative_num   \n",
       "1  20200124  confirmed_cumulative_num   \n",
       "2  20200125  confirmed_cumulative_num   \n",
       "3  20200126  confirmed_cumulative_num   \n",
       "4  20200127  confirmed_cumulative_num   \n",
       "\n",
       "                                         skip_reason  source_row_count  \\\n",
       "0  File jhu/20200123_county_confirmed_cumulative_...               NaN   \n",
       "1  File jhu/20200124_county_confirmed_cumulative_...               NaN   \n",
       "2  File jhu/20200125_county_confirmed_cumulative_...               NaN   \n",
       "3  File jhu/20200126_county_confirmed_cumulative_...               NaN   \n",
       "4  File jhu/20200127_county_confirmed_cumulative_...               NaN   \n",
       "\n",
       "   api_row_count  s3_row_count  source_api_diff_count  source_s3_diff_count  \\\n",
       "0            NaN           NaN                    NaN                   NaN   \n",
       "1            NaN           NaN                    NaN                   NaN   \n",
       "2            NaN           NaN                    NaN                   NaN   \n",
       "3            NaN           NaN                    NaN                   NaN   \n",
       "4            NaN           NaN                    NaN                   NaN   \n",
       "\n",
       "   api_s3_diff_count  \n",
       "0                NaN  \n",
       "1                NaN  \n",
       "2                NaN  \n",
       "3                NaN  \n",
       "4                NaN  "
      ]
     },
     "execution_count": 4,
     "metadata": {},
     "output_type": "execute_result"
    }
   ],
   "source": [
    "df.head()"
   ]
  },
  {
   "cell_type": "markdown",
   "metadata": {},
   "source": [
    "We don't care about the (super early 2020) observasions when there's no api data equivalent. So after removing such data as the below chunk shows, we have 2228 observations for analysis. "
   ]
  },
  {
   "cell_type": "code",
   "execution_count": 5,
   "metadata": {},
   "outputs": [
    {
     "data": {
      "text/plain": [
       "2228"
      ]
     },
     "execution_count": 5,
     "metadata": {},
     "output_type": "execute_result"
    }
   ],
   "source": [
    "df = df[df['skip_reason'].isna()]\n",
    "len(df)"
   ]
  },
  {
   "cell_type": "markdown",
   "metadata": {},
   "source": [
    "Note: In this doc, we care only about the difference between source data vs api and source data vs s3 bucket, NOT api vs s3. Check analysis.ipynb for that.\n",
    "\n",
    "The below 2 chunks shows every observation has differences with api but is the exact same as what's on the API.\n",
    "\n",
    "This essentially means the API is wrong and the S3 bucket is right."
   ]
  },
  {
   "cell_type": "code",
   "execution_count": 6,
   "metadata": {},
   "outputs": [
    {
     "data": {
      "text/plain": [
       "(2228, 0)"
      ]
     },
     "execution_count": 6,
     "metadata": {},
     "output_type": "execute_result"
    }
   ],
   "source": [
    "len(df[df['source_api_diff_count']!=0]), len(df[df['source_api_diff_count']==0])"
   ]
  },
  {
   "cell_type": "code",
   "execution_count": 7,
   "metadata": {},
   "outputs": [
    {
     "data": {
      "text/plain": [
       "(0, 2228)"
      ]
     },
     "execution_count": 7,
     "metadata": {},
     "output_type": "execute_result"
    }
   ],
   "source": [
    "len(df[df['source_s3_diff_count']!=0]), len(df[df['source_s3_diff_count']==0])"
   ]
  },
  {
   "cell_type": "code",
   "execution_count": 8,
   "metadata": {},
   "outputs": [
    {
     "data": {
      "image/png": "[encoded data removed]",
      "text/plain": [
       "<Figure size 1500x500 with 1 Axes>"
      ]
     },
     "metadata": {},
     "output_type": "display_data"
    }
   ],
   "source": [
    "import matplotlib.pyplot as plt\n",
    "\n",
    "\n",
    "def plot_diff_rows(df):\n",
    "    jhu_diff = df[df['source_api_diff_count']!=0]\n",
    "    # Convert 'time_value' to datetime\n",
    "    jhu_diff['date'] = pd.to_datetime(jhu_diff['date'], format='%Y%m%d')\n",
    "\n",
    "    # Create a plot\n",
    "    plt.figure(figsize=(15, 5))\n",
    "    plt.bar(jhu_diff['date'], jhu_diff['source_api_diff_count'])\n",
    "\n",
    "    # Set the labels and title\n",
    "    plt.xlabel('Time Value')\n",
    "    plt.ylabel('Number of Row differences in each S3 csv file')\n",
    "    plt.title('Number of Row differences over Time')\n",
    "\n",
    "    # Display the plot\n",
    "    plt.show()\n",
    "\n",
    "plot_diff_rows(df)"
   ]
  },
  {
   "cell_type": "code",
   "execution_count": 9,
   "metadata": {},
   "outputs": [
    {
     "data": {
      "text/plain": [
       "3298.0"
      ]
     },
     "execution_count": 9,
     "metadata": {},
     "output_type": "execute_result"
    }
   ],
   "source": [
    "df['source_api_diff_count'].max()\n"
   ]
  },
  {
   "cell_type": "markdown",
   "metadata": {},
   "source": [
    "Let's redo the figure above without these full-file outliers"
   ]
  },
  {
   "cell_type": "code",
   "execution_count": 10,
   "metadata": {},
   "outputs": [
    {
     "data": {
      "image/png": "[encoded data removed]",
      "text/plain": [
       "<Figure size 1500x500 with 1 Axes>"
      ]
     },
     "metadata": {},
     "output_type": "display_data"
    }
   ],
   "source": [
    "max_index = df['source_api_diff_count'].idxmax()\n",
    "jhu_diff_no_outlier = df.drop(max_index)\n",
    "max_index = jhu_diff_no_outlier['source_api_diff_count'].idxmax()\n",
    "jhu_diff_no_outlier = jhu_diff_no_outlier.drop(max_index)\n",
    "plot_diff_rows(jhu_diff_no_outlier)"
   ]
  }
 ],
 "metadata": {
  "kernelspec": {
   "display_name": "sigdocupload",
   "language": "python",
   "name": "python3"
  },
  "language_info": {
   "codemirror_mode": {
    "name": "ipython",
    "version": 3
   },
   "file_extension": ".py",
   "mimetype": "text/x-python",
   "name": "python",
   "nbconvert_exporter": "python",
   "pygments_lexer": "ipython3",
   "version": "3.11.9"
  }
 },
 "nbformat": 4,
 "nbformat_minor": 2
}
