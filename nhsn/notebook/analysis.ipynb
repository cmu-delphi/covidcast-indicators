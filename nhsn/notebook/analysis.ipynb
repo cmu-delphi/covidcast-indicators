{
 "cells": [
  {
   "metadata": {
    "ExecuteTime": {
     "end_time": "2024-11-25T19:31:06.220934Z",
     "start_time": "2024-11-25T19:31:06.214259Z"
    }
   },
   "cell_type": "code",
   "source": [
    "from pathlib import Path\n",
    "import pandas as pd\n",
    "import os\n",
    "\n",
    "from delphi_nhsn.constants import SIGNALS_MAP, PRELIM_SIGNALS_MAP\n",
    "from delphi_epidata import Epidata\n",
    "from epiweeks import Week\n",
    "CSV_PATH = Path(os.path.abspath('')).parent.joinpath('receiving')\n",
    "SIGNALS = list(SIGNALS_MAP.keys()) + list(PRELIM_SIGNALS_MAP.keys())"
   ],
   "id": "initial_id",
   "outputs": [],
   "execution_count": 125
  },
  {
   "metadata": {},
   "cell_type": "code",
   "source": [
    "def get_nhsn_df(geo, pathogen, prelim=False):\n",
    "    lst = []\n",
    "    geo_filter = f'*{geo}'\n",
    "    pathogen_filter = f'confirmed_admissions_{pathogen}.csv'\n",
    "    prelim_filter = f'prelim_' if prelim else \"\"\n",
    "    filter = f\"{geo_filter}_{prelim_filter}{pathogen_filter}\"\n",
    "    for files in Path(CSV_PATH).glob(filter):\n",
    "        filename_parts = files.name.split('_')\n",
    "        signal = \"_\".join(filename_parts[3:]).replace('.csv', '')\n",
    "        time_value = filename_parts[1]\n",
    "        df = pd.read_csv(files)\n",
    "        df['signal'] = signal\n",
    "        df['time_value'] = time_value\n",
    "        if geo == \"nation\":\n",
    "            df[\"geo_id\"] = \"US\"\n",
    "        else:\n",
    "            df[\"geo_id\"] = df[\"geo_id\"].str.upper()\n",
    "        df.time_value = df.time_value.astype(str)\n",
    "        lst.append(df)\n",
    "    df = pd.concat(lst)\n",
    "    df = df.drop(columns=['se','sample_size'], axis=1)\n",
    "    return df"
   ],
   "id": "fd6cc0b834450ccc",
   "outputs": [],
   "execution_count": null
  },
  {
   "metadata": {},
   "cell_type": "code",
   "source": [
    "def get_hhs_df(geo, pathogen):\n",
    "    response = Epidata.covidcast(\"hhs\", f\"confirmed_admissions_{pathogen}_1d\",\n",
    "                      geo_type=geo, time_values=Epidata.range(\"20200808\", \"20240426\"),\n",
    "                              geo_value=\"*\", as_of=None, time_type=\"day\")\n",
    "    df = pd.DataFrame.from_dict(response[\"epidata\"])\n",
    "    df.rename(columns={\"geo_value\": \"geo_id\", \"value\": \"val\", \"stderr\": \"se\"}, inplace=True)\n",
    "    df = df[[\"geo_id\", \"time_value\", \"val\", \"signal\"]]\n",
    "    df[\"time_value\"] = pd.to_datetime(df[\"time_value\"], format=\"%Y%m%d\")\n",
    "    # aggregating over 7 days matching epiweek for nhsn\n",
    "    df[\"week_time\"] = df[\"time_value\"].apply(lambda x: Week.fromdate(x))\n",
    "    df = df.groupby([\"geo_id\", \"signal\", \"week_time\"]).val.sum().reset_index()\n",
    "    df[\"geo_id\"] = df[\"geo_id\"].str.upper()\n",
    "    df.rename({\"week_time\": \"time_value\"}, axis=1, inplace=True)\n",
    "    df.time_value = df.time_value.astype(str)\n",
    "    return df\n"
   ],
   "id": "c2b36cc1a6812be3",
   "outputs": [],
   "execution_count": null
  },
  {
   "metadata": {},
   "cell_type": "code",
   "source": [
    "def generate_spearman(nhsn_df, hhs_df, slice_col):\n",
    "    \n",
    "    joined = pd.merge(nhsn_df, hhs_df, on=[\"geo_id\", \"time_value\"], how=\"left\", suffixes=[\"_nhsn\", \"_hhs\"])\n",
    "    \n",
    "    spearmanr_df = joined.groupby(slice_col)[[\"val_nhsn\", \"val_hhs\"]].corr(\"spearman\").iloc[0::2,-1].reset_index()\n",
    "    spearmanr_df.rename({\"val_hhs\": \"correlation\"}, axis=1, inplace=True)\n",
    "    spearmanr_df = spearmanr_df[[slice_col, \"correlation\"]]\n",
    "    spearmanr_df[slice_col] = spearmanr_df[slice_col].str.upper()\n",
    "    return spearmanr_df\n",
    "    "
   ],
   "id": "a21bf17412d82522",
   "outputs": [],
   "execution_count": null
  },
  {
   "metadata": {},
   "cell_type": "code",
   "source": [
    "import pandas as pd\n",
    "import plotly.graph_objects as go\n",
    "import plotly.io as pio\n",
    "\n",
    "from plotly.offline import init_notebook_mode\n",
    "\n",
    "init_notebook_mode(connected=True)\n",
    "\n",
    "def plot_spearman_choropleth(nhsn_df, hhs_df, pathogen, download=False):\n",
    "    spearmanr = generate_spearman(nhsn_df, hhs_df, \"geo_id\")\n",
    "\n",
    "    fig = go.Figure(data=go.Choropleth(\n",
    "        locations=spearmanr['geo_id'], # Spatial coordinates\n",
    "        z = spearmanr['correlation'].astype(float), # Data to be color-coded\n",
    "        locationmode = 'USA-states', # set of locations match entries in `locations`\n",
    "        colorscale = 'Viridis',\n",
    "        colorbar_title = \"spearman rank\",\n",
    "    ))\n",
    "    \n",
    "    fig.update_layout(\n",
    "        title_text = f'Spearman Correlations between HHS {pathogen} admission and NHSN {pathogen} admission',\n",
    "        geo_scope='usa', # limite map scope to USA\n",
    "    )\n",
    "    \n",
    "    if download:\n",
    "        pio.write_image(fig, f'{pathogen}_spearman_choropleth.pdf', format='pdf')\n",
    "    \n",
    "    else:\n",
    "        fig.show()\n"
   ],
   "id": "e7e54b9bd736a29d",
   "outputs": [],
   "execution_count": null
  },
  {
   "metadata": {},
   "cell_type": "code",
   "source": [
    "import plotly.graph_objects as go\n",
    "from plotly.offline import init_notebook_mode\n",
    "import plotly.io as pio\n",
    "\n",
    "init_notebook_mode(connected=True)\n",
    "\n",
    "def plot_timeplot(df, pathogen, y_col, state=\"\", prelim_flag=False, download=False):\n",
    "    if y_col == \"correlation\":\n",
    "        title = f'Spearman Correlations between {pathogen} HHS and NHSN over time'\n",
    "        filename = f'{pathogen}_spearman_timeplot.pdf'\n",
    "    else:\n",
    "        state_space = state + \" \" if state else \"\"\n",
    "        title = f'{state_space}NHSN value over time'\n",
    "        state = state + \"_\" if state else \"\"\n",
    "        filename = f'{state}{pathogen}_nhsn_timeplot.pdf'\n",
    "    \n",
    "    if prelim_flag:\n",
    "        filename += \" (prelim data)\"\n",
    "        title += \" (prelim data)\"\n",
    "    \n",
    "    fig = go.Figure()\n",
    "    fig.add_trace(go.Scatter(x=df['time_value'], y=df[y_col], mode='lines', name='Time Series'))\n",
    "    fig.update_layout(title=title)\n",
    "\n",
    "    \n",
    "    if download:\n",
    "        pio.write_image(fig, filename, format='pdf')\n",
    "    else:\n",
    "        fig.show()"
   ],
   "id": "7c1338ae44f73d22",
   "outputs": [],
   "execution_count": null
  },
  {
   "metadata": {},
   "cell_type": "code",
   "source": [
    "import pandas as pd\n",
    "import plotly.graph_objects as go\n",
    "import plotly.io as pio\n",
    "from plotly.offline import init_notebook_mode\n",
    "\n",
    "init_notebook_mode(connected=True)\n",
    "\n",
    "geo_type = \"state\"\n",
    "pathogen = \"covid\"\n",
    "nhsn_df = get_nhsn_df(geo_type, pathogen)\n",
    "\n",
    "def plot_choropleth_overtime(df, pathogen, z_col):\n",
    "    color_bar_title = \"\"\n",
    "    layout_title = \"\" \n",
    "    if z_col == \"val\" :\n",
    "        color_bar_title = f'Total Confirmed {pathogen} Cases'\n",
    "        layout_title = f'NHSN total confirmed {pathogen} cases' \n",
    "\n",
    "    elif z_col == \"diff_percentage\":\n",
    "        color_bar_title = \"difference in percentage\"\n",
    "        layout_title = f'Proportion between NHSN and HHS for confirmed {pathogen} over time'\n",
    "        \n",
    "    df[\"time_value\"] = pd.to_datetime(df.time_value.map(lambda x: str(x)+'-0'), format=\"%Y%W-%w\")\n",
    "    \n",
    "    data_slider = []\n",
    "    \n",
    "    for time_value in df['time_value'].unique():\n",
    "        df_segmented =  df[(df['time_value']== time_value)]\n",
    "    \n",
    "        data_each_yr = dict(\n",
    "                            type='choropleth',\n",
    "                            locations = df_segmented['geo_id'],\n",
    "                            z=df_segmented[z_col].astype(float),\n",
    "                            locationmode='USA-states',\n",
    "                            colorscale = 'Viridis',\n",
    "                            colorbar= {'title': color_bar_title},)\n",
    "    \n",
    "        data_slider.append(data_each_yr)\n",
    "    \n",
    "    steps = []\n",
    "    for idx, time_value in enumerate(sorted(df['time_value'].unique())):\n",
    "        step = {\n",
    "                    \"method\":'restyle',\n",
    "                    \"args\":[\n",
    "                        {'visible': [False] * len(data_slider)}\n",
    "                    ],\n",
    "                    \"label\": f\"Epiweek {Week.fromdate(pd.to_datetime(time_value))}\"\n",
    "                }\n",
    "        step['args'][0][\"visible\"][idx] = True\n",
    "        steps.append(step)\n",
    "    \n",
    "    sliders = [dict(active=0, pad={\"t\": 1}, steps=steps)]\n",
    "    \n",
    "    layout = dict(title =layout_title, geo=dict(scope='usa',\n",
    "                           projection={'type': 'albers usa'}),\n",
    "                  sliders=sliders)\n",
    "    \n",
    "    fig = go.Figure(data=data_slider, layout=layout)\n",
    "    \n",
    "    fig.show()\n"
   ],
   "id": "7a077af8d4d1caed",
   "outputs": [],
   "execution_count": null
  },
  {
   "metadata": {
    "ExecuteTime": {
     "end_time": "2024-11-25T19:34:19.781356Z",
     "start_time": "2024-11-25T19:34:19.768199Z"
    }
   },
   "cell_type": "code",
   "source": [
    "import plotly.graph_objects as go\n",
    "from plotly.offline import init_notebook_mode\n",
    "import plotly.io as pio\n",
    "\n",
    "init_notebook_mode(connected=True)\n",
    "\n",
    "def plot_compare_timeplot(nhsn_df, hhs_df, pathogen, geo_val=\"\", download=False, val_cutoff=100, percent_cutoff=20):\n",
    "    \n",
    "    title = f'{geo_val} NHSN vs HHS value over time with (diff > {percent_cutoff}% and val > {val_cutoff}) markers'\n",
    "    filename = f'{geo_val}_{pathogen}_nhsn_vs_hhs_timeplot.pdf'\n",
    "\n",
    "    fig = go.Figure()\n",
    "    fig.add_trace(go.Scatter(x=nhsn_df['time_value'], y=nhsn_df[\"val\"], mode='lines', name='NHSN Time Series'))\n",
    "    fig.add_trace(go.Scatter(x=hhs_df['time_value'], y=hhs_df[\"val\"], mode='lines', name='HHS Time Series'))\n",
    "    \n",
    "    joined = pd.merge(nhsn_df, hhs_df, on=[\"geo_id\", \"time_value\"], how=\"left\", suffixes=[\"_nhsn\", \"_hhs\"])\n",
    "    joined = joined[[\"geo_id\", \"time_value\", \"val_nhsn\", \"val_hhs\"]]\n",
    "    joined[\"diff_percentage\"] = ((joined[\"val_nhsn\"] - joined[\"val_hhs\"]) / joined[\"val_hhs\"]) * 100\n",
    "    percent_filter = (abs(joined[\"diff_percentage\"]) > percent_cutoff)\n",
    "    num_filter = (joined['val_nhsn'] > val_cutoff)\n",
    "    sus_data = joined[(percent_filter & num_filter)]\n",
    "    sus_data.sort_values(by=\"time_value\", inplace=True)\n",
    "    \n",
    "    fig.add_trace(go.Scatter(x=sus_data['time_value'], y=sus_data[\"val_nhsn\"] , mode='markers', name=f'NHSN points', marker={\"color\":\"green\"}))\n",
    "    fig.add_trace(go.Scatter(x=sus_data['time_value'], y=sus_data[\"val_hhs\"] , mode='markers', name=f'HHS points', marker={\"color\":\"green\"}))\n",
    "\n",
    "    fig.update_layout(title=title)\n",
    "    \n",
    "    if download:\n",
    "        pio.write_image(fig, filename, format='pdf')\n",
    "    else:\n",
    "        fig.show()\n"
   ],
   "id": "3bf257e9913f5742",
   "outputs": [
    {
     "data": {
      "text/html": [
       "        <script type=\"text/javascript\">\n",
       "        window.PlotlyConfig = {MathJaxConfig: 'local'};\n",
       "        if (window.MathJax && window.MathJax.Hub && window.MathJax.Hub.Config) {window.MathJax.Hub.Config({SVG: {font: \"STIX-Web\"}});}\n",
       "        if (typeof require !== 'undefined') {\n",
       "        require.undef(\"plotly\");\n",
       "        requirejs.config({\n",
       "            paths: {\n",
       "                'plotly': ['https://cdn.plot.ly/plotly-2.35.2.min']\n",
       "            }\n",
       "        });\n",
       "        require(['plotly'], function(Plotly) {\n",
       "            window._Plotly = Plotly;\n",
       "        });\n",
       "        }\n",
       "        </script>\n",
       "        "
      ]
     },
     "metadata": {},
     "output_type": "display_data"
    }
   ],
   "execution_count": 130
  },
  {
   "metadata": {},
   "cell_type": "markdown",
   "source": "# all analysis download",
   "id": "2e81b397bdd67170"
  },
  {
   "metadata": {},
   "cell_type": "code",
   "source": [
    "from itertools import product\n",
    "geos = [\"nation\", \"state\", \"hhs\"]\n",
    "hhs_pathogen_mapping = {\"flu\": \"influenza\", \"covid\": \"covid\"}\n",
    "geo_pathogen_flag_combo = list(product(geos, hhs_pathogen_mapping.keys(), [True, False]))\n",
    "\n",
    "for geo, pathogen, prelim_flag in geo_pathogen_flag_combo:\n",
    "    nhsn_df = get_nhsn_df(geo, pathogen, prelim_flag)\n",
    "    hhs_df = get_hhs_df(geo, hhs_pathogen_mapping[pathogen])\n",
    "    spearmanr = generate_spearman(nhsn_df, hhs_df, \"time_value\")\n",
    "    joined = pd.merge(nhsn_df, hhs_df, on=[\"geo_id\", \"time_value\"], how=\"left\", suffixes=[\"_nhsn\", \"_hhs\"])\n",
    "    joined = joined[[\"geo_id\", \"time_value\", \"val_nhsn\", \"val_hhs\"]]\n",
    "    joined[\"diff_percentage\"] = ((joined[\"val_nhsn\"] - joined[\"val_hhs\"]) / joined[\"val_hhs\"]) * 100\n",
    "    \n",
    "    plot_choropleth_overtime(joined, pathogen, z_col=\"diff_percentage\")\n",
    "    plot_timeplot(spearmanr, pathogen, y_col=\"correlation\", download=True)\n",
    "    plot_timeplot(nhsn_df, pathogen,y_col=\"val\", download=True)\n",
    "    plot_timeplot(joined, pathogen,y_col=\"diff_percentage\", download=True)\n",
    "    plot_spearman_choropleth(nhsn_df, hhs_df, \"time_value\", download=True)\n",
    "    if geo != \"nation\":\n",
    "        geos = list(nhsn_df.geo_id.unique())\n",
    "        for geo_val in geos[:2]:\n",
    "            part_nhsn_df = nhsn_df[nhsn_df[\"geo_id\"] == geo_val].sort_values(by=\"time_value\")\n",
    "            part_hhs_df = hhs_df[hhs_df[\"geo_id\"] == geo_val].sort_values(by=\"time_value\")\n",
    "            plot_compare_timeplot(part_nhsn_df, part_hhs_df, pathogen, geo_val=geo_val, download=True)\n",
    "    else:\n",
    "        plot_compare_timeplot(nhsn_df, hhs_df, pathogen, geo_val=\"us\", download=True)"
   ],
   "id": "2efa75ca5d6496c5",
   "outputs": [],
   "execution_count": null
  },
  {
   "metadata": {},
   "cell_type": "markdown",
   "source": "# Spearman over time example",
   "id": "f9979b019260fb75"
  },
  {
   "metadata": {},
   "cell_type": "code",
   "source": [
    "from itertools import product\n",
    "\n",
    "pathogen_mapping = {\"flu\": \"influenza\", \"covid\": \"covid\"}\n",
    "pathogen = \"covid\"\n",
    "prelim_flag = False\n",
    "geo = \"state\"\n",
    "\n",
    "nhsn_df = get_nhsn_df(geo, pathogen, prelim_flag)\n",
    "hhs_df = get_hhs_df(geo, pathogen_mapping[pathogen])\n",
    "spearmanr = generate_spearman(nhsn_df, hhs_df, \"time_value\")\n",
    "plot_timeplot(spearmanr, pathogen, y_col=\"correlation\", download=False)"
   ],
   "id": "3c13ddde889337dd",
   "outputs": [],
   "execution_count": null
  },
  {
   "metadata": {},
   "cell_type": "markdown",
   "source": "# Spearman over geo",
   "id": "389ff20f354256f0"
  },
  {
   "metadata": {},
   "cell_type": "code",
   "source": [
    "pathogen_mapping = {\"flu\": \"influenza\", \"covid\": \"covid\"}\n",
    "pathogen = \"covid\"\n",
    "prelim_flag = False\n",
    "geo = \"state\"\n",
    "\n",
    "nhsn_df = get_nhsn_df(geo, pathogen, prelim_flag)\n",
    "hhs_df = get_hhs_df(geo, pathogen_mapping[pathogen])\n",
    "plot_spearman_choropleth(nhsn_df, hhs_df, pathogen, download=False)"
   ],
   "id": "e134e9da693e3be1",
   "outputs": [],
   "execution_count": null
  },
  {
   "metadata": {},
   "cell_type": "markdown",
   "source": "# comparison over time across geo",
   "id": "a5c34a5e6c662b36"
  },
  {
   "metadata": {},
   "cell_type": "code",
   "source": [
    "pathogen_mapping = {\"flu\": \"influenza\", \"covid\": \"covid\"}\n",
    "pathogen = \"covid\"\n",
    "prelim_flag = False\n",
    "geo = \"state\"\n",
    "\n",
    "nhsn_df = get_nhsn_df(geo, pathogen, prelim_flag)\n",
    "hhs_df = get_hhs_df(geo, pathogen_mapping[pathogen])\n",
    "joined = pd.merge(nhsn_df, hhs_df, on=[\"geo_id\", \"time_value\"], how=\"left\", suffixes=[\"_nhsn\", \"_hhs\"])\n",
    "joined = joined[[\"geo_id\", \"time_value\", \"val_nhsn\", \"val_hhs\"]]\n",
    "joined[\"diff_percentage\"] = ((joined[\"val_nhsn\"] - joined[\"val_hhs\"]) / joined[\"val_hhs\"]) * 100\n",
    "plot_choropleth_overtime(joined, pathogen, z_col=\"diff_percentage\")"
   ],
   "id": "aa8d00e6d6c8e888",
   "outputs": [],
   "execution_count": null
  },
  {
   "metadata": {},
   "cell_type": "markdown",
   "source": "# compare val over time",
   "id": "291a7b1da3535a4c"
  },
  {
   "metadata": {
    "ExecuteTime": {
     "end_time": "2024-11-25T19:34:26.711085Z",
     "start_time": "2024-11-25T19:34:22.913763Z"
    }
   },
   "cell_type": "code",
   "source": [
    "pathogen_mapping = {\"flu\": \"influenza\", \"covid\": \"covid\"}\n",
    "pathogen = \"covid\"\n",
    "prelim_flag = False\n",
    "geo = \"state\"\n",
    "\n",
    "nhsn_df = get_nhsn_df(geo, pathogen).sort_values(by=\"time_value\")\n",
    "hhs_df = get_hhs_df(geo, pathogen_mapping[pathogen]).sort_values(by=\"time_value\")\n",
    "geos = list(nhsn_df.geo_id.unique())\n",
    "for geo_val in geos[:2]:\n",
    "    state_nhsn_df = nhsn_df[nhsn_df[\"geo_id\"] == geo_val].sort_values(by=\"time_value\")\n",
    "    state_hhs_df = hhs_df[hhs_df[\"geo_id\"] == geo_val].sort_values(by=\"time_value\")\n",
    "    plot_compare_timeplot(state_nhsn_df, state_hhs_df, pathogen, geo_val=geo_val, download=False)"
   ],
   "id": "d6a49cb0a01eeb93",
   "outputs": [
    {
     "name": "stderr",
     "output_type": "stream",
     "text": [
      "/var/folders/s6/ytv8f9z11q32lhh5ksxrp_tm0000gn/T/ipykernel_43215/3830264213.py:22: SettingWithCopyWarning:\n",
      "\n",
      "\n",
      "A value is trying to be set on a copy of a slice from a DataFrame\n",
      "\n",
      "See the caveats in the documentation: https://pandas.pydata.org/pandas-docs/stable/user_guide/indexing.html#returning-a-view-versus-a-copy\n",
      "\n"
     ]
    },
    {
     "data": {
      "application/vnd.plotly.v1+json": {
       "data": [
        {
         "mode": "lines",
         "name": "NHSN Time Series",
         "x": [
          "202032",
          "202033",
          "202034",
          "202035",
          "202036",
          "202037",
          "202038",
          "202039",
          "202040",
          "202041",
          "202042",
          "202043",
          "202044",
          "202045",
          "202046",
          "202047",
          "202048",
          "202049",
          "202050",
          "202051",
          "202052",
          "202053",
          "202101",
          "202102",
          "202103",
          "202104",
          "202105",
          "202106",
          "202107",
          "202108",
          "202109",
          "202110",
          "202111",
          "202112",
          "202113",
          "202114",
          "202115",
          "202116",
          "202117",
          "202118",
          "202119",
          "202120",
          "202121",
          "202122",
          "202123",
          "202124",
          "202125",
          "202126",
          "202127",
          "202128",
          "202129",
          "202130",
          "202131",
          "202132",
          "202133",
          "202134",
          "202135",
          "202136",
          "202137",
          "202138",
          "202139",
          "202140",
          "202141",
          "202142",
          "202143",
          "202144",
          "202145",
          "202146",
          "202147",
          "202148",
          "202149",
          "202150",
          "202151",
          "202152",
          "202201",
          "202202",
          "202203",
          "202204",
          "202205",
          "202206",
          "202207",
          "202208",
          "202209",
          "202210",
          "202211",
          "202212",
          "202213",
          "202214",
          "202215",
          "202216",
          "202217",
          "202218",
          "202219",
          "202220",
          "202221",
          "202222",
          "202223",
          "202224",
          "202225",
          "202226",
          "202227",
          "202228",
          "202229",
          "202230",
          "202231",
          "202232",
          "202233",
          "202234",
          "202235",
          "202236",
          "202237",
          "202238",
          "202239",
          "202240",
          "202241",
          "202242",
          "202243",
          "202244",
          "202245",
          "202246",
          "202247",
          "202248",
          "202249",
          "202250",
          "202251",
          "202252",
          "202301",
          "202302",
          "202303",
          "202304",
          "202305",
          "202306",
          "202307",
          "202308",
          "202309",
          "202310",
          "202311",
          "202312",
          "202313",
          "202314",
          "202315",
          "202316",
          "202317",
          "202318",
          "202319",
          "202320",
          "202321",
          "202322",
          "202323",
          "202324",
          "202325",
          "202326",
          "202327",
          "202328",
          "202329",
          "202330",
          "202331",
          "202332",
          "202333",
          "202334",
          "202335",
          "202336",
          "202337",
          "202338",
          "202339",
          "202340",
          "202341",
          "202342",
          "202343",
          "202344",
          "202345",
          "202346",
          "202347",
          "202348",
          "202349",
          "202350",
          "202351",
          "202352",
          "202401",
          "202402",
          "202403",
          "202404",
          "202405",
          "202406",
          "202407",
          "202408",
          "202409",
          "202410",
          "202411",
          "202412",
          "202413",
          "202414",
          "202415",
          "202416",
          "202417",
          "202418",
          "202419",
          "202420",
          "202421",
          "202422",
          "202423",
          "202424",
          "202425",
          "202426",
          "202427",
          "202428",
          "202429",
          "202430",
          "202431",
          "202432",
          "202433",
          "202434",
          "202435",
          "202436",
          "202437",
          "202438",
          "202439",
          "202440",
          "202441",
          "202442",
          "202443",
          "202444",
          "202445",
          "202446"
         ],
         "y": [
          766.0,
          791.0,
          611.0,
          595.0,
          554.0,
          481.0,
          447.0,
          395.0,
          384.0,
          555.0,
          576.0,
          607.0,
          500.0,
          497.0,
          606.0,
          825.0,
          881.0,
          951.0,
          1038.0,
          1040.0,
          1146.0,
          1164.0,
          1145.0,
          933.0,
          778.0,
          636.0,
          527.0,
          391.0,
          280.0,
          330.0,
          254.0,
          225.0,
          184.0,
          148.0,
          126.0,
          122.0,
          134.0,
          169.0,
          193.0,
          185.0,
          169.0,
          183.0,
          177.0,
          219.0,
          242.0,
          223.0,
          230.0,
          209.0,
          263.0,
          360.0,
          510.0,
          755.0,
          1106.0,
          1337.0,
          1289.0,
          1141.0,
          1017.0,
          793.0,
          544.0,
          476.0,
          320.0,
          268.0,
          202.0,
          231.0,
          159.0,
          130.0,
          98.0,
          121.0,
          143.0,
          166.0,
          183.0,
          174.0,
          224.0,
          670.0,
          1088.0,
          1348.0,
          1369.0,
          1386.0,
          1059.0,
          727.0,
          359.0,
          245.0,
          154.0,
          85.0,
          65.0,
          47.0,
          31.0,
          17.0,
          22.0,
          34.0,
          30.0,
          41.0,
          60.0,
          85.0,
          74.0,
          133.0,
          152.0,
          226.0,
          308.0,
          327.0,
          395.0,
          445.0,
          459.0,
          428.0,
          382.0,
          293.0,
          323.0,
          275.0,
          269.0,
          235.0,
          157.0,
          144.0,
          121.0,
          98.0,
          87.0,
          77.0,
          70.0,
          78.0,
          75.0,
          83.0,
          88.0,
          177.0,
          191.0,
          219.0,
          252.0,
          472.0,
          459.0,
          371.0,
          281.0,
          188.0,
          194.0,
          203.0,
          189.0,
          163.0,
          112.0,
          80.0,
          79.0,
          87.0,
          70.0,
          78.0,
          84.0,
          88.0,
          73.0,
          47.0,
          47.0,
          51.0,
          54.0,
          51.0,
          33.0,
          17.0,
          40.0,
          36.0,
          34.0,
          50.0,
          56.0,
          76.0,
          103.0,
          137.0,
          198.0,
          213.0,
          154.0,
          158.0,
          176.0,
          123.0,
          127.0,
          104.0,
          54.0,
          81.0,
          91.0,
          88.0,
          118.0,
          90.0,
          116.0,
          115.0,
          140.0,
          136.0,
          167.0,
          209.0,
          232.0,
          250.0,
          173.0,
          166.0,
          175.0,
          185.0,
          164.0,
          150.0,
          151.0,
          149.0,
          102.0,
          102.0,
          53.0,
          54.0,
          42.0,
          37.0,
          33.0,
          12.0,
          8.0,
          9.0,
          10.0,
          2.0,
          10.0,
          8.0,
          4.0,
          13.0,
          23.0,
          36.0,
          35.0,
          46.0,
          56.0,
          62.0,
          71.0,
          80.0,
          71.0,
          50.0,
          40.0,
          45.0,
          17.0,
          16.0,
          0.0,
          7.0,
          5.0,
          22.0,
          37.0,
          34.0
         ],
         "type": "scatter"
        },
        {
         "mode": "lines",
         "name": "HHS Time Series",
         "x": [
          "202032",
          "202033",
          "202034",
          "202035",
          "202036",
          "202037",
          "202038",
          "202039",
          "202040",
          "202041",
          "202042",
          "202043",
          "202044",
          "202045",
          "202046",
          "202047",
          "202048",
          "202049",
          "202050",
          "202051",
          "202052",
          "202053",
          "202101",
          "202102",
          "202103",
          "202104",
          "202105",
          "202106",
          "202107",
          "202108",
          "202109",
          "202110",
          "202111",
          "202112",
          "202113",
          "202114",
          "202115",
          "202116",
          "202117",
          "202118",
          "202119",
          "202120",
          "202121",
          "202122",
          "202123",
          "202124",
          "202125",
          "202126",
          "202127",
          "202128",
          "202129",
          "202130",
          "202131",
          "202132",
          "202133",
          "202134",
          "202135",
          "202136",
          "202137",
          "202138",
          "202139",
          "202140",
          "202141",
          "202142",
          "202143",
          "202144",
          "202145",
          "202146",
          "202147",
          "202148",
          "202149",
          "202150",
          "202151",
          "202152",
          "202201",
          "202202",
          "202203",
          "202204",
          "202205",
          "202206",
          "202207",
          "202208",
          "202209",
          "202210",
          "202211",
          "202212",
          "202213",
          "202214",
          "202215",
          "202216",
          "202217",
          "202218",
          "202219",
          "202220",
          "202221",
          "202222",
          "202223",
          "202224",
          "202225",
          "202226",
          "202227",
          "202228",
          "202229",
          "202230",
          "202231",
          "202232",
          "202233",
          "202234",
          "202235",
          "202236",
          "202237",
          "202238",
          "202239",
          "202240",
          "202241",
          "202242",
          "202243",
          "202244",
          "202245",
          "202246",
          "202247",
          "202248",
          "202249",
          "202250",
          "202251",
          "202252",
          "202301",
          "202302",
          "202303",
          "202304",
          "202305",
          "202306",
          "202307",
          "202308",
          "202309",
          "202310",
          "202311",
          "202312",
          "202313",
          "202314",
          "202315",
          "202316",
          "202317",
          "202318",
          "202319",
          "202320",
          "202321",
          "202322",
          "202323",
          "202324",
          "202325",
          "202326",
          "202327",
          "202328",
          "202329",
          "202330",
          "202331",
          "202332",
          "202333",
          "202334",
          "202335",
          "202336",
          "202337",
          "202338",
          "202339",
          "202340",
          "202341",
          "202342",
          "202343",
          "202344",
          "202345",
          "202346",
          "202347",
          "202348",
          "202349",
          "202350",
          "202351",
          "202352",
          "202401",
          "202402",
          "202403",
          "202404",
          "202405",
          "202406",
          "202407",
          "202408",
          "202409",
          "202410",
          "202411",
          "202412",
          "202413",
          "202414",
          "202415",
          "202416",
          "202417"
         ],
         "y": [
          107.0,
          834.0,
          601.0,
          626.0,
          573.0,
          517.0,
          459.0,
          449.0,
          432.0,
          619.0,
          602.0,
          613.0,
          497.0,
          540.0,
          614.0,
          854.0,
          880.0,
          977.0,
          1042.0,
          1090.0,
          1128.0,
          1172.0,
          1133.0,
          906.0,
          743.0,
          633.0,
          504.0,
          385.0,
          286.0,
          316.0,
          253.0,
          212.0,
          180.0,
          149.0,
          121.0,
          129.0,
          132.0,
          178.0,
          191.0,
          184.0,
          165.0,
          192.0,
          178.0,
          220.0,
          241.0,
          222.0,
          235.0,
          209.0,
          273.0,
          375.0,
          525.0,
          823.0,
          1140.0,
          1351.0,
          1296.0,
          1132.0,
          991.0,
          769.0,
          530.0,
          453.0,
          321.0,
          256.0,
          195.0,
          238.0,
          147.0,
          121.0,
          110.0,
          121.0,
          141.0,
          171.0,
          177.0,
          180.0,
          248.0,
          732.0,
          1142.0,
          1335.0,
          1381.0,
          1262.0,
          988.0,
          634.0,
          339.0,
          245.0,
          132.0,
          85.0,
          63.0,
          42.0,
          30.0,
          18.0,
          27.0,
          29.0,
          33.0,
          42.0,
          66.0,
          90.0,
          71.0,
          128.0,
          163.0,
          233.0,
          309.0,
          319.0,
          407.0,
          438.0,
          463.0,
          429.0,
          367.0,
          301.0,
          312.0,
          264.0,
          276.0,
          227.0,
          156.0,
          137.0,
          116.0,
          89.0,
          98.0,
          75.0,
          66.0,
          67.0,
          71.0,
          94.0,
          95.0,
          174.0,
          197.0,
          237.0,
          259.0,
          494.0,
          421.0,
          364.0,
          273.0,
          191.0,
          170.0,
          196.0,
          183.0,
          153.0,
          115.0,
          69.0,
          82.0,
          85.0,
          70.0,
          79.0,
          80.0,
          83.0,
          71.0,
          46.0,
          48.0,
          49.0,
          50.0,
          45.0,
          31.0,
          15.0,
          40.0,
          38.0,
          30.0,
          48.0,
          58.0,
          78.0,
          109.0,
          134.0,
          178.0,
          181.0,
          131.0,
          158.0,
          151.0,
          108.0,
          115.0,
          83.0,
          49.0,
          70.0,
          83.0,
          82.0,
          92.0,
          83.0,
          113.0,
          101.0,
          130.0,
          139.0,
          146.0,
          207.0,
          217.0,
          234.0,
          160.0,
          153.0,
          146.0,
          173.0,
          145.0,
          138.0,
          150.0,
          137.0,
          91.0,
          73.0,
          44.0,
          53.0,
          35.0,
          36.0,
          26.0
         ],
         "type": "scatter"
        },
        {
         "marker": {
          "color": "green"
         },
         "mode": "markers",
         "name": "NHSN points",
         "x": [
          "202032",
          "202340",
          "202345",
          "202412"
         ],
         "y": [
          766.0,
          104.0,
          118.0,
          102.0
         ],
         "type": "scatter"
        },
        {
         "marker": {
          "color": "green"
         },
         "mode": "markers",
         "name": "HHS points",
         "x": [
          "202032",
          "202340",
          "202345",
          "202412"
         ],
         "y": [
          107.0,
          83.0,
          92.0,
          73.0
         ],
         "type": "scatter"
        }
       ],
       "layout": {
        "template": {
         "data": {
          "histogram2dcontour": [
           {
            "type": "histogram2dcontour",
            "colorbar": {
             "outlinewidth": 0,
             "ticks": ""
            },
            "colorscale": [
             [
              0.0,
              "#0d0887"
             ],
             [
              0.1111111111111111,
              "#46039f"
             ],
             [
              0.2222222222222222,
              "#7201a8"
             ],
             [
              0.3333333333333333,
              "#9c179e"
             ],
             [
              0.4444444444444444,
              "#bd3786"
             ],
             [
              0.5555555555555556,
              "#d8576b"
             ],
             [
              0.6666666666666666,
              "#ed7953"
             ],
             [
              0.7777777777777778,
              "#fb9f3a"
             ],
             [
              0.8888888888888888,
              "#fdca26"
             ],
             [
              1.0,
              "#f0f921"
             ]
            ]
           }
          ],
          "choropleth": [
           {
            "type": "choropleth",
            "colorbar": {
             "outlinewidth": 0,
             "ticks": ""
            }
           }
          ],
          "histogram2d": [
           {
            "type": "histogram2d",
            "colorbar": {
             "outlinewidth": 0,
             "ticks": ""
            },
            "colorscale": [
             [
              0.0,
              "#0d0887"
             ],
             [
              0.1111111111111111,
              "#46039f"
             ],
             [
              0.2222222222222222,
              "#7201a8"
             ],
             [
              0.3333333333333333,
              "#9c179e"
             ],
             [
              0.4444444444444444,
              "#bd3786"
             ],
             [
              0.5555555555555556,
              "#d8576b"
             ],
             [
              0.6666666666666666,
              "#ed7953"
             ],
             [
              0.7777777777777778,
              "#fb9f3a"
             ],
             [
              0.8888888888888888,
              "#fdca26"
             ],
             [
              1.0,
              "#f0f921"
             ]
            ]
           }
          ],
          "heatmap": [
           {
            "type": "heatmap",
            "colorbar": {
             "outlinewidth": 0,
             "ticks": ""
            },
            "colorscale": [
             [
              0.0,
              "#0d0887"
             ],
             [
              0.1111111111111111,
              "#46039f"
             ],
             [
              0.2222222222222222,
              "#7201a8"
             ],
             [
              0.3333333333333333,
              "#9c179e"
             ],
             [
              0.4444444444444444,
              "#bd3786"
             ],
             [
              0.5555555555555556,
              "#d8576b"
             ],
             [
              0.6666666666666666,
              "#ed7953"
             ],
             [
              0.7777777777777778,
              "#fb9f3a"
             ],
             [
              0.8888888888888888,
              "#fdca26"
             ],
             [
              1.0,
              "#f0f921"
             ]
            ]
           }
          ],
          "heatmapgl": [
           {
            "type": "heatmapgl",
            "colorbar": {
             "outlinewidth": 0,
             "ticks": ""
            },
            "colorscale": [
             [
              0.0,
              "#0d0887"
             ],
             [
              0.1111111111111111,
              "#46039f"
             ],
             [
              0.2222222222222222,
              "#7201a8"
             ],
             [
              0.3333333333333333,
              "#9c179e"
             ],
             [
              0.4444444444444444,
              "#bd3786"
             ],
             [
              0.5555555555555556,
              "#d8576b"
             ],
             [
              0.6666666666666666,
              "#ed7953"
             ],
             [
              0.7777777777777778,
              "#fb9f3a"
             ],
             [
              0.8888888888888888,
              "#fdca26"
             ],
             [
              1.0,
              "#f0f921"
             ]
            ]
           }
          ],
          "contourcarpet": [
           {
            "type": "contourcarpet",
            "colorbar": {
             "outlinewidth": 0,
             "ticks": ""
            }
           }
          ],
          "contour": [
           {
            "type": "contour",
            "colorbar": {
             "outlinewidth": 0,
             "ticks": ""
            },
            "colorscale": [
             [
              0.0,
              "#0d0887"
             ],
             [
              0.1111111111111111,
              "#46039f"
             ],
             [
              0.2222222222222222,
              "#7201a8"
             ],
             [
              0.3333333333333333,
              "#9c179e"
             ],
             [
              0.4444444444444444,
              "#bd3786"
             ],
             [
              0.5555555555555556,
              "#d8576b"
             ],
             [
              0.6666666666666666,
              "#ed7953"
             ],
             [
              0.7777777777777778,
              "#fb9f3a"
             ],
             [
              0.8888888888888888,
              "#fdca26"
             ],
             [
              1.0,
              "#f0f921"
             ]
            ]
           }
          ],
          "surface": [
           {
            "type": "surface",
            "colorbar": {
             "outlinewidth": 0,
             "ticks": ""
            },
            "colorscale": [
             [
              0.0,
              "#0d0887"
             ],
             [
              0.1111111111111111,
              "#46039f"
             ],
             [
              0.2222222222222222,
              "#7201a8"
             ],
             [
              0.3333333333333333,
              "#9c179e"
             ],
             [
              0.4444444444444444,
              "#bd3786"
             ],
             [
              0.5555555555555556,
              "#d8576b"
             ],
             [
              0.6666666666666666,
              "#ed7953"
             ],
             [
              0.7777777777777778,
              "#fb9f3a"
             ],
             [
              0.8888888888888888,
              "#fdca26"
             ],
             [
              1.0,
              "#f0f921"
             ]
            ]
           }
          ],
          "mesh3d": [
           {
            "type": "mesh3d",
            "colorbar": {
             "outlinewidth": 0,
             "ticks": ""
            }
           }
          ],
          "scatter": [
           {
            "marker": {
             "line": {
              "color": "#283442"
             }
            },
            "type": "scatter"
           }
          ],
          "parcoords": [
           {
            "type": "parcoords",
            "line": {
             "colorbar": {
              "outlinewidth": 0,
              "ticks": ""
             }
            }
           }
          ],
          "scatterpolargl": [
           {
            "type": "scatterpolargl",
            "marker": {
             "colorbar": {
              "outlinewidth": 0,
              "ticks": ""
             }
            }
           }
          ],
          "bar": [
           {
            "error_x": {
             "color": "#f2f5fa"
            },
            "error_y": {
             "color": "#f2f5fa"
            },
            "marker": {
             "line": {
              "color": "rgb(17,17,17)",
              "width": 0.5
             },
             "pattern": {
              "fillmode": "overlay",
              "size": 10,
              "solidity": 0.2
             }
            },
            "type": "bar"
           }
          ],
          "scattergeo": [
           {
            "type": "scattergeo",
            "marker": {
             "colorbar": {
              "outlinewidth": 0,
              "ticks": ""
             }
            }
           }
          ],
          "scatterpolar": [
           {
            "type": "scatterpolar",
            "marker": {
             "colorbar": {
              "outlinewidth": 0,
              "ticks": ""
             }
            }
           }
          ],
          "histogram": [
           {
            "marker": {
             "pattern": {
              "fillmode": "overlay",
              "size": 10,
              "solidity": 0.2
             }
            },
            "type": "histogram"
           }
          ],
          "scattergl": [
           {
            "marker": {
             "line": {
              "color": "#283442"
             }
            },
            "type": "scattergl"
           }
          ],
          "scatter3d": [
           {
            "type": "scatter3d",
            "line": {
             "colorbar": {
              "outlinewidth": 0,
              "ticks": ""
             }
            },
            "marker": {
             "colorbar": {
              "outlinewidth": 0,
              "ticks": ""
             }
            }
           }
          ],
          "scattermapbox": [
           {
            "type": "scattermapbox",
            "marker": {
             "colorbar": {
              "outlinewidth": 0,
              "ticks": ""
             }
            }
           }
          ],
          "scatterternary": [
           {
            "type": "scatterternary",
            "marker": {
             "colorbar": {
              "outlinewidth": 0,
              "ticks": ""
             }
            }
           }
          ],
          "scattercarpet": [
           {
            "type": "scattercarpet",
            "marker": {
             "colorbar": {
              "outlinewidth": 0,
              "ticks": ""
             }
            }
           }
          ],
          "carpet": [
           {
            "aaxis": {
             "endlinecolor": "#A2B1C6",
             "gridcolor": "#506784",
             "linecolor": "#506784",
             "minorgridcolor": "#506784",
             "startlinecolor": "#A2B1C6"
            },
            "baxis": {
             "endlinecolor": "#A2B1C6",
             "gridcolor": "#506784",
             "linecolor": "#506784",
             "minorgridcolor": "#506784",
             "startlinecolor": "#A2B1C6"
            },
            "type": "carpet"
           }
          ],
          "table": [
           {
            "cells": {
             "fill": {
              "color": "#506784"
             },
             "line": {
              "color": "rgb(17,17,17)"
             }
            },
            "header": {
             "fill": {
              "color": "#2a3f5f"
             },
             "line": {
              "color": "rgb(17,17,17)"
             }
            },
            "type": "table"
           }
          ],
          "barpolar": [
           {
            "marker": {
             "line": {
              "color": "rgb(17,17,17)",
              "width": 0.5
             },
             "pattern": {
              "fillmode": "overlay",
              "size": 10,
              "solidity": 0.2
             }
            },
            "type": "barpolar"
           }
          ],
          "pie": [
           {
            "automargin": true,
            "type": "pie"
           }
          ]
         },
         "layout": {
          "autotypenumbers": "strict",
          "colorway": [
           "#636efa",
           "#EF553B",
           "#00cc96",
           "#ab63fa",
           "#FFA15A",
           "#19d3f3",
           "#FF6692",
           "#B6E880",
           "#FF97FF",
           "#FECB52"
          ],
          "font": {
           "color": "#f2f5fa"
          },
          "hovermode": "closest",
          "hoverlabel": {
           "align": "left"
          },
          "paper_bgcolor": "rgb(17,17,17)",
          "plot_bgcolor": "rgb(17,17,17)",
          "polar": {
           "bgcolor": "rgb(17,17,17)",
           "angularaxis": {
            "gridcolor": "#506784",
            "linecolor": "#506784",
            "ticks": ""
           },
           "radialaxis": {
            "gridcolor": "#506784",
            "linecolor": "#506784",
            "ticks": ""
           }
          },
          "ternary": {
           "bgcolor": "rgb(17,17,17)",
           "aaxis": {
            "gridcolor": "#506784",
            "linecolor": "#506784",
            "ticks": ""
           },
           "baxis": {
            "gridcolor": "#506784",
            "linecolor": "#506784",
            "ticks": ""
           },
           "caxis": {
            "gridcolor": "#506784",
            "linecolor": "#506784",
            "ticks": ""
           }
          },
          "coloraxis": {
           "colorbar": {
            "outlinewidth": 0,
            "ticks": ""
           }
          },
          "colorscale": {
           "sequential": [
            [
             0.0,
             "#0d0887"
            ],
            [
             0.1111111111111111,
             "#46039f"
            ],
            [
             0.2222222222222222,
             "#7201a8"
            ],
            [
             0.3333333333333333,
             "#9c179e"
            ],
            [
             0.4444444444444444,
             "#bd3786"
            ],
            [
             0.5555555555555556,
             "#d8576b"
            ],
            [
             0.6666666666666666,
             "#ed7953"
            ],
            [
             0.7777777777777778,
             "#fb9f3a"
            ],
            [
             0.8888888888888888,
             "#fdca26"
            ],
            [
             1.0,
             "#f0f921"
            ]
           ],
           "sequentialminus": [
            [
             0.0,
             "#0d0887"
            ],
            [
             0.1111111111111111,
             "#46039f"
            ],
            [
             0.2222222222222222,
             "#7201a8"
            ],
            [
             0.3333333333333333,
             "#9c179e"
            ],
            [
             0.4444444444444444,
             "#bd3786"
            ],
            [
             0.5555555555555556,
             "#d8576b"
            ],
            [
             0.6666666666666666,
             "#ed7953"
            ],
            [
             0.7777777777777778,
             "#fb9f3a"
            ],
            [
             0.8888888888888888,
             "#fdca26"
            ],
            [
             1.0,
             "#f0f921"
            ]
           ],
           "diverging": [
            [
             0,
             "#8e0152"
            ],
            [
             0.1,
             "#c51b7d"
            ],
            [
             0.2,
             "#de77ae"
            ],
            [
             0.3,
             "#f1b6da"
            ],
            [
             0.4,
             "#fde0ef"
            ],
            [
             0.5,
             "#f7f7f7"
            ],
            [
             0.6,
             "#e6f5d0"
            ],
            [
             0.7,
             "#b8e186"
            ],
            [
             0.8,
             "#7fbc41"
            ],
            [
             0.9,
             "#4d9221"
            ],
            [
             1,
             "#276419"
            ]
           ]
          },
          "xaxis": {
           "gridcolor": "#283442",
           "linecolor": "#506784",
           "ticks": "",
           "title": {
            "standoff": 15
           },
           "zerolinecolor": "#283442",
           "automargin": true,
           "zerolinewidth": 2
          },
          "yaxis": {
           "gridcolor": "#283442",
           "linecolor": "#506784",
           "ticks": "",
           "title": {
            "standoff": 15
           },
           "zerolinecolor": "#283442",
           "automargin": true,
           "zerolinewidth": 2
          },
          "scene": {
           "xaxis": {
            "backgroundcolor": "rgb(17,17,17)",
            "gridcolor": "#506784",
            "linecolor": "#506784",
            "showbackground": true,
            "ticks": "",
            "zerolinecolor": "#C8D4E3",
            "gridwidth": 2
           },
           "yaxis": {
            "backgroundcolor": "rgb(17,17,17)",
            "gridcolor": "#506784",
            "linecolor": "#506784",
            "showbackground": true,
            "ticks": "",
            "zerolinecolor": "#C8D4E3",
            "gridwidth": 2
           },
           "zaxis": {
            "backgroundcolor": "rgb(17,17,17)",
            "gridcolor": "#506784",
            "linecolor": "#506784",
            "showbackground": true,
            "ticks": "",
            "zerolinecolor": "#C8D4E3",
            "gridwidth": 2
           }
          },
          "shapedefaults": {
           "line": {
            "color": "#f2f5fa"
           }
          },
          "annotationdefaults": {
           "arrowcolor": "#f2f5fa",
           "arrowhead": 0,
           "arrowwidth": 1
          },
          "geo": {
           "bgcolor": "rgb(17,17,17)",
           "landcolor": "rgb(17,17,17)",
           "subunitcolor": "#506784",
           "showland": true,
           "showlakes": true,
           "lakecolor": "rgb(17,17,17)"
          },
          "title": {
           "x": 0.05
          },
          "updatemenudefaults": {
           "bgcolor": "#506784",
           "borderwidth": 0
          },
          "sliderdefaults": {
           "bgcolor": "#C8D4E3",
           "borderwidth": 1,
           "bordercolor": "rgb(17,17,17)",
           "tickwidth": 0
          },
          "mapbox": {
           "style": "dark"
          }
         }
        },
        "title": {
         "text": "MS NHSN vs HHS value over time with (diff > 20% and val > 100) markers"
        }
       },
       "config": {
        "plotlyServerURL": "https://plot.ly"
       }
      },
      "text/html": [
       "<div>                            <div id=\"b4641c9d-7bf5-4b38-815c-1d925a42c80d\" class=\"plotly-graph-div\" style=\"height:525px; width:100%;\"></div>            <script type=\"text/javascript\">                require([\"plotly\"], function(Plotly) {                    window.PLOTLYENV=window.PLOTLYENV || {};                                    if (document.getElementById(\"b4641c9d-7bf5-4b38-815c-1d925a42c80d\")) {                    Plotly.newPlot(                        \"b4641c9d-7bf5-4b38-815c-1d925a42c80d\",                        [{\"mode\":\"lines\",\"name\":\"NHSN Time Series\",\"x\":[\"202032\",\"202033\",\"202034\",\"202035\",\"202036\",\"202037\",\"202038\",\"202039\",\"202040\",\"202041\",\"202042\",\"202043\",\"202044\",\"202045\",\"202046\",\"202047\",\"202048\",\"202049\",\"202050\",\"202051\",\"202052\",\"202053\",\"202101\",\"202102\",\"202103\",\"202104\",\"202105\",\"202106\",\"202107\",\"202108\",\"202109\",\"202110\",\"202111\",\"202112\",\"202113\",\"202114\",\"202115\",\"202116\",\"202117\",\"202118\",\"202119\",\"202120\",\"202121\",\"202122\",\"202123\",\"202124\",\"202125\",\"202126\",\"202127\",\"202128\",\"202129\",\"202130\",\"202131\",\"202132\",\"202133\",\"202134\",\"202135\",\"202136\",\"202137\",\"202138\",\"202139\",\"202140\",\"202141\",\"202142\",\"202143\",\"202144\",\"202145\",\"202146\",\"202147\",\"202148\",\"202149\",\"202150\",\"202151\",\"202152\",\"202201\",\"202202\",\"202203\",\"202204\",\"202205\",\"202206\",\"202207\",\"202208\",\"202209\",\"202210\",\"202211\",\"202212\",\"202213\",\"202214\",\"202215\",\"202216\",\"202217\",\"202218\",\"202219\",\"202220\",\"202221\",\"202222\",\"202223\",\"202224\",\"202225\",\"202226\",\"202227\",\"202228\",\"202229\",\"202230\",\"202231\",\"202232\",\"202233\",\"202234\",\"202235\",\"202236\",\"202237\",\"202238\",\"202239\",\"202240\",\"202241\",\"202242\",\"202243\",\"202244\",\"202245\",\"202246\",\"202247\",\"202248\",\"202249\",\"202250\",\"202251\",\"202252\",\"202301\",\"202302\",\"202303\",\"202304\",\"202305\",\"202306\",\"202307\",\"202308\",\"202309\",\"202310\",\"202311\",\"202312\",\"202313\",\"202314\",\"202315\",\"202316\",\"202317\",\"202318\",\"202319\",\"202320\",\"202321\",\"202322\",\"202323\",\"202324\",\"202325\",\"202326\",\"202327\",\"202328\",\"202329\",\"202330\",\"202331\",\"202332\",\"202333\",\"202334\",\"202335\",\"202336\",\"202337\",\"202338\",\"202339\",\"202340\",\"202341\",\"202342\",\"202343\",\"202344\",\"202345\",\"202346\",\"202347\",\"202348\",\"202349\",\"202350\",\"202351\",\"202352\",\"202401\",\"202402\",\"202403\",\"202404\",\"202405\",\"202406\",\"202407\",\"202408\",\"202409\",\"202410\",\"202411\",\"202412\",\"202413\",\"202414\",\"202415\",\"202416\",\"202417\",\"202418\",\"202419\",\"202420\",\"202421\",\"202422\",\"202423\",\"202424\",\"202425\",\"202426\",\"202427\",\"202428\",\"202429\",\"202430\",\"202431\",\"202432\",\"202433\",\"202434\",\"202435\",\"202436\",\"202437\",\"202438\",\"202439\",\"202440\",\"202441\",\"202442\",\"202443\",\"202444\",\"202445\",\"202446\"],\"y\":[766.0,791.0,611.0,595.0,554.0,481.0,447.0,395.0,384.0,555.0,576.0,607.0,500.0,497.0,606.0,825.0,881.0,951.0,1038.0,1040.0,1146.0,1164.0,1145.0,933.0,778.0,636.0,527.0,391.0,280.0,330.0,254.0,225.0,184.0,148.0,126.0,122.0,134.0,169.0,193.0,185.0,169.0,183.0,177.0,219.0,242.0,223.0,230.0,209.0,263.0,360.0,510.0,755.0,1106.0,1337.0,1289.0,1141.0,1017.0,793.0,544.0,476.0,320.0,268.0,202.0,231.0,159.0,130.0,98.0,121.0,143.0,166.0,183.0,174.0,224.0,670.0,1088.0,1348.0,1369.0,1386.0,1059.0,727.0,359.0,245.0,154.0,85.0,65.0,47.0,31.0,17.0,22.0,34.0,30.0,41.0,60.0,85.0,74.0,133.0,152.0,226.0,308.0,327.0,395.0,445.0,459.0,428.0,382.0,293.0,323.0,275.0,269.0,235.0,157.0,144.0,121.0,98.0,87.0,77.0,70.0,78.0,75.0,83.0,88.0,177.0,191.0,219.0,252.0,472.0,459.0,371.0,281.0,188.0,194.0,203.0,189.0,163.0,112.0,80.0,79.0,87.0,70.0,78.0,84.0,88.0,73.0,47.0,47.0,51.0,54.0,51.0,33.0,17.0,40.0,36.0,34.0,50.0,56.0,76.0,103.0,137.0,198.0,213.0,154.0,158.0,176.0,123.0,127.0,104.0,54.0,81.0,91.0,88.0,118.0,90.0,116.0,115.0,140.0,136.0,167.0,209.0,232.0,250.0,173.0,166.0,175.0,185.0,164.0,150.0,151.0,149.0,102.0,102.0,53.0,54.0,42.0,37.0,33.0,12.0,8.0,9.0,10.0,2.0,10.0,8.0,4.0,13.0,23.0,36.0,35.0,46.0,56.0,62.0,71.0,80.0,71.0,50.0,40.0,45.0,17.0,16.0,0.0,7.0,5.0,22.0,37.0,34.0],\"type\":\"scatter\"},{\"mode\":\"lines\",\"name\":\"HHS Time Series\",\"x\":[\"202032\",\"202033\",\"202034\",\"202035\",\"202036\",\"202037\",\"202038\",\"202039\",\"202040\",\"202041\",\"202042\",\"202043\",\"202044\",\"202045\",\"202046\",\"202047\",\"202048\",\"202049\",\"202050\",\"202051\",\"202052\",\"202053\",\"202101\",\"202102\",\"202103\",\"202104\",\"202105\",\"202106\",\"202107\",\"202108\",\"202109\",\"202110\",\"202111\",\"202112\",\"202113\",\"202114\",\"202115\",\"202116\",\"202117\",\"202118\",\"202119\",\"202120\",\"202121\",\"202122\",\"202123\",\"202124\",\"202125\",\"202126\",\"202127\",\"202128\",\"202129\",\"202130\",\"202131\",\"202132\",\"202133\",\"202134\",\"202135\",\"202136\",\"202137\",\"202138\",\"202139\",\"202140\",\"202141\",\"202142\",\"202143\",\"202144\",\"202145\",\"202146\",\"202147\",\"202148\",\"202149\",\"202150\",\"202151\",\"202152\",\"202201\",\"202202\",\"202203\",\"202204\",\"202205\",\"202206\",\"202207\",\"202208\",\"202209\",\"202210\",\"202211\",\"202212\",\"202213\",\"202214\",\"202215\",\"202216\",\"202217\",\"202218\",\"202219\",\"202220\",\"202221\",\"202222\",\"202223\",\"202224\",\"202225\",\"202226\",\"202227\",\"202228\",\"202229\",\"202230\",\"202231\",\"202232\",\"202233\",\"202234\",\"202235\",\"202236\",\"202237\",\"202238\",\"202239\",\"202240\",\"202241\",\"202242\",\"202243\",\"202244\",\"202245\",\"202246\",\"202247\",\"202248\",\"202249\",\"202250\",\"202251\",\"202252\",\"202301\",\"202302\",\"202303\",\"202304\",\"202305\",\"202306\",\"202307\",\"202308\",\"202309\",\"202310\",\"202311\",\"202312\",\"202313\",\"202314\",\"202315\",\"202316\",\"202317\",\"202318\",\"202319\",\"202320\",\"202321\",\"202322\",\"202323\",\"202324\",\"202325\",\"202326\",\"202327\",\"202328\",\"202329\",\"202330\",\"202331\",\"202332\",\"202333\",\"202334\",\"202335\",\"202336\",\"202337\",\"202338\",\"202339\",\"202340\",\"202341\",\"202342\",\"202343\",\"202344\",\"202345\",\"202346\",\"202347\",\"202348\",\"202349\",\"202350\",\"202351\",\"202352\",\"202401\",\"202402\",\"202403\",\"202404\",\"202405\",\"202406\",\"202407\",\"202408\",\"202409\",\"202410\",\"202411\",\"202412\",\"202413\",\"202414\",\"202415\",\"202416\",\"202417\"],\"y\":[107.0,834.0,601.0,626.0,573.0,517.0,459.0,449.0,432.0,619.0,602.0,613.0,497.0,540.0,614.0,854.0,880.0,977.0,1042.0,1090.0,1128.0,1172.0,1133.0,906.0,743.0,633.0,504.0,385.0,286.0,316.0,253.0,212.0,180.0,149.0,121.0,129.0,132.0,178.0,191.0,184.0,165.0,192.0,178.0,220.0,241.0,222.0,235.0,209.0,273.0,375.0,525.0,823.0,1140.0,1351.0,1296.0,1132.0,991.0,769.0,530.0,453.0,321.0,256.0,195.0,238.0,147.0,121.0,110.0,121.0,141.0,171.0,177.0,180.0,248.0,732.0,1142.0,1335.0,1381.0,1262.0,988.0,634.0,339.0,245.0,132.0,85.0,63.0,42.0,30.0,18.0,27.0,29.0,33.0,42.0,66.0,90.0,71.0,128.0,163.0,233.0,309.0,319.0,407.0,438.0,463.0,429.0,367.0,301.0,312.0,264.0,276.0,227.0,156.0,137.0,116.0,89.0,98.0,75.0,66.0,67.0,71.0,94.0,95.0,174.0,197.0,237.0,259.0,494.0,421.0,364.0,273.0,191.0,170.0,196.0,183.0,153.0,115.0,69.0,82.0,85.0,70.0,79.0,80.0,83.0,71.0,46.0,48.0,49.0,50.0,45.0,31.0,15.0,40.0,38.0,30.0,48.0,58.0,78.0,109.0,134.0,178.0,181.0,131.0,158.0,151.0,108.0,115.0,83.0,49.0,70.0,83.0,82.0,92.0,83.0,113.0,101.0,130.0,139.0,146.0,207.0,217.0,234.0,160.0,153.0,146.0,173.0,145.0,138.0,150.0,137.0,91.0,73.0,44.0,53.0,35.0,36.0,26.0],\"type\":\"scatter\"},{\"marker\":{\"color\":\"green\"},\"mode\":\"markers\",\"name\":\"NHSN points\",\"x\":[\"202032\",\"202340\",\"202345\",\"202412\"],\"y\":[766.0,104.0,118.0,102.0],\"type\":\"scatter\"},{\"marker\":{\"color\":\"green\"},\"mode\":\"markers\",\"name\":\"HHS points\",\"x\":[\"202032\",\"202340\",\"202345\",\"202412\"],\"y\":[107.0,83.0,92.0,73.0],\"type\":\"scatter\"}],                        {\"template\":{\"data\":{\"histogram2dcontour\":[{\"type\":\"histogram2dcontour\",\"colorbar\":{\"outlinewidth\":0,\"ticks\":\"\"},\"colorscale\":[[0.0,\"#0d0887\"],[0.1111111111111111,\"#46039f\"],[0.2222222222222222,\"#7201a8\"],[0.3333333333333333,\"#9c179e\"],[0.4444444444444444,\"#bd3786\"],[0.5555555555555556,\"#d8576b\"],[0.6666666666666666,\"#ed7953\"],[0.7777777777777778,\"#fb9f3a\"],[0.8888888888888888,\"#fdca26\"],[1.0,\"#f0f921\"]]}],\"choropleth\":[{\"type\":\"choropleth\",\"colorbar\":{\"outlinewidth\":0,\"ticks\":\"\"}}],\"histogram2d\":[{\"type\":\"histogram2d\",\"colorbar\":{\"outlinewidth\":0,\"ticks\":\"\"},\"colorscale\":[[0.0,\"#0d0887\"],[0.1111111111111111,\"#46039f\"],[0.2222222222222222,\"#7201a8\"],[0.3333333333333333,\"#9c179e\"],[0.4444444444444444,\"#bd3786\"],[0.5555555555555556,\"#d8576b\"],[0.6666666666666666,\"#ed7953\"],[0.7777777777777778,\"#fb9f3a\"],[0.8888888888888888,\"#fdca26\"],[1.0,\"#f0f921\"]]}],\"heatmap\":[{\"type\":\"heatmap\",\"colorbar\":{\"outlinewidth\":0,\"ticks\":\"\"},\"colorscale\":[[0.0,\"#0d0887\"],[0.1111111111111111,\"#46039f\"],[0.2222222222222222,\"#7201a8\"],[0.3333333333333333,\"#9c179e\"],[0.4444444444444444,\"#bd3786\"],[0.5555555555555556,\"#d8576b\"],[0.6666666666666666,\"#ed7953\"],[0.7777777777777778,\"#fb9f3a\"],[0.8888888888888888,\"#fdca26\"],[1.0,\"#f0f921\"]]}],\"heatmapgl\":[{\"type\":\"heatmapgl\",\"colorbar\":{\"outlinewidth\":0,\"ticks\":\"\"},\"colorscale\":[[0.0,\"#0d0887\"],[0.1111111111111111,\"#46039f\"],[0.2222222222222222,\"#7201a8\"],[0.3333333333333333,\"#9c179e\"],[0.4444444444444444,\"#bd3786\"],[0.5555555555555556,\"#d8576b\"],[0.6666666666666666,\"#ed7953\"],[0.7777777777777778,\"#fb9f3a\"],[0.8888888888888888,\"#fdca26\"],[1.0,\"#f0f921\"]]}],\"contourcarpet\":[{\"type\":\"contourcarpet\",\"colorbar\":{\"outlinewidth\":0,\"ticks\":\"\"}}],\"contour\":[{\"type\":\"contour\",\"colorbar\":{\"outlinewidth\":0,\"ticks\":\"\"},\"colorscale\":[[0.0,\"#0d0887\"],[0.1111111111111111,\"#46039f\"],[0.2222222222222222,\"#7201a8\"],[0.3333333333333333,\"#9c179e\"],[0.4444444444444444,\"#bd3786\"],[0.5555555555555556,\"#d8576b\"],[0.6666666666666666,\"#ed7953\"],[0.7777777777777778,\"#fb9f3a\"],[0.8888888888888888,\"#fdca26\"],[1.0,\"#f0f921\"]]}],\"surface\":[{\"type\":\"surface\",\"colorbar\":{\"outlinewidth\":0,\"ticks\":\"\"},\"colorscale\":[[0.0,\"#0d0887\"],[0.1111111111111111,\"#46039f\"],[0.2222222222222222,\"#7201a8\"],[0.3333333333333333,\"#9c179e\"],[0.4444444444444444,\"#bd3786\"],[0.5555555555555556,\"#d8576b\"],[0.6666666666666666,\"#ed7953\"],[0.7777777777777778,\"#fb9f3a\"],[0.8888888888888888,\"#fdca26\"],[1.0,\"#f0f921\"]]}],\"mesh3d\":[{\"type\":\"mesh3d\",\"colorbar\":{\"outlinewidth\":0,\"ticks\":\"\"}}],\"scatter\":[{\"marker\":{\"line\":{\"color\":\"#283442\"}},\"type\":\"scatter\"}],\"parcoords\":[{\"type\":\"parcoords\",\"line\":{\"colorbar\":{\"outlinewidth\":0,\"ticks\":\"\"}}}],\"scatterpolargl\":[{\"type\":\"scatterpolargl\",\"marker\":{\"colorbar\":{\"outlinewidth\":0,\"ticks\":\"\"}}}],\"bar\":[{\"error_x\":{\"color\":\"#f2f5fa\"},\"error_y\":{\"color\":\"#f2f5fa\"},\"marker\":{\"line\":{\"color\":\"rgb(17,17,17)\",\"width\":0.5},\"pattern\":{\"fillmode\":\"overlay\",\"size\":10,\"solidity\":0.2}},\"type\":\"bar\"}],\"scattergeo\":[{\"type\":\"scattergeo\",\"marker\":{\"colorbar\":{\"outlinewidth\":0,\"ticks\":\"\"}}}],\"scatterpolar\":[{\"type\":\"scatterpolar\",\"marker\":{\"colorbar\":{\"outlinewidth\":0,\"ticks\":\"\"}}}],\"histogram\":[{\"marker\":{\"pattern\":{\"fillmode\":\"overlay\",\"size\":10,\"solidity\":0.2}},\"type\":\"histogram\"}],\"scattergl\":[{\"marker\":{\"line\":{\"color\":\"#283442\"}},\"type\":\"scattergl\"}],\"scatter3d\":[{\"type\":\"scatter3d\",\"line\":{\"colorbar\":{\"outlinewidth\":0,\"ticks\":\"\"}},\"marker\":{\"colorbar\":{\"outlinewidth\":0,\"ticks\":\"\"}}}],\"scattermapbox\":[{\"type\":\"scattermapbox\",\"marker\":{\"colorbar\":{\"outlinewidth\":0,\"ticks\":\"\"}}}],\"scatterternary\":[{\"type\":\"scatterternary\",\"marker\":{\"colorbar\":{\"outlinewidth\":0,\"ticks\":\"\"}}}],\"scattercarpet\":[{\"type\":\"scattercarpet\",\"marker\":{\"colorbar\":{\"outlinewidth\":0,\"ticks\":\"\"}}}],\"carpet\":[{\"aaxis\":{\"endlinecolor\":\"#A2B1C6\",\"gridcolor\":\"#506784\",\"linecolor\":\"#506784\",\"minorgridcolor\":\"#506784\",\"startlinecolor\":\"#A2B1C6\"},\"baxis\":{\"endlinecolor\":\"#A2B1C6\",\"gridcolor\":\"#506784\",\"linecolor\":\"#506784\",\"minorgridcolor\":\"#506784\",\"startlinecolor\":\"#A2B1C6\"},\"type\":\"carpet\"}],\"table\":[{\"cells\":{\"fill\":{\"color\":\"#506784\"},\"line\":{\"color\":\"rgb(17,17,17)\"}},\"header\":{\"fill\":{\"color\":\"#2a3f5f\"},\"line\":{\"color\":\"rgb(17,17,17)\"}},\"type\":\"table\"}],\"barpolar\":[{\"marker\":{\"line\":{\"color\":\"rgb(17,17,17)\",\"width\":0.5},\"pattern\":{\"fillmode\":\"overlay\",\"size\":10,\"solidity\":0.2}},\"type\":\"barpolar\"}],\"pie\":[{\"automargin\":true,\"type\":\"pie\"}]},\"layout\":{\"autotypenumbers\":\"strict\",\"colorway\":[\"#636efa\",\"#EF553B\",\"#00cc96\",\"#ab63fa\",\"#FFA15A\",\"#19d3f3\",\"#FF6692\",\"#B6E880\",\"#FF97FF\",\"#FECB52\"],\"font\":{\"color\":\"#f2f5fa\"},\"hovermode\":\"closest\",\"hoverlabel\":{\"align\":\"left\"},\"paper_bgcolor\":\"rgb(17,17,17)\",\"plot_bgcolor\":\"rgb(17,17,17)\",\"polar\":{\"bgcolor\":\"rgb(17,17,17)\",\"angularaxis\":{\"gridcolor\":\"#506784\",\"linecolor\":\"#506784\",\"ticks\":\"\"},\"radialaxis\":{\"gridcolor\":\"#506784\",\"linecolor\":\"#506784\",\"ticks\":\"\"}},\"ternary\":{\"bgcolor\":\"rgb(17,17,17)\",\"aaxis\":{\"gridcolor\":\"#506784\",\"linecolor\":\"#506784\",\"ticks\":\"\"},\"baxis\":{\"gridcolor\":\"#506784\",\"linecolor\":\"#506784\",\"ticks\":\"\"},\"caxis\":{\"gridcolor\":\"#506784\",\"linecolor\":\"#506784\",\"ticks\":\"\"}},\"coloraxis\":{\"colorbar\":{\"outlinewidth\":0,\"ticks\":\"\"}},\"colorscale\":{\"sequential\":[[0.0,\"#0d0887\"],[0.1111111111111111,\"#46039f\"],[0.2222222222222222,\"#7201a8\"],[0.3333333333333333,\"#9c179e\"],[0.4444444444444444,\"#bd3786\"],[0.5555555555555556,\"#d8576b\"],[0.6666666666666666,\"#ed7953\"],[0.7777777777777778,\"#fb9f3a\"],[0.8888888888888888,\"#fdca26\"],[1.0,\"#f0f921\"]],\"sequentialminus\":[[0.0,\"#0d0887\"],[0.1111111111111111,\"#46039f\"],[0.2222222222222222,\"#7201a8\"],[0.3333333333333333,\"#9c179e\"],[0.4444444444444444,\"#bd3786\"],[0.5555555555555556,\"#d8576b\"],[0.6666666666666666,\"#ed7953\"],[0.7777777777777778,\"#fb9f3a\"],[0.8888888888888888,\"#fdca26\"],[1.0,\"#f0f921\"]],\"diverging\":[[0,\"#8e0152\"],[0.1,\"#c51b7d\"],[0.2,\"#de77ae\"],[0.3,\"#f1b6da\"],[0.4,\"#fde0ef\"],[0.5,\"#f7f7f7\"],[0.6,\"#e6f5d0\"],[0.7,\"#b8e186\"],[0.8,\"#7fbc41\"],[0.9,\"#4d9221\"],[1,\"#276419\"]]},\"xaxis\":{\"gridcolor\":\"#283442\",\"linecolor\":\"#506784\",\"ticks\":\"\",\"title\":{\"standoff\":15},\"zerolinecolor\":\"#283442\",\"automargin\":true,\"zerolinewidth\":2},\"yaxis\":{\"gridcolor\":\"#283442\",\"linecolor\":\"#506784\",\"ticks\":\"\",\"title\":{\"standoff\":15},\"zerolinecolor\":\"#283442\",\"automargin\":true,\"zerolinewidth\":2},\"scene\":{\"xaxis\":{\"backgroundcolor\":\"rgb(17,17,17)\",\"gridcolor\":\"#506784\",\"linecolor\":\"#506784\",\"showbackground\":true,\"ticks\":\"\",\"zerolinecolor\":\"#C8D4E3\",\"gridwidth\":2},\"yaxis\":{\"backgroundcolor\":\"rgb(17,17,17)\",\"gridcolor\":\"#506784\",\"linecolor\":\"#506784\",\"showbackground\":true,\"ticks\":\"\",\"zerolinecolor\":\"#C8D4E3\",\"gridwidth\":2},\"zaxis\":{\"backgroundcolor\":\"rgb(17,17,17)\",\"gridcolor\":\"#506784\",\"linecolor\":\"#506784\",\"showbackground\":true,\"ticks\":\"\",\"zerolinecolor\":\"#C8D4E3\",\"gridwidth\":2}},\"shapedefaults\":{\"line\":{\"color\":\"#f2f5fa\"}},\"annotationdefaults\":{\"arrowcolor\":\"#f2f5fa\",\"arrowhead\":0,\"arrowwidth\":1},\"geo\":{\"bgcolor\":\"rgb(17,17,17)\",\"landcolor\":\"rgb(17,17,17)\",\"subunitcolor\":\"#506784\",\"showland\":true,\"showlakes\":true,\"lakecolor\":\"rgb(17,17,17)\"},\"title\":{\"x\":0.05},\"updatemenudefaults\":{\"bgcolor\":\"#506784\",\"borderwidth\":0},\"sliderdefaults\":{\"bgcolor\":\"#C8D4E3\",\"borderwidth\":1,\"bordercolor\":\"rgb(17,17,17)\",\"tickwidth\":0},\"mapbox\":{\"style\":\"dark\"}}},\"title\":{\"text\":\"MS NHSN vs HHS value over time with (diff \\u003e 20% and val \\u003e 100) markers\"}},                        {\"responsive\": true}                    ).then(function(){\n",
       "                            \n",
       "var gd = document.getElementById('b4641c9d-7bf5-4b38-815c-1d925a42c80d');\n",
       "var x = new MutationObserver(function (mutations, observer) {{\n",
       "        var display = window.getComputedStyle(gd).display;\n",
       "        if (!display || display === 'none') {{\n",
       "            console.log([gd, 'removed!']);\n",
       "            Plotly.purge(gd);\n",
       "            observer.disconnect();\n",
       "        }}\n",
       "}});\n",
       "\n",
       "// Listen for the removal of the full notebook cells\n",
       "var notebookContainer = gd.closest('#notebook-container');\n",
       "if (notebookContainer) {{\n",
       "    x.observe(notebookContainer, {childList: true});\n",
       "}}\n",
       "\n",
       "// Listen for the clearing of the current output cell\n",
       "var outputEl = gd.closest('.output');\n",
       "if (outputEl) {{\n",
       "    x.observe(outputEl, {childList: true});\n",
       "}}\n",
       "\n",
       "                        })                };                });            </script>        </div>"
      ]
     },
     "metadata": {},
     "output_type": "display_data"
    },
    {
     "name": "stderr",
     "output_type": "stream",
     "text": [
      "/var/folders/s6/ytv8f9z11q32lhh5ksxrp_tm0000gn/T/ipykernel_43215/3830264213.py:22: SettingWithCopyWarning:\n",
      "\n",
      "\n",
      "A value is trying to be set on a copy of a slice from a DataFrame\n",
      "\n",
      "See the caveats in the documentation: https://pandas.pydata.org/pandas-docs/stable/user_guide/indexing.html#returning-a-view-versus-a-copy\n",
      "\n"
     ]
    },
    {
     "data": {
      "application/vnd.plotly.v1+json": {
       "data": [
        {
         "mode": "lines",
         "name": "NHSN Time Series",
         "x": [
          "202032",
          "202033",
          "202034",
          "202035",
          "202036",
          "202037",
          "202038",
          "202039",
          "202040",
          "202041",
          "202042",
          "202043",
          "202044",
          "202045",
          "202046",
          "202047",
          "202048",
          "202049",
          "202050",
          "202051",
          "202052",
          "202053",
          "202101",
          "202102",
          "202103",
          "202104",
          "202105",
          "202106",
          "202107",
          "202108",
          "202109",
          "202110",
          "202111",
          "202112",
          "202113",
          "202114",
          "202115",
          "202116",
          "202117",
          "202118",
          "202119",
          "202120",
          "202121",
          "202122",
          "202123",
          "202124",
          "202125",
          "202126",
          "202127",
          "202128",
          "202129",
          "202130",
          "202131",
          "202132",
          "202133",
          "202134",
          "202135",
          "202136",
          "202137",
          "202138",
          "202139",
          "202140",
          "202141",
          "202142",
          "202143",
          "202144",
          "202145",
          "202146",
          "202147",
          "202148",
          "202149",
          "202150",
          "202151",
          "202152",
          "202201",
          "202202",
          "202203",
          "202204",
          "202205",
          "202206",
          "202207",
          "202208",
          "202209",
          "202210",
          "202211",
          "202212",
          "202213",
          "202214",
          "202215",
          "202216",
          "202217",
          "202218",
          "202219",
          "202220",
          "202221",
          "202222",
          "202223",
          "202224",
          "202225",
          "202226",
          "202227",
          "202228",
          "202229",
          "202230",
          "202231",
          "202232",
          "202233",
          "202234",
          "202235",
          "202236",
          "202237",
          "202238",
          "202239",
          "202240",
          "202241",
          "202242",
          "202243",
          "202244",
          "202245",
          "202246",
          "202247",
          "202248",
          "202249",
          "202250",
          "202251",
          "202252",
          "202301",
          "202302",
          "202303",
          "202304",
          "202305",
          "202306",
          "202307",
          "202308",
          "202309",
          "202310",
          "202311",
          "202312",
          "202313",
          "202314",
          "202315",
          "202316",
          "202317",
          "202318",
          "202319",
          "202320",
          "202321",
          "202322",
          "202323",
          "202324",
          "202325",
          "202326",
          "202327",
          "202328",
          "202329",
          "202330",
          "202331",
          "202332",
          "202333",
          "202334",
          "202335",
          "202336",
          "202337",
          "202338",
          "202339",
          "202340",
          "202341",
          "202342",
          "202343",
          "202344",
          "202345",
          "202346",
          "202347",
          "202348",
          "202349",
          "202350",
          "202351",
          "202352",
          "202401",
          "202402",
          "202403",
          "202404",
          "202405",
          "202406",
          "202407",
          "202408",
          "202409",
          "202410",
          "202411",
          "202412",
          "202413",
          "202414",
          "202415",
          "202416",
          "202417",
          "202418",
          "202419",
          "202420",
          "202421",
          "202422",
          "202423",
          "202424",
          "202425",
          "202426",
          "202427",
          "202428",
          "202429",
          "202430",
          "202431",
          "202432",
          "202433",
          "202434",
          "202435",
          "202436",
          "202437",
          "202438",
          "202439",
          "202440",
          "202441",
          "202442",
          "202443",
          "202444",
          "202445",
          "202446"
         ],
         "y": [
          1008.0,
          782.0,
          1150.0,
          2055.0,
          1762.0,
          941.0,
          901.0,
          888.0,
          873.0,
          1111.0,
          1161.0,
          1274.0,
          1263.0,
          1300.0,
          1516.0,
          1724.0,
          1905.0,
          2306.0,
          2636.0,
          2813.0,
          3087.0,
          3311.0,
          3859.0,
          3826.0,
          3162.0,
          2812.0,
          2274.0,
          1842.0,
          1545.0,
          1236.0,
          1075.0,
          1007.0,
          945.0,
          873.0,
          956.0,
          975.0,
          1144.0,
          1165.0,
          1107.0,
          930.0,
          863.0,
          803.0,
          567.0,
          459.0,
          383.0,
          359.0,
          303.0,
          332.0,
          328.0,
          470.0,
          743.0,
          1041.0,
          1458.0,
          2065.0,
          2398.0,
          2603.0,
          2674.0,
          2566.0,
          2402.0,
          2252.0,
          1795.0,
          1619.0,
          1373.0,
          965.0,
          789.0,
          749.0,
          728.0,
          773.0,
          890.0,
          961.0,
          1209.0,
          1298.0,
          1512.0,
          2214.0,
          3335.0,
          3972.0,
          4200.0,
          4197.0,
          3278.0,
          2424.0,
          1762.0,
          1220.0,
          814.0,
          519.0,
          383.0,
          306.0,
          275.0,
          237.0,
          282.0,
          255.0,
          371.0,
          423.0,
          492.0,
          601.0,
          700.0,
          830.0,
          787.0,
          789.0,
          771.0,
          865.0,
          859.0,
          1030.0,
          1215.0,
          1256.0,
          1251.0,
          1254.0,
          1159.0,
          1069.0,
          973.0,
          1047.0,
          907.0,
          891.0,
          781.0,
          696.0,
          554.0,
          572.0,
          577.0,
          549.0,
          529.0,
          463.0,
          487.0,
          603.0,
          658.0,
          800.0,
          1064.0,
          1753.0,
          1634.0,
          1300.0,
          1060.0,
          978.0,
          793.0,
          797.0,
          743.0,
          708.0,
          614.0,
          491.0,
          409.0,
          381.0,
          353.0,
          298.0,
          227.0,
          235.0,
          152.0,
          197.0,
          171.0,
          177.0,
          150.0,
          155.0,
          118.0,
          145.0,
          120.0,
          149.0,
          129.0,
          178.0,
          192.0,
          226.0,
          256.0,
          320.0,
          419.0,
          476.0,
          482.0,
          626.0,
          617.0,
          604.0,
          565.0,
          575.0,
          464.0,
          425.0,
          420.0,
          382.0,
          392.0,
          390.0,
          422.0,
          464.0,
          553.0,
          553.0,
          701.0,
          904.0,
          855.0,
          874.0,
          710.0,
          677.0,
          677.0,
          693.0,
          717.0,
          717.0,
          571.0,
          551.0,
          367.0,
          355.0,
          275.0,
          273.0,
          217.0,
          179.0,
          148.0,
          52.0,
          2.0,
          1.0,
          0.0,
          0.0,
          2.0,
          1.0,
          1.0,
          2.0,
          10.0,
          8.0,
          8.0,
          1.0,
          5.0,
          3.0,
          7.0,
          6.0,
          5.0,
          6.0,
          4.0,
          4.0,
          2.0,
          1.0,
          37.0,
          36.0,
          96.0,
          120.0,
          192.0,
          174.0
         ],
         "type": "scatter"
        },
        {
         "mode": "lines",
         "name": "HHS Time Series",
         "x": [
          "202032",
          "202033",
          "202034",
          "202035",
          "202036",
          "202037",
          "202038",
          "202039",
          "202040",
          "202041",
          "202042",
          "202043",
          "202044",
          "202045",
          "202046",
          "202047",
          "202048",
          "202049",
          "202050",
          "202051",
          "202052",
          "202053",
          "202101",
          "202102",
          "202103",
          "202104",
          "202105",
          "202106",
          "202107",
          "202108",
          "202109",
          "202110",
          "202111",
          "202112",
          "202113",
          "202114",
          "202115",
          "202116",
          "202117",
          "202118",
          "202119",
          "202120",
          "202121",
          "202122",
          "202123",
          "202124",
          "202125",
          "202126",
          "202127",
          "202128",
          "202129",
          "202130",
          "202131",
          "202132",
          "202133",
          "202134",
          "202135",
          "202136",
          "202137",
          "202138",
          "202139",
          "202140",
          "202141",
          "202142",
          "202143",
          "202144",
          "202145",
          "202146",
          "202147",
          "202148",
          "202149",
          "202150",
          "202151",
          "202152",
          "202201",
          "202202",
          "202203",
          "202204",
          "202205",
          "202206",
          "202207",
          "202208",
          "202209",
          "202210",
          "202211",
          "202212",
          "202213",
          "202214",
          "202215",
          "202216",
          "202217",
          "202218",
          "202219",
          "202220",
          "202221",
          "202222",
          "202223",
          "202224",
          "202225",
          "202226",
          "202227",
          "202228",
          "202229",
          "202230",
          "202231",
          "202232",
          "202233",
          "202234",
          "202235",
          "202236",
          "202237",
          "202238",
          "202239",
          "202240",
          "202241",
          "202242",
          "202243",
          "202244",
          "202245",
          "202246",
          "202247",
          "202248",
          "202249",
          "202250",
          "202251",
          "202252",
          "202301",
          "202302",
          "202303",
          "202304",
          "202305",
          "202306",
          "202307",
          "202308",
          "202309",
          "202310",
          "202311",
          "202312",
          "202313",
          "202314",
          "202315",
          "202316",
          "202317",
          "202318",
          "202319",
          "202320",
          "202321",
          "202322",
          "202323",
          "202324",
          "202325",
          "202326",
          "202327",
          "202328",
          "202329",
          "202330",
          "202331",
          "202332",
          "202333",
          "202334",
          "202335",
          "202336",
          "202337",
          "202338",
          "202339",
          "202340",
          "202341",
          "202342",
          "202343",
          "202344",
          "202345",
          "202346",
          "202347",
          "202348",
          "202349",
          "202350",
          "202351",
          "202352",
          "202401",
          "202402",
          "202403",
          "202404",
          "202405",
          "202406",
          "202407",
          "202408",
          "202409",
          "202410",
          "202411",
          "202412",
          "202413",
          "202414",
          "202415",
          "202416",
          "202417"
         ],
         "y": [
          125.0,
          598.0,
          779.0,
          2062.0,
          1334.0,
          678.0,
          647.0,
          683.0,
          719.0,
          1018.0,
          1028.0,
          1013.0,
          991.0,
          1109.0,
          1263.0,
          1497.0,
          1583.0,
          1921.0,
          2177.0,
          2343.0,
          2600.0,
          2816.0,
          3206.0,
          3098.0,
          2677.0,
          2320.0,
          1843.0,
          1513.0,
          1182.0,
          987.0,
          826.0,
          814.0,
          734.0,
          712.0,
          774.0,
          768.0,
          931.0,
          935.0,
          858.0,
          752.0,
          719.0,
          570.0,
          538.0,
          453.0,
          378.0,
          360.0,
          314.0,
          320.0,
          339.0,
          511.0,
          769.0,
          1117.0,
          1532.0,
          2126.0,
          2457.0,
          2599.0,
          2714.0,
          2568.0,
          2358.0,
          2249.0,
          1759.0,
          1602.0,
          1363.0,
          903.0,
          790.0,
          762.0,
          711.0,
          804.0,
          894.0,
          994.0,
          1222.0,
          1350.0,
          1563.0,
          2391.0,
          3399.0,
          4104.0,
          4096.0,
          4282.0,
          3232.0,
          2346.0,
          1684.0,
          1181.0,
          776.0,
          508.0,
          365.0,
          310.0,
          267.0,
          244.0,
          275.0,
          285.0,
          364.0,
          422.0,
          534.0,
          609.0,
          732.0,
          828.0,
          783.0,
          787.0,
          772.0,
          903.0,
          874.0,
          1038.0,
          1194.0,
          1265.0,
          1213.0,
          1260.0,
          1083.0,
          1034.0,
          977.0,
          1029.0,
          876.0,
          885.0,
          766.0,
          667.0,
          538.0,
          565.0,
          567.0,
          557.0,
          511.0,
          445.0,
          498.0,
          598.0,
          666.0,
          857.0,
          1074.0,
          1708.0,
          1564.0,
          1249.0,
          1068.0,
          948.0,
          769.0,
          787.0,
          754.0,
          693.0,
          585.0,
          489.0,
          385.0,
          373.0,
          354.0,
          272.0,
          233.0,
          221.0,
          165.0,
          189.0,
          166.0,
          175.0,
          156.0,
          156.0,
          114.0,
          145.0,
          119.0,
          150.0,
          134.0,
          170.0,
          205.0,
          230.0,
          270.0,
          323.0,
          421.0,
          462.0,
          508.0,
          640.0,
          582.0,
          622.0,
          543.0,
          568.0,
          436.0,
          415.0,
          434.0,
          368.0,
          384.0,
          401.0,
          414.0,
          464.0,
          545.0,
          570.0,
          704.0,
          903.0,
          859.0,
          859.0,
          667.0,
          685.0,
          659.0,
          716.0,
          694.0,
          693.0,
          585.0,
          523.0,
          363.0,
          321.0,
          276.0,
          264.0,
          219.0,
          180.0,
          123.0
         ],
         "type": "scatter"
        },
        {
         "marker": {
          "color": "green"
         },
         "mode": "markers",
         "name": "NHSN points",
         "x": [
          "202032",
          "202033",
          "202034",
          "202036",
          "202037",
          "202038",
          "202039",
          "202040",
          "202043",
          "202044",
          "202046",
          "202048",
          "202049",
          "202050",
          "202051",
          "202101",
          "202102",
          "202104",
          "202105",
          "202106",
          "202107",
          "202108",
          "202109",
          "202110",
          "202111",
          "202112",
          "202113",
          "202114",
          "202115",
          "202116",
          "202117",
          "202118",
          "202119",
          "202120",
          "202417"
         ],
         "y": [
          1008.0,
          782.0,
          1150.0,
          1762.0,
          941.0,
          901.0,
          888.0,
          873.0,
          1274.0,
          1263.0,
          1516.0,
          1905.0,
          2306.0,
          2636.0,
          2813.0,
          3859.0,
          3826.0,
          2812.0,
          2274.0,
          1842.0,
          1545.0,
          1236.0,
          1075.0,
          1007.0,
          945.0,
          873.0,
          956.0,
          975.0,
          1144.0,
          1165.0,
          1107.0,
          930.0,
          863.0,
          803.0,
          148.0
         ],
         "type": "scatter"
        },
        {
         "marker": {
          "color": "green"
         },
         "mode": "markers",
         "name": "HHS points",
         "x": [
          "202032",
          "202033",
          "202034",
          "202036",
          "202037",
          "202038",
          "202039",
          "202040",
          "202043",
          "202044",
          "202046",
          "202048",
          "202049",
          "202050",
          "202051",
          "202101",
          "202102",
          "202104",
          "202105",
          "202106",
          "202107",
          "202108",
          "202109",
          "202110",
          "202111",
          "202112",
          "202113",
          "202114",
          "202115",
          "202116",
          "202117",
          "202118",
          "202119",
          "202120",
          "202417"
         ],
         "y": [
          125.0,
          598.0,
          779.0,
          1334.0,
          678.0,
          647.0,
          683.0,
          719.0,
          1013.0,
          991.0,
          1263.0,
          1583.0,
          1921.0,
          2177.0,
          2343.0,
          3206.0,
          3098.0,
          2320.0,
          1843.0,
          1513.0,
          1182.0,
          987.0,
          826.0,
          814.0,
          734.0,
          712.0,
          774.0,
          768.0,
          931.0,
          935.0,
          858.0,
          752.0,
          719.0,
          570.0,
          123.0
         ],
         "type": "scatter"
        }
       ],
       "layout": {
        "template": {
         "data": {
          "histogram2dcontour": [
           {
            "type": "histogram2dcontour",
            "colorbar": {
             "outlinewidth": 0,
             "ticks": ""
            },
            "colorscale": [
             [
              0.0,
              "#0d0887"
             ],
             [
              0.1111111111111111,
              "#46039f"
             ],
             [
              0.2222222222222222,
              "#7201a8"
             ],
             [
              0.3333333333333333,
              "#9c179e"
             ],
             [
              0.4444444444444444,
              "#bd3786"
             ],
             [
              0.5555555555555556,
              "#d8576b"
             ],
             [
              0.6666666666666666,
              "#ed7953"
             ],
             [
              0.7777777777777778,
              "#fb9f3a"
             ],
             [
              0.8888888888888888,
              "#fdca26"
             ],
             [
              1.0,
              "#f0f921"
             ]
            ]
           }
          ],
          "choropleth": [
           {
            "type": "choropleth",
            "colorbar": {
             "outlinewidth": 0,
             "ticks": ""
            }
           }
          ],
          "histogram2d": [
           {
            "type": "histogram2d",
            "colorbar": {
             "outlinewidth": 0,
             "ticks": ""
            },
            "colorscale": [
             [
              0.0,
              "#0d0887"
             ],
             [
              0.1111111111111111,
              "#46039f"
             ],
             [
              0.2222222222222222,
              "#7201a8"
             ],
             [
              0.3333333333333333,
              "#9c179e"
             ],
             [
              0.4444444444444444,
              "#bd3786"
             ],
             [
              0.5555555555555556,
              "#d8576b"
             ],
             [
              0.6666666666666666,
              "#ed7953"
             ],
             [
              0.7777777777777778,
              "#fb9f3a"
             ],
             [
              0.8888888888888888,
              "#fdca26"
             ],
             [
              1.0,
              "#f0f921"
             ]
            ]
           }
          ],
          "heatmap": [
           {
            "type": "heatmap",
            "colorbar": {
             "outlinewidth": 0,
             "ticks": ""
            },
            "colorscale": [
             [
              0.0,
              "#0d0887"
             ],
             [
              0.1111111111111111,
              "#46039f"
             ],
             [
              0.2222222222222222,
              "#7201a8"
             ],
             [
              0.3333333333333333,
              "#9c179e"
             ],
             [
              0.4444444444444444,
              "#bd3786"
             ],
             [
              0.5555555555555556,
              "#d8576b"
             ],
             [
              0.6666666666666666,
              "#ed7953"
             ],
             [
              0.7777777777777778,
              "#fb9f3a"
             ],
             [
              0.8888888888888888,
              "#fdca26"
             ],
             [
              1.0,
              "#f0f921"
             ]
            ]
           }
          ],
          "heatmapgl": [
           {
            "type": "heatmapgl",
            "colorbar": {
             "outlinewidth": 0,
             "ticks": ""
            },
            "colorscale": [
             [
              0.0,
              "#0d0887"
             ],
             [
              0.1111111111111111,
              "#46039f"
             ],
             [
              0.2222222222222222,
              "#7201a8"
             ],
             [
              0.3333333333333333,
              "#9c179e"
             ],
             [
              0.4444444444444444,
              "#bd3786"
             ],
             [
              0.5555555555555556,
              "#d8576b"
             ],
             [
              0.6666666666666666,
              "#ed7953"
             ],
             [
              0.7777777777777778,
              "#fb9f3a"
             ],
             [
              0.8888888888888888,
              "#fdca26"
             ],
             [
              1.0,
              "#f0f921"
             ]
            ]
           }
          ],
          "contourcarpet": [
           {
            "type": "contourcarpet",
            "colorbar": {
             "outlinewidth": 0,
             "ticks": ""
            }
           }
          ],
          "contour": [
           {
            "type": "contour",
            "colorbar": {
             "outlinewidth": 0,
             "ticks": ""
            },
            "colorscale": [
             [
              0.0,
              "#0d0887"
             ],
             [
              0.1111111111111111,
              "#46039f"
             ],
             [
              0.2222222222222222,
              "#7201a8"
             ],
             [
              0.3333333333333333,
              "#9c179e"
             ],
             [
              0.4444444444444444,
              "#bd3786"
             ],
             [
              0.5555555555555556,
              "#d8576b"
             ],
             [
              0.6666666666666666,
              "#ed7953"
             ],
             [
              0.7777777777777778,
              "#fb9f3a"
             ],
             [
              0.8888888888888888,
              "#fdca26"
             ],
             [
              1.0,
              "#f0f921"
             ]
            ]
           }
          ],
          "surface": [
           {
            "type": "surface",
            "colorbar": {
             "outlinewidth": 0,
             "ticks": ""
            },
            "colorscale": [
             [
              0.0,
              "#0d0887"
             ],
             [
              0.1111111111111111,
              "#46039f"
             ],
             [
              0.2222222222222222,
              "#7201a8"
             ],
             [
              0.3333333333333333,
              "#9c179e"
             ],
             [
              0.4444444444444444,
              "#bd3786"
             ],
             [
              0.5555555555555556,
              "#d8576b"
             ],
             [
              0.6666666666666666,
              "#ed7953"
             ],
             [
              0.7777777777777778,
              "#fb9f3a"
             ],
             [
              0.8888888888888888,
              "#fdca26"
             ],
             [
              1.0,
              "#f0f921"
             ]
            ]
           }
          ],
          "mesh3d": [
           {
            "type": "mesh3d",
            "colorbar": {
             "outlinewidth": 0,
             "ticks": ""
            }
           }
          ],
          "scatter": [
           {
            "marker": {
             "line": {
              "color": "#283442"
             }
            },
            "type": "scatter"
           }
          ],
          "parcoords": [
           {
            "type": "parcoords",
            "line": {
             "colorbar": {
              "outlinewidth": 0,
              "ticks": ""
             }
            }
           }
          ],
          "scatterpolargl": [
           {
            "type": "scatterpolargl",
            "marker": {
             "colorbar": {
              "outlinewidth": 0,
              "ticks": ""
             }
            }
           }
          ],
          "bar": [
           {
            "error_x": {
             "color": "#f2f5fa"
            },
            "error_y": {
             "color": "#f2f5fa"
            },
            "marker": {
             "line": {
              "color": "rgb(17,17,17)",
              "width": 0.5
             },
             "pattern": {
              "fillmode": "overlay",
              "size": 10,
              "solidity": 0.2
             }
            },
            "type": "bar"
           }
          ],
          "scattergeo": [
           {
            "type": "scattergeo",
            "marker": {
             "colorbar": {
              "outlinewidth": 0,
              "ticks": ""
             }
            }
           }
          ],
          "scatterpolar": [
           {
            "type": "scatterpolar",
            "marker": {
             "colorbar": {
              "outlinewidth": 0,
              "ticks": ""
             }
            }
           }
          ],
          "histogram": [
           {
            "marker": {
             "pattern": {
              "fillmode": "overlay",
              "size": 10,
              "solidity": 0.2
             }
            },
            "type": "histogram"
           }
          ],
          "scattergl": [
           {
            "marker": {
             "line": {
              "color": "#283442"
             }
            },
            "type": "scattergl"
           }
          ],
          "scatter3d": [
           {
            "type": "scatter3d",
            "line": {
             "colorbar": {
              "outlinewidth": 0,
              "ticks": ""
             }
            },
            "marker": {
             "colorbar": {
              "outlinewidth": 0,
              "ticks": ""
             }
            }
           }
          ],
          "scattermapbox": [
           {
            "type": "scattermapbox",
            "marker": {
             "colorbar": {
              "outlinewidth": 0,
              "ticks": ""
             }
            }
           }
          ],
          "scatterternary": [
           {
            "type": "scatterternary",
            "marker": {
             "colorbar": {
              "outlinewidth": 0,
              "ticks": ""
             }
            }
           }
          ],
          "scattercarpet": [
           {
            "type": "scattercarpet",
            "marker": {
             "colorbar": {
              "outlinewidth": 0,
              "ticks": ""
             }
            }
           }
          ],
          "carpet": [
           {
            "aaxis": {
             "endlinecolor": "#A2B1C6",
             "gridcolor": "#506784",
             "linecolor": "#506784",
             "minorgridcolor": "#506784",
             "startlinecolor": "#A2B1C6"
            },
            "baxis": {
             "endlinecolor": "#A2B1C6",
             "gridcolor": "#506784",
             "linecolor": "#506784",
             "minorgridcolor": "#506784",
             "startlinecolor": "#A2B1C6"
            },
            "type": "carpet"
           }
          ],
          "table": [
           {
            "cells": {
             "fill": {
              "color": "#506784"
             },
             "line": {
              "color": "rgb(17,17,17)"
             }
            },
            "header": {
             "fill": {
              "color": "#2a3f5f"
             },
             "line": {
              "color": "rgb(17,17,17)"
             }
            },
            "type": "table"
           }
          ],
          "barpolar": [
           {
            "marker": {
             "line": {
              "color": "rgb(17,17,17)",
              "width": 0.5
             },
             "pattern": {
              "fillmode": "overlay",
              "size": 10,
              "solidity": 0.2
             }
            },
            "type": "barpolar"
           }
          ],
          "pie": [
           {
            "automargin": true,
            "type": "pie"
           }
          ]
         },
         "layout": {
          "autotypenumbers": "strict",
          "colorway": [
           "#636efa",
           "#EF553B",
           "#00cc96",
           "#ab63fa",
           "#FFA15A",
           "#19d3f3",
           "#FF6692",
           "#B6E880",
           "#FF97FF",
           "#FECB52"
          ],
          "font": {
           "color": "#f2f5fa"
          },
          "hovermode": "closest",
          "hoverlabel": {
           "align": "left"
          },
          "paper_bgcolor": "rgb(17,17,17)",
          "plot_bgcolor": "rgb(17,17,17)",
          "polar": {
           "bgcolor": "rgb(17,17,17)",
           "angularaxis": {
            "gridcolor": "#506784",
            "linecolor": "#506784",
            "ticks": ""
           },
           "radialaxis": {
            "gridcolor": "#506784",
            "linecolor": "#506784",
            "ticks": ""
           }
          },
          "ternary": {
           "bgcolor": "rgb(17,17,17)",
           "aaxis": {
            "gridcolor": "#506784",
            "linecolor": "#506784",
            "ticks": ""
           },
           "baxis": {
            "gridcolor": "#506784",
            "linecolor": "#506784",
            "ticks": ""
           },
           "caxis": {
            "gridcolor": "#506784",
            "linecolor": "#506784",
            "ticks": ""
           }
          },
          "coloraxis": {
           "colorbar": {
            "outlinewidth": 0,
            "ticks": ""
           }
          },
          "colorscale": {
           "sequential": [
            [
             0.0,
             "#0d0887"
            ],
            [
             0.1111111111111111,
             "#46039f"
            ],
            [
             0.2222222222222222,
             "#7201a8"
            ],
            [
             0.3333333333333333,
             "#9c179e"
            ],
            [
             0.4444444444444444,
             "#bd3786"
            ],
            [
             0.5555555555555556,
             "#d8576b"
            ],
            [
             0.6666666666666666,
             "#ed7953"
            ],
            [
             0.7777777777777778,
             "#fb9f3a"
            ],
            [
             0.8888888888888888,
             "#fdca26"
            ],
            [
             1.0,
             "#f0f921"
            ]
           ],
           "sequentialminus": [
            [
             0.0,
             "#0d0887"
            ],
            [
             0.1111111111111111,
             "#46039f"
            ],
            [
             0.2222222222222222,
             "#7201a8"
            ],
            [
             0.3333333333333333,
             "#9c179e"
            ],
            [
             0.4444444444444444,
             "#bd3786"
            ],
            [
             0.5555555555555556,
             "#d8576b"
            ],
            [
             0.6666666666666666,
             "#ed7953"
            ],
            [
             0.7777777777777778,
             "#fb9f3a"
            ],
            [
             0.8888888888888888,
             "#fdca26"
            ],
            [
             1.0,
             "#f0f921"
            ]
           ],
           "diverging": [
            [
             0,
             "#8e0152"
            ],
            [
             0.1,
             "#c51b7d"
            ],
            [
             0.2,
             "#de77ae"
            ],
            [
             0.3,
             "#f1b6da"
            ],
            [
             0.4,
             "#fde0ef"
            ],
            [
             0.5,
             "#f7f7f7"
            ],
            [
             0.6,
             "#e6f5d0"
            ],
            [
             0.7,
             "#b8e186"
            ],
            [
             0.8,
             "#7fbc41"
            ],
            [
             0.9,
             "#4d9221"
            ],
            [
             1,
             "#276419"
            ]
           ]
          },
          "xaxis": {
           "gridcolor": "#283442",
           "linecolor": "#506784",
           "ticks": "",
           "title": {
            "standoff": 15
           },
           "zerolinecolor": "#283442",
           "automargin": true,
           "zerolinewidth": 2
          },
          "yaxis": {
           "gridcolor": "#283442",
           "linecolor": "#506784",
           "ticks": "",
           "title": {
            "standoff": 15
           },
           "zerolinecolor": "#283442",
           "automargin": true,
           "zerolinewidth": 2
          },
          "scene": {
           "xaxis": {
            "backgroundcolor": "rgb(17,17,17)",
            "gridcolor": "#506784",
            "linecolor": "#506784",
            "showbackground": true,
            "ticks": "",
            "zerolinecolor": "#C8D4E3",
            "gridwidth": 2
           },
           "yaxis": {
            "backgroundcolor": "rgb(17,17,17)",
            "gridcolor": "#506784",
            "linecolor": "#506784",
            "showbackground": true,
            "ticks": "",
            "zerolinecolor": "#C8D4E3",
            "gridwidth": 2
           },
           "zaxis": {
            "backgroundcolor": "rgb(17,17,17)",
            "gridcolor": "#506784",
            "linecolor": "#506784",
            "showbackground": true,
            "ticks": "",
            "zerolinecolor": "#C8D4E3",
            "gridwidth": 2
           }
          },
          "shapedefaults": {
           "line": {
            "color": "#f2f5fa"
           }
          },
          "annotationdefaults": {
           "arrowcolor": "#f2f5fa",
           "arrowhead": 0,
           "arrowwidth": 1
          },
          "geo": {
           "bgcolor": "rgb(17,17,17)",
           "landcolor": "rgb(17,17,17)",
           "subunitcolor": "#506784",
           "showland": true,
           "showlakes": true,
           "lakecolor": "rgb(17,17,17)"
          },
          "title": {
           "x": 0.05
          },
          "updatemenudefaults": {
           "bgcolor": "#506784",
           "borderwidth": 0
          },
          "sliderdefaults": {
           "bgcolor": "#C8D4E3",
           "borderwidth": 1,
           "bordercolor": "rgb(17,17,17)",
           "tickwidth": 0
          },
          "mapbox": {
           "style": "dark"
          }
         }
        },
        "title": {
         "text": "NC NHSN vs HHS value over time with (diff > 20% and val > 100) markers"
        }
       },
       "config": {
        "plotlyServerURL": "https://plot.ly"
       }
      },
      "text/html": [
       "<div>                            <div id=\"a185452e-8d09-43bf-ad9d-bb0d3caa6fc3\" class=\"plotly-graph-div\" style=\"height:525px; width:100%;\"></div>            <script type=\"text/javascript\">                require([\"plotly\"], function(Plotly) {                    window.PLOTLYENV=window.PLOTLYENV || {};                                    if (document.getElementById(\"a185452e-8d09-43bf-ad9d-bb0d3caa6fc3\")) {                    Plotly.newPlot(                        \"a185452e-8d09-43bf-ad9d-bb0d3caa6fc3\",                        [{\"mode\":\"lines\",\"name\":\"NHSN Time Series\",\"x\":[\"202032\",\"202033\",\"202034\",\"202035\",\"202036\",\"202037\",\"202038\",\"202039\",\"202040\",\"202041\",\"202042\",\"202043\",\"202044\",\"202045\",\"202046\",\"202047\",\"202048\",\"202049\",\"202050\",\"202051\",\"202052\",\"202053\",\"202101\",\"202102\",\"202103\",\"202104\",\"202105\",\"202106\",\"202107\",\"202108\",\"202109\",\"202110\",\"202111\",\"202112\",\"202113\",\"202114\",\"202115\",\"202116\",\"202117\",\"202118\",\"202119\",\"202120\",\"202121\",\"202122\",\"202123\",\"202124\",\"202125\",\"202126\",\"202127\",\"202128\",\"202129\",\"202130\",\"202131\",\"202132\",\"202133\",\"202134\",\"202135\",\"202136\",\"202137\",\"202138\",\"202139\",\"202140\",\"202141\",\"202142\",\"202143\",\"202144\",\"202145\",\"202146\",\"202147\",\"202148\",\"202149\",\"202150\",\"202151\",\"202152\",\"202201\",\"202202\",\"202203\",\"202204\",\"202205\",\"202206\",\"202207\",\"202208\",\"202209\",\"202210\",\"202211\",\"202212\",\"202213\",\"202214\",\"202215\",\"202216\",\"202217\",\"202218\",\"202219\",\"202220\",\"202221\",\"202222\",\"202223\",\"202224\",\"202225\",\"202226\",\"202227\",\"202228\",\"202229\",\"202230\",\"202231\",\"202232\",\"202233\",\"202234\",\"202235\",\"202236\",\"202237\",\"202238\",\"202239\",\"202240\",\"202241\",\"202242\",\"202243\",\"202244\",\"202245\",\"202246\",\"202247\",\"202248\",\"202249\",\"202250\",\"202251\",\"202252\",\"202301\",\"202302\",\"202303\",\"202304\",\"202305\",\"202306\",\"202307\",\"202308\",\"202309\",\"202310\",\"202311\",\"202312\",\"202313\",\"202314\",\"202315\",\"202316\",\"202317\",\"202318\",\"202319\",\"202320\",\"202321\",\"202322\",\"202323\",\"202324\",\"202325\",\"202326\",\"202327\",\"202328\",\"202329\",\"202330\",\"202331\",\"202332\",\"202333\",\"202334\",\"202335\",\"202336\",\"202337\",\"202338\",\"202339\",\"202340\",\"202341\",\"202342\",\"202343\",\"202344\",\"202345\",\"202346\",\"202347\",\"202348\",\"202349\",\"202350\",\"202351\",\"202352\",\"202401\",\"202402\",\"202403\",\"202404\",\"202405\",\"202406\",\"202407\",\"202408\",\"202409\",\"202410\",\"202411\",\"202412\",\"202413\",\"202414\",\"202415\",\"202416\",\"202417\",\"202418\",\"202419\",\"202420\",\"202421\",\"202422\",\"202423\",\"202424\",\"202425\",\"202426\",\"202427\",\"202428\",\"202429\",\"202430\",\"202431\",\"202432\",\"202433\",\"202434\",\"202435\",\"202436\",\"202437\",\"202438\",\"202439\",\"202440\",\"202441\",\"202442\",\"202443\",\"202444\",\"202445\",\"202446\"],\"y\":[1008.0,782.0,1150.0,2055.0,1762.0,941.0,901.0,888.0,873.0,1111.0,1161.0,1274.0,1263.0,1300.0,1516.0,1724.0,1905.0,2306.0,2636.0,2813.0,3087.0,3311.0,3859.0,3826.0,3162.0,2812.0,2274.0,1842.0,1545.0,1236.0,1075.0,1007.0,945.0,873.0,956.0,975.0,1144.0,1165.0,1107.0,930.0,863.0,803.0,567.0,459.0,383.0,359.0,303.0,332.0,328.0,470.0,743.0,1041.0,1458.0,2065.0,2398.0,2603.0,2674.0,2566.0,2402.0,2252.0,1795.0,1619.0,1373.0,965.0,789.0,749.0,728.0,773.0,890.0,961.0,1209.0,1298.0,1512.0,2214.0,3335.0,3972.0,4200.0,4197.0,3278.0,2424.0,1762.0,1220.0,814.0,519.0,383.0,306.0,275.0,237.0,282.0,255.0,371.0,423.0,492.0,601.0,700.0,830.0,787.0,789.0,771.0,865.0,859.0,1030.0,1215.0,1256.0,1251.0,1254.0,1159.0,1069.0,973.0,1047.0,907.0,891.0,781.0,696.0,554.0,572.0,577.0,549.0,529.0,463.0,487.0,603.0,658.0,800.0,1064.0,1753.0,1634.0,1300.0,1060.0,978.0,793.0,797.0,743.0,708.0,614.0,491.0,409.0,381.0,353.0,298.0,227.0,235.0,152.0,197.0,171.0,177.0,150.0,155.0,118.0,145.0,120.0,149.0,129.0,178.0,192.0,226.0,256.0,320.0,419.0,476.0,482.0,626.0,617.0,604.0,565.0,575.0,464.0,425.0,420.0,382.0,392.0,390.0,422.0,464.0,553.0,553.0,701.0,904.0,855.0,874.0,710.0,677.0,677.0,693.0,717.0,717.0,571.0,551.0,367.0,355.0,275.0,273.0,217.0,179.0,148.0,52.0,2.0,1.0,0.0,0.0,2.0,1.0,1.0,2.0,10.0,8.0,8.0,1.0,5.0,3.0,7.0,6.0,5.0,6.0,4.0,4.0,2.0,1.0,37.0,36.0,96.0,120.0,192.0,174.0],\"type\":\"scatter\"},{\"mode\":\"lines\",\"name\":\"HHS Time Series\",\"x\":[\"202032\",\"202033\",\"202034\",\"202035\",\"202036\",\"202037\",\"202038\",\"202039\",\"202040\",\"202041\",\"202042\",\"202043\",\"202044\",\"202045\",\"202046\",\"202047\",\"202048\",\"202049\",\"202050\",\"202051\",\"202052\",\"202053\",\"202101\",\"202102\",\"202103\",\"202104\",\"202105\",\"202106\",\"202107\",\"202108\",\"202109\",\"202110\",\"202111\",\"202112\",\"202113\",\"202114\",\"202115\",\"202116\",\"202117\",\"202118\",\"202119\",\"202120\",\"202121\",\"202122\",\"202123\",\"202124\",\"202125\",\"202126\",\"202127\",\"202128\",\"202129\",\"202130\",\"202131\",\"202132\",\"202133\",\"202134\",\"202135\",\"202136\",\"202137\",\"202138\",\"202139\",\"202140\",\"202141\",\"202142\",\"202143\",\"202144\",\"202145\",\"202146\",\"202147\",\"202148\",\"202149\",\"202150\",\"202151\",\"202152\",\"202201\",\"202202\",\"202203\",\"202204\",\"202205\",\"202206\",\"202207\",\"202208\",\"202209\",\"202210\",\"202211\",\"202212\",\"202213\",\"202214\",\"202215\",\"202216\",\"202217\",\"202218\",\"202219\",\"202220\",\"202221\",\"202222\",\"202223\",\"202224\",\"202225\",\"202226\",\"202227\",\"202228\",\"202229\",\"202230\",\"202231\",\"202232\",\"202233\",\"202234\",\"202235\",\"202236\",\"202237\",\"202238\",\"202239\",\"202240\",\"202241\",\"202242\",\"202243\",\"202244\",\"202245\",\"202246\",\"202247\",\"202248\",\"202249\",\"202250\",\"202251\",\"202252\",\"202301\",\"202302\",\"202303\",\"202304\",\"202305\",\"202306\",\"202307\",\"202308\",\"202309\",\"202310\",\"202311\",\"202312\",\"202313\",\"202314\",\"202315\",\"202316\",\"202317\",\"202318\",\"202319\",\"202320\",\"202321\",\"202322\",\"202323\",\"202324\",\"202325\",\"202326\",\"202327\",\"202328\",\"202329\",\"202330\",\"202331\",\"202332\",\"202333\",\"202334\",\"202335\",\"202336\",\"202337\",\"202338\",\"202339\",\"202340\",\"202341\",\"202342\",\"202343\",\"202344\",\"202345\",\"202346\",\"202347\",\"202348\",\"202349\",\"202350\",\"202351\",\"202352\",\"202401\",\"202402\",\"202403\",\"202404\",\"202405\",\"202406\",\"202407\",\"202408\",\"202409\",\"202410\",\"202411\",\"202412\",\"202413\",\"202414\",\"202415\",\"202416\",\"202417\"],\"y\":[125.0,598.0,779.0,2062.0,1334.0,678.0,647.0,683.0,719.0,1018.0,1028.0,1013.0,991.0,1109.0,1263.0,1497.0,1583.0,1921.0,2177.0,2343.0,2600.0,2816.0,3206.0,3098.0,2677.0,2320.0,1843.0,1513.0,1182.0,987.0,826.0,814.0,734.0,712.0,774.0,768.0,931.0,935.0,858.0,752.0,719.0,570.0,538.0,453.0,378.0,360.0,314.0,320.0,339.0,511.0,769.0,1117.0,1532.0,2126.0,2457.0,2599.0,2714.0,2568.0,2358.0,2249.0,1759.0,1602.0,1363.0,903.0,790.0,762.0,711.0,804.0,894.0,994.0,1222.0,1350.0,1563.0,2391.0,3399.0,4104.0,4096.0,4282.0,3232.0,2346.0,1684.0,1181.0,776.0,508.0,365.0,310.0,267.0,244.0,275.0,285.0,364.0,422.0,534.0,609.0,732.0,828.0,783.0,787.0,772.0,903.0,874.0,1038.0,1194.0,1265.0,1213.0,1260.0,1083.0,1034.0,977.0,1029.0,876.0,885.0,766.0,667.0,538.0,565.0,567.0,557.0,511.0,445.0,498.0,598.0,666.0,857.0,1074.0,1708.0,1564.0,1249.0,1068.0,948.0,769.0,787.0,754.0,693.0,585.0,489.0,385.0,373.0,354.0,272.0,233.0,221.0,165.0,189.0,166.0,175.0,156.0,156.0,114.0,145.0,119.0,150.0,134.0,170.0,205.0,230.0,270.0,323.0,421.0,462.0,508.0,640.0,582.0,622.0,543.0,568.0,436.0,415.0,434.0,368.0,384.0,401.0,414.0,464.0,545.0,570.0,704.0,903.0,859.0,859.0,667.0,685.0,659.0,716.0,694.0,693.0,585.0,523.0,363.0,321.0,276.0,264.0,219.0,180.0,123.0],\"type\":\"scatter\"},{\"marker\":{\"color\":\"green\"},\"mode\":\"markers\",\"name\":\"NHSN points\",\"x\":[\"202032\",\"202033\",\"202034\",\"202036\",\"202037\",\"202038\",\"202039\",\"202040\",\"202043\",\"202044\",\"202046\",\"202048\",\"202049\",\"202050\",\"202051\",\"202101\",\"202102\",\"202104\",\"202105\",\"202106\",\"202107\",\"202108\",\"202109\",\"202110\",\"202111\",\"202112\",\"202113\",\"202114\",\"202115\",\"202116\",\"202117\",\"202118\",\"202119\",\"202120\",\"202417\"],\"y\":[1008.0,782.0,1150.0,1762.0,941.0,901.0,888.0,873.0,1274.0,1263.0,1516.0,1905.0,2306.0,2636.0,2813.0,3859.0,3826.0,2812.0,2274.0,1842.0,1545.0,1236.0,1075.0,1007.0,945.0,873.0,956.0,975.0,1144.0,1165.0,1107.0,930.0,863.0,803.0,148.0],\"type\":\"scatter\"},{\"marker\":{\"color\":\"green\"},\"mode\":\"markers\",\"name\":\"HHS points\",\"x\":[\"202032\",\"202033\",\"202034\",\"202036\",\"202037\",\"202038\",\"202039\",\"202040\",\"202043\",\"202044\",\"202046\",\"202048\",\"202049\",\"202050\",\"202051\",\"202101\",\"202102\",\"202104\",\"202105\",\"202106\",\"202107\",\"202108\",\"202109\",\"202110\",\"202111\",\"202112\",\"202113\",\"202114\",\"202115\",\"202116\",\"202117\",\"202118\",\"202119\",\"202120\",\"202417\"],\"y\":[125.0,598.0,779.0,1334.0,678.0,647.0,683.0,719.0,1013.0,991.0,1263.0,1583.0,1921.0,2177.0,2343.0,3206.0,3098.0,2320.0,1843.0,1513.0,1182.0,987.0,826.0,814.0,734.0,712.0,774.0,768.0,931.0,935.0,858.0,752.0,719.0,570.0,123.0],\"type\":\"scatter\"}],                        {\"template\":{\"data\":{\"histogram2dcontour\":[{\"type\":\"histogram2dcontour\",\"colorbar\":{\"outlinewidth\":0,\"ticks\":\"\"},\"colorscale\":[[0.0,\"#0d0887\"],[0.1111111111111111,\"#46039f\"],[0.2222222222222222,\"#7201a8\"],[0.3333333333333333,\"#9c179e\"],[0.4444444444444444,\"#bd3786\"],[0.5555555555555556,\"#d8576b\"],[0.6666666666666666,\"#ed7953\"],[0.7777777777777778,\"#fb9f3a\"],[0.8888888888888888,\"#fdca26\"],[1.0,\"#f0f921\"]]}],\"choropleth\":[{\"type\":\"choropleth\",\"colorbar\":{\"outlinewidth\":0,\"ticks\":\"\"}}],\"histogram2d\":[{\"type\":\"histogram2d\",\"colorbar\":{\"outlinewidth\":0,\"ticks\":\"\"},\"colorscale\":[[0.0,\"#0d0887\"],[0.1111111111111111,\"#46039f\"],[0.2222222222222222,\"#7201a8\"],[0.3333333333333333,\"#9c179e\"],[0.4444444444444444,\"#bd3786\"],[0.5555555555555556,\"#d8576b\"],[0.6666666666666666,\"#ed7953\"],[0.7777777777777778,\"#fb9f3a\"],[0.8888888888888888,\"#fdca26\"],[1.0,\"#f0f921\"]]}],\"heatmap\":[{\"type\":\"heatmap\",\"colorbar\":{\"outlinewidth\":0,\"ticks\":\"\"},\"colorscale\":[[0.0,\"#0d0887\"],[0.1111111111111111,\"#46039f\"],[0.2222222222222222,\"#7201a8\"],[0.3333333333333333,\"#9c179e\"],[0.4444444444444444,\"#bd3786\"],[0.5555555555555556,\"#d8576b\"],[0.6666666666666666,\"#ed7953\"],[0.7777777777777778,\"#fb9f3a\"],[0.8888888888888888,\"#fdca26\"],[1.0,\"#f0f921\"]]}],\"heatmapgl\":[{\"type\":\"heatmapgl\",\"colorbar\":{\"outlinewidth\":0,\"ticks\":\"\"},\"colorscale\":[[0.0,\"#0d0887\"],[0.1111111111111111,\"#46039f\"],[0.2222222222222222,\"#7201a8\"],[0.3333333333333333,\"#9c179e\"],[0.4444444444444444,\"#bd3786\"],[0.5555555555555556,\"#d8576b\"],[0.6666666666666666,\"#ed7953\"],[0.7777777777777778,\"#fb9f3a\"],[0.8888888888888888,\"#fdca26\"],[1.0,\"#f0f921\"]]}],\"contourcarpet\":[{\"type\":\"contourcarpet\",\"colorbar\":{\"outlinewidth\":0,\"ticks\":\"\"}}],\"contour\":[{\"type\":\"contour\",\"colorbar\":{\"outlinewidth\":0,\"ticks\":\"\"},\"colorscale\":[[0.0,\"#0d0887\"],[0.1111111111111111,\"#46039f\"],[0.2222222222222222,\"#7201a8\"],[0.3333333333333333,\"#9c179e\"],[0.4444444444444444,\"#bd3786\"],[0.5555555555555556,\"#d8576b\"],[0.6666666666666666,\"#ed7953\"],[0.7777777777777778,\"#fb9f3a\"],[0.8888888888888888,\"#fdca26\"],[1.0,\"#f0f921\"]]}],\"surface\":[{\"type\":\"surface\",\"colorbar\":{\"outlinewidth\":0,\"ticks\":\"\"},\"colorscale\":[[0.0,\"#0d0887\"],[0.1111111111111111,\"#46039f\"],[0.2222222222222222,\"#7201a8\"],[0.3333333333333333,\"#9c179e\"],[0.4444444444444444,\"#bd3786\"],[0.5555555555555556,\"#d8576b\"],[0.6666666666666666,\"#ed7953\"],[0.7777777777777778,\"#fb9f3a\"],[0.8888888888888888,\"#fdca26\"],[1.0,\"#f0f921\"]]}],\"mesh3d\":[{\"type\":\"mesh3d\",\"colorbar\":{\"outlinewidth\":0,\"ticks\":\"\"}}],\"scatter\":[{\"marker\":{\"line\":{\"color\":\"#283442\"}},\"type\":\"scatter\"}],\"parcoords\":[{\"type\":\"parcoords\",\"line\":{\"colorbar\":{\"outlinewidth\":0,\"ticks\":\"\"}}}],\"scatterpolargl\":[{\"type\":\"scatterpolargl\",\"marker\":{\"colorbar\":{\"outlinewidth\":0,\"ticks\":\"\"}}}],\"bar\":[{\"error_x\":{\"color\":\"#f2f5fa\"},\"error_y\":{\"color\":\"#f2f5fa\"},\"marker\":{\"line\":{\"color\":\"rgb(17,17,17)\",\"width\":0.5},\"pattern\":{\"fillmode\":\"overlay\",\"size\":10,\"solidity\":0.2}},\"type\":\"bar\"}],\"scattergeo\":[{\"type\":\"scattergeo\",\"marker\":{\"colorbar\":{\"outlinewidth\":0,\"ticks\":\"\"}}}],\"scatterpolar\":[{\"type\":\"scatterpolar\",\"marker\":{\"colorbar\":{\"outlinewidth\":0,\"ticks\":\"\"}}}],\"histogram\":[{\"marker\":{\"pattern\":{\"fillmode\":\"overlay\",\"size\":10,\"solidity\":0.2}},\"type\":\"histogram\"}],\"scattergl\":[{\"marker\":{\"line\":{\"color\":\"#283442\"}},\"type\":\"scattergl\"}],\"scatter3d\":[{\"type\":\"scatter3d\",\"line\":{\"colorbar\":{\"outlinewidth\":0,\"ticks\":\"\"}},\"marker\":{\"colorbar\":{\"outlinewidth\":0,\"ticks\":\"\"}}}],\"scattermapbox\":[{\"type\":\"scattermapbox\",\"marker\":{\"colorbar\":{\"outlinewidth\":0,\"ticks\":\"\"}}}],\"scatterternary\":[{\"type\":\"scatterternary\",\"marker\":{\"colorbar\":{\"outlinewidth\":0,\"ticks\":\"\"}}}],\"scattercarpet\":[{\"type\":\"scattercarpet\",\"marker\":{\"colorbar\":{\"outlinewidth\":0,\"ticks\":\"\"}}}],\"carpet\":[{\"aaxis\":{\"endlinecolor\":\"#A2B1C6\",\"gridcolor\":\"#506784\",\"linecolor\":\"#506784\",\"minorgridcolor\":\"#506784\",\"startlinecolor\":\"#A2B1C6\"},\"baxis\":{\"endlinecolor\":\"#A2B1C6\",\"gridcolor\":\"#506784\",\"linecolor\":\"#506784\",\"minorgridcolor\":\"#506784\",\"startlinecolor\":\"#A2B1C6\"},\"type\":\"carpet\"}],\"table\":[{\"cells\":{\"fill\":{\"color\":\"#506784\"},\"line\":{\"color\":\"rgb(17,17,17)\"}},\"header\":{\"fill\":{\"color\":\"#2a3f5f\"},\"line\":{\"color\":\"rgb(17,17,17)\"}},\"type\":\"table\"}],\"barpolar\":[{\"marker\":{\"line\":{\"color\":\"rgb(17,17,17)\",\"width\":0.5},\"pattern\":{\"fillmode\":\"overlay\",\"size\":10,\"solidity\":0.2}},\"type\":\"barpolar\"}],\"pie\":[{\"automargin\":true,\"type\":\"pie\"}]},\"layout\":{\"autotypenumbers\":\"strict\",\"colorway\":[\"#636efa\",\"#EF553B\",\"#00cc96\",\"#ab63fa\",\"#FFA15A\",\"#19d3f3\",\"#FF6692\",\"#B6E880\",\"#FF97FF\",\"#FECB52\"],\"font\":{\"color\":\"#f2f5fa\"},\"hovermode\":\"closest\",\"hoverlabel\":{\"align\":\"left\"},\"paper_bgcolor\":\"rgb(17,17,17)\",\"plot_bgcolor\":\"rgb(17,17,17)\",\"polar\":{\"bgcolor\":\"rgb(17,17,17)\",\"angularaxis\":{\"gridcolor\":\"#506784\",\"linecolor\":\"#506784\",\"ticks\":\"\"},\"radialaxis\":{\"gridcolor\":\"#506784\",\"linecolor\":\"#506784\",\"ticks\":\"\"}},\"ternary\":{\"bgcolor\":\"rgb(17,17,17)\",\"aaxis\":{\"gridcolor\":\"#506784\",\"linecolor\":\"#506784\",\"ticks\":\"\"},\"baxis\":{\"gridcolor\":\"#506784\",\"linecolor\":\"#506784\",\"ticks\":\"\"},\"caxis\":{\"gridcolor\":\"#506784\",\"linecolor\":\"#506784\",\"ticks\":\"\"}},\"coloraxis\":{\"colorbar\":{\"outlinewidth\":0,\"ticks\":\"\"}},\"colorscale\":{\"sequential\":[[0.0,\"#0d0887\"],[0.1111111111111111,\"#46039f\"],[0.2222222222222222,\"#7201a8\"],[0.3333333333333333,\"#9c179e\"],[0.4444444444444444,\"#bd3786\"],[0.5555555555555556,\"#d8576b\"],[0.6666666666666666,\"#ed7953\"],[0.7777777777777778,\"#fb9f3a\"],[0.8888888888888888,\"#fdca26\"],[1.0,\"#f0f921\"]],\"sequentialminus\":[[0.0,\"#0d0887\"],[0.1111111111111111,\"#46039f\"],[0.2222222222222222,\"#7201a8\"],[0.3333333333333333,\"#9c179e\"],[0.4444444444444444,\"#bd3786\"],[0.5555555555555556,\"#d8576b\"],[0.6666666666666666,\"#ed7953\"],[0.7777777777777778,\"#fb9f3a\"],[0.8888888888888888,\"#fdca26\"],[1.0,\"#f0f921\"]],\"diverging\":[[0,\"#8e0152\"],[0.1,\"#c51b7d\"],[0.2,\"#de77ae\"],[0.3,\"#f1b6da\"],[0.4,\"#fde0ef\"],[0.5,\"#f7f7f7\"],[0.6,\"#e6f5d0\"],[0.7,\"#b8e186\"],[0.8,\"#7fbc41\"],[0.9,\"#4d9221\"],[1,\"#276419\"]]},\"xaxis\":{\"gridcolor\":\"#283442\",\"linecolor\":\"#506784\",\"ticks\":\"\",\"title\":{\"standoff\":15},\"zerolinecolor\":\"#283442\",\"automargin\":true,\"zerolinewidth\":2},\"yaxis\":{\"gridcolor\":\"#283442\",\"linecolor\":\"#506784\",\"ticks\":\"\",\"title\":{\"standoff\":15},\"zerolinecolor\":\"#283442\",\"automargin\":true,\"zerolinewidth\":2},\"scene\":{\"xaxis\":{\"backgroundcolor\":\"rgb(17,17,17)\",\"gridcolor\":\"#506784\",\"linecolor\":\"#506784\",\"showbackground\":true,\"ticks\":\"\",\"zerolinecolor\":\"#C8D4E3\",\"gridwidth\":2},\"yaxis\":{\"backgroundcolor\":\"rgb(17,17,17)\",\"gridcolor\":\"#506784\",\"linecolor\":\"#506784\",\"showbackground\":true,\"ticks\":\"\",\"zerolinecolor\":\"#C8D4E3\",\"gridwidth\":2},\"zaxis\":{\"backgroundcolor\":\"rgb(17,17,17)\",\"gridcolor\":\"#506784\",\"linecolor\":\"#506784\",\"showbackground\":true,\"ticks\":\"\",\"zerolinecolor\":\"#C8D4E3\",\"gridwidth\":2}},\"shapedefaults\":{\"line\":{\"color\":\"#f2f5fa\"}},\"annotationdefaults\":{\"arrowcolor\":\"#f2f5fa\",\"arrowhead\":0,\"arrowwidth\":1},\"geo\":{\"bgcolor\":\"rgb(17,17,17)\",\"landcolor\":\"rgb(17,17,17)\",\"subunitcolor\":\"#506784\",\"showland\":true,\"showlakes\":true,\"lakecolor\":\"rgb(17,17,17)\"},\"title\":{\"x\":0.05},\"updatemenudefaults\":{\"bgcolor\":\"#506784\",\"borderwidth\":0},\"sliderdefaults\":{\"bgcolor\":\"#C8D4E3\",\"borderwidth\":1,\"bordercolor\":\"rgb(17,17,17)\",\"tickwidth\":0},\"mapbox\":{\"style\":\"dark\"}}},\"title\":{\"text\":\"NC NHSN vs HHS value over time with (diff \\u003e 20% and val \\u003e 100) markers\"}},                        {\"responsive\": true}                    ).then(function(){\n",
       "                            \n",
       "var gd = document.getElementById('a185452e-8d09-43bf-ad9d-bb0d3caa6fc3');\n",
       "var x = new MutationObserver(function (mutations, observer) {{\n",
       "        var display = window.getComputedStyle(gd).display;\n",
       "        if (!display || display === 'none') {{\n",
       "            console.log([gd, 'removed!']);\n",
       "            Plotly.purge(gd);\n",
       "            observer.disconnect();\n",
       "        }}\n",
       "}});\n",
       "\n",
       "// Listen for the removal of the full notebook cells\n",
       "var notebookContainer = gd.closest('#notebook-container');\n",
       "if (notebookContainer) {{\n",
       "    x.observe(notebookContainer, {childList: true});\n",
       "}}\n",
       "\n",
       "// Listen for the clearing of the current output cell\n",
       "var outputEl = gd.closest('.output');\n",
       "if (outputEl) {{\n",
       "    x.observe(outputEl, {childList: true});\n",
       "}}\n",
       "\n",
       "                        })                };                });            </script>        </div>"
      ]
     },
     "metadata": {},
     "output_type": "display_data"
    }
   ],
   "execution_count": 131
  }
 ],
 "metadata": {
  "kernelspec": {
   "display_name": "Python 3",
   "language": "python",
   "name": "python3"
  },
  "language_info": {
   "codemirror_mode": {
    "name": "ipython",
    "version": 2
   },
   "file_extension": ".py",
   "mimetype": "text/x-python",
   "name": "python",
   "nbconvert_exporter": "python",
   "pygments_lexer": "ipython2",
   "version": "2.7.6"
  }
 },
 "nbformat": 4,
 "nbformat_minor": 5
}
