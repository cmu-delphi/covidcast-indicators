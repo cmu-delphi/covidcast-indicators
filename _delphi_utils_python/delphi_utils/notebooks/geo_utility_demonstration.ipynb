{
 "cells": [
  {
   "cell_type": "markdown",
   "metadata": {},
   "source": [
    "# Geocoding Utility Demo"
   ]
  },
  {
   "cell_type": "code",
   "execution_count": 1,
   "metadata": {},
   "outputs": [],
   "source": [
    "import os\n",
    "import pandas as pd\n",
    "import numpy as np\n",
    "\n",
    "from delphi_utils import GeoMapper\n",
    "\n",
    "os.chdir(\"_delphi_utils_python/delphi_utils/data/2020/\")"
   ]
  },
  {
   "cell_type": "markdown",
   "metadata": {},
   "source": [
    "# Basic Utility Usage\n",
    "Two functions: `add_geocode` and `replace_geocode`."
   ]
  },
  {
   "cell_type": "code",
   "execution_count": 15,
   "metadata": {
    "tags": []
   },
   "outputs": [
    {
     "name": "stdout",
     "output_type": "stream",
     "text": [
      "fips       date  count  total    zip    weight\n",
      "0  01123 2018-01-01    2.0    4.0  35010  0.461001\n",
      "1  01123 2018-01-01    2.0    4.0  35072  0.013264\n",
      "2  01123 2018-01-01    2.0    4.0  35089  0.017661\n",
      "3  01123 2018-01-01    2.0    4.0  36078  0.113826\n",
      "4  01123 2018-01-01    2.0    4.0  36255  0.000433\n",
      "        date    zip     count     total\n",
      "0 2018-01-01  00602  0.000000  0.000000\n",
      "1 2018-01-01  00610  0.000000  0.000000\n",
      "2 2018-01-01  00676  0.000000  0.000000\n",
      "3 2018-01-01  00677  0.000000  0.000000\n",
      "4 2018-01-01  35010  0.922001  1.844002\n"
     ]
    }
   ],
   "source": [
    "fips_data = pd.DataFrame({\n",
    "        \"fips\":[1123,48253,72003,18181],\n",
    "        \"date\":[pd.Timestamp('2018-01-01')]*4,\n",
    "        \"count\": [2,1,np.nan,10021],\n",
    "        \"total\": [4,1,np.nan,100001]\n",
    "    })\n",
    "\n",
    "# Add a new column with the new code\n",
    "gmpr = GeoMapper()\n",
    "df = gmpr.add_geocode(fips_data, \"fips\", \"zip\")\n",
    "print(df.head())\n",
    "\n",
    "# Convert a column with the new code\n",
    "gmpr = GeoMapper()\n",
    "df = gmpr.replace_geocode(fips_data, \"fips\", \"zip\")\n",
    "print(df.head())"
   ]
  },
  {
   "cell_type": "code",
   "execution_count": 16,
   "metadata": {},
   "outputs": [
    {
     "data": {
      "text/html": [
       "<div>\n",
       "<style scoped>\n",
       "    .dataframe tbody tr th:only-of-type {\n",
       "        vertical-align: middle;\n",
       "    }\n",
       "\n",
       "    .dataframe tbody tr th {\n",
       "        vertical-align: top;\n",
       "    }\n",
       "\n",
       "    .dataframe thead th {\n",
       "        text-align: right;\n",
       "    }\n",
       "</style>\n",
       "<table border=\"1\" class=\"dataframe\">\n",
       "  <thead>\n",
       "    <tr style=\"text-align: right;\">\n",
       "      <th></th>\n",
       "      <th>date</th>\n",
       "      <th>hrr</th>\n",
       "      <th>count</th>\n",
       "      <th>total</th>\n",
       "    </tr>\n",
       "  </thead>\n",
       "  <tbody>\n",
       "    <tr>\n",
       "      <th>0</th>\n",
       "      <td>2018-01-01</td>\n",
       "      <td>1</td>\n",
       "      <td>1.772347</td>\n",
       "      <td>3.544694</td>\n",
       "    </tr>\n",
       "    <tr>\n",
       "      <th>1</th>\n",
       "      <td>2018-01-01</td>\n",
       "      <td>183</td>\n",
       "      <td>7157.392404</td>\n",
       "      <td>71424.648014</td>\n",
       "    </tr>\n",
       "    <tr>\n",
       "      <th>2</th>\n",
       "      <td>2018-01-01</td>\n",
       "      <td>184</td>\n",
       "      <td>2863.607596</td>\n",
       "      <td>28576.351986</td>\n",
       "    </tr>\n",
       "    <tr>\n",
       "      <th>3</th>\n",
       "      <td>2018-01-01</td>\n",
       "      <td>382</td>\n",
       "      <td>1.000000</td>\n",
       "      <td>1.000000</td>\n",
       "    </tr>\n",
       "    <tr>\n",
       "      <th>4</th>\n",
       "      <td>2018-01-01</td>\n",
       "      <td>7</td>\n",
       "      <td>0.227653</td>\n",
       "      <td>0.455306</td>\n",
       "    </tr>\n",
       "  </tbody>\n",
       "</table>\n",
       "</div>"
      ],
      "text/plain": [
       "        date  hrr        count         total\n",
       "0 2018-01-01    1     1.772347      3.544694\n",
       "1 2018-01-01  183  7157.392404  71424.648014\n",
       "2 2018-01-01  184  2863.607596  28576.351986\n",
       "3 2018-01-01  382     1.000000      1.000000\n",
       "4 2018-01-01    7     0.227653      0.455306"
      ]
     },
     "execution_count": 16,
     "metadata": {},
     "output_type": "execute_result"
    }
   ],
   "source": [
    "gmpr = GeoMapper()\n",
    "df = gmpr.replace_geocode(fips_data, \"fips\", \"hrr\")\n",
    "df"
   ]
  },
  {
   "cell_type": "code",
   "execution_count": 19,
   "metadata": {},
   "outputs": [
    {
     "data": {
      "text/plain": [
       "True"
      ]
     },
     "execution_count": 19,
     "metadata": {},
     "output_type": "execute_result"
    }
   ],
   "source": [
    "df = gmpr.replace_geocode(fips_data, \"fips\", \"hrr\")\n",
    "df2 = gmpr.replace_geocode(fips_data, \"fips\", \"zip\")\n",
    "df2 = gmpr.replace_geocode(df2, \"zip\", \"hrr\")\n",
    "np.allclose(df[['count', 'total']].values, df2[['count', 'total']].values)"
   ]
  },
  {
   "cell_type": "markdown",
   "metadata": {},
   "source": [
    "# Utility Inner Workings"
   ]
  },
  {
   "cell_type": "markdown",
   "metadata": {},
   "source": [
    "## Deriving a crosswalk\n",
    "Given two crosswalks, we create a derived crosswalk by merging on the common code. This is the method used in `geo_data_proc.py`."
   ]
  },
  {
   "cell_type": "code",
   "execution_count": 21,
   "metadata": {},
   "outputs": [
    {
     "data": {
      "text/html": [
       "<div>\n",
       "<style scoped>\n",
       "    .dataframe tbody tr th:only-of-type {\n",
       "        vertical-align: middle;\n",
       "    }\n",
       "\n",
       "    .dataframe tbody tr th {\n",
       "        vertical-align: top;\n",
       "    }\n",
       "\n",
       "    .dataframe thead th {\n",
       "        text-align: right;\n",
       "    }\n",
       "</style>\n",
       "<table border=\"1\" class=\"dataframe\">\n",
       "  <thead>\n",
       "    <tr style=\"text-align: right;\">\n",
       "      <th></th>\n",
       "      <th>zip</th>\n",
       "      <th>weight</th>\n",
       "      <th>state_code</th>\n",
       "    </tr>\n",
       "  </thead>\n",
       "  <tbody>\n",
       "    <tr>\n",
       "      <th>0</th>\n",
       "      <td>00601</td>\n",
       "      <td>0.994346</td>\n",
       "      <td>72</td>\n",
       "    </tr>\n",
       "    <tr>\n",
       "      <th>1</th>\n",
       "      <td>00601</td>\n",
       "      <td>0.005654</td>\n",
       "      <td>72</td>\n",
       "    </tr>\n",
       "    <tr>\n",
       "      <th>2</th>\n",
       "      <td>00602</td>\n",
       "      <td>1.000000</td>\n",
       "      <td>72</td>\n",
       "    </tr>\n",
       "    <tr>\n",
       "      <th>3</th>\n",
       "      <td>00603</td>\n",
       "      <td>1.000000</td>\n",
       "      <td>72</td>\n",
       "    </tr>\n",
       "    <tr>\n",
       "      <th>4</th>\n",
       "      <td>00606</td>\n",
       "      <td>0.948753</td>\n",
       "      <td>72</td>\n",
       "    </tr>\n",
       "    <tr>\n",
       "      <th>...</th>\n",
       "      <td>...</td>\n",
       "      <td>...</td>\n",
       "      <td>...</td>\n",
       "    </tr>\n",
       "    <tr>\n",
       "      <th>44405</th>\n",
       "      <td>99923</td>\n",
       "      <td>1.000000</td>\n",
       "      <td>02</td>\n",
       "    </tr>\n",
       "    <tr>\n",
       "      <th>44406</th>\n",
       "      <td>99925</td>\n",
       "      <td>1.000000</td>\n",
       "      <td>02</td>\n",
       "    </tr>\n",
       "    <tr>\n",
       "      <th>44407</th>\n",
       "      <td>99926</td>\n",
       "      <td>1.000000</td>\n",
       "      <td>02</td>\n",
       "    </tr>\n",
       "    <tr>\n",
       "      <th>44408</th>\n",
       "      <td>99927</td>\n",
       "      <td>1.000000</td>\n",
       "      <td>02</td>\n",
       "    </tr>\n",
       "    <tr>\n",
       "      <th>44409</th>\n",
       "      <td>99929</td>\n",
       "      <td>1.000000</td>\n",
       "      <td>02</td>\n",
       "    </tr>\n",
       "  </tbody>\n",
       "</table>\n",
       "<p>44410 rows × 3 columns</p>\n",
       "</div>"
      ],
      "text/plain": [
       "         zip    weight state_code\n",
       "0      00601  0.994346         72\n",
       "1      00601  0.005654         72\n",
       "2      00602  1.000000         72\n",
       "3      00603  1.000000         72\n",
       "4      00606  0.948753         72\n",
       "...      ...       ...        ...\n",
       "44405  99923  1.000000         02\n",
       "44406  99925  1.000000         02\n",
       "44407  99926  1.000000         02\n",
       "44408  99927  1.000000         02\n",
       "44409  99929  1.000000         02\n",
       "\n",
       "[44410 rows x 3 columns]"
      ]
     },
     "execution_count": 21,
     "metadata": {},
     "output_type": "execute_result"
    }
   ],
   "source": [
    "state_df = pd.read_csv(\"state_codes_table.csv\", dtype={\"state_code\": str, \"state_id\": str, \"state_name\": str})\n",
    "zip_fips_df = pd.read_csv(\"zip_fips_table.csv\", dtype={\"zip\": str, \"fips\": str})\n",
    "zip_fips_df[\"state_code\"] = zip_fips_df[\"fips\"].str[:2]\n",
    "zip_state_code_df = zip_fips_df.merge(state_df, on=\"state_code\", how=\"left\").drop(columns=[\"fips\", \"state_id\", \"state_name\"])\n",
    "assert 52 == len(zip_state_code_df.state_code.unique())\n",
    "zip_state_code_df"
   ]
  },
  {
   "cell_type": "markdown",
   "metadata": {},
   "source": [
    "A weighted crosswalk requires a summation."
   ]
  },
  {
   "cell_type": "code",
   "execution_count": 25,
   "metadata": {},
   "outputs": [
    {
     "data": {
      "text/html": [
       "<div>\n",
       "<style scoped>\n",
       "    .dataframe tbody tr th:only-of-type {\n",
       "        vertical-align: middle;\n",
       "    }\n",
       "\n",
       "    .dataframe tbody tr th {\n",
       "        vertical-align: top;\n",
       "    }\n",
       "\n",
       "    .dataframe thead th {\n",
       "        text-align: right;\n",
       "    }\n",
       "</style>\n",
       "<table border=\"1\" class=\"dataframe\">\n",
       "  <thead>\n",
       "    <tr style=\"text-align: right;\">\n",
       "      <th></th>\n",
       "      <th>fips</th>\n",
       "      <th>hrr</th>\n",
       "      <th>weight</th>\n",
       "    </tr>\n",
       "  </thead>\n",
       "  <tbody>\n",
       "    <tr>\n",
       "      <th>0</th>\n",
       "      <td>01001</td>\n",
       "      <td>1</td>\n",
       "      <td>0.039105</td>\n",
       "    </tr>\n",
       "    <tr>\n",
       "      <th>1</th>\n",
       "      <td>01001</td>\n",
       "      <td>7</td>\n",
       "      <td>0.960895</td>\n",
       "    </tr>\n",
       "    <tr>\n",
       "      <th>2</th>\n",
       "      <td>01003</td>\n",
       "      <td>134</td>\n",
       "      <td>0.031998</td>\n",
       "    </tr>\n",
       "    <tr>\n",
       "      <th>3</th>\n",
       "      <td>01003</td>\n",
       "      <td>6</td>\n",
       "      <td>0.968002</td>\n",
       "    </tr>\n",
       "    <tr>\n",
       "      <th>4</th>\n",
       "      <td>01005</td>\n",
       "      <td>2</td>\n",
       "      <td>0.974360</td>\n",
       "    </tr>\n",
       "    <tr>\n",
       "      <th>...</th>\n",
       "      <td>...</td>\n",
       "      <td>...</td>\n",
       "      <td>...</td>\n",
       "    </tr>\n",
       "    <tr>\n",
       "      <th>5178</th>\n",
       "      <td>56039</td>\n",
       "      <td>274</td>\n",
       "      <td>0.003804</td>\n",
       "    </tr>\n",
       "    <tr>\n",
       "      <th>5179</th>\n",
       "      <td>56039</td>\n",
       "      <td>423</td>\n",
       "      <td>0.996196</td>\n",
       "    </tr>\n",
       "    <tr>\n",
       "      <th>5180</th>\n",
       "      <td>56041</td>\n",
       "      <td>423</td>\n",
       "      <td>1.000000</td>\n",
       "    </tr>\n",
       "    <tr>\n",
       "      <th>5181</th>\n",
       "      <td>56043</td>\n",
       "      <td>274</td>\n",
       "      <td>1.000000</td>\n",
       "    </tr>\n",
       "    <tr>\n",
       "      <th>5182</th>\n",
       "      <td>56045</td>\n",
       "      <td>457</td>\n",
       "      <td>1.000000</td>\n",
       "    </tr>\n",
       "  </tbody>\n",
       "</table>\n",
       "<p>5183 rows × 3 columns</p>\n",
       "</div>"
      ],
      "text/plain": [
       "       fips  hrr    weight\n",
       "0     01001    1  0.039105\n",
       "1     01001    7  0.960895\n",
       "2     01003  134  0.031998\n",
       "3     01003    6  0.968002\n",
       "4     01005    2  0.974360\n",
       "...     ...  ...       ...\n",
       "5178  56039  274  0.003804\n",
       "5179  56039  423  0.996196\n",
       "5180  56041  423  1.000000\n",
       "5181  56043  274  1.000000\n",
       "5182  56045  457  1.000000\n",
       "\n",
       "[5183 rows x 3 columns]"
      ]
     },
     "execution_count": 25,
     "metadata": {},
     "output_type": "execute_result"
    }
   ],
   "source": [
    "FIPS_ZIP_OUT_FILENAME = \"fips_zip_table.csv\"\n",
    "ZIP_HRR_OUT_FILENAME = \"zip_hrr_table.csv\"\n",
    "from os.path import join, isfile\n",
    "\n",
    "fz_df = pd.read_csv(\n",
    "    FIPS_ZIP_OUT_FILENAME,\n",
    "    dtype={\"fips\": str, \"zip\": str, \"weight\": float},\n",
    ")\n",
    "zh_df = pd.read_csv(\n",
    "    ZIP_HRR_OUT_FILENAME,\n",
    "    dtype={\"zip\": str, \"hrr\": str},\n",
    ")\n",
    "\n",
    "df = (fz_df.merge(zh_df, on=\"zip\", how=\"left\")\n",
    "          .drop(columns=\"zip\")\n",
    "          .groupby([\"fips\", \"hrr\"])\n",
    "          .sum()\n",
    "          .reset_index())\n",
    "df"
   ]
  },
  {
   "cell_type": "markdown",
   "metadata": {},
   "source": [
    "## Adding a geocode column\n",
    "Adding a new geocode column is a merge using a matching geocode (left or inner joins, depending on whether we wish to keep NAs or not). Here we translate from zip to fips on some faux data. Since this a merge on the left, invalid ZIP values present in the data, but not present in the crosswalk simply get NAN entries in their columns. If the crosswalk is weighted, a \"weights\" column is added also."
   ]
  },
  {
   "cell_type": "code",
   "execution_count": 27,
   "metadata": {},
   "outputs": [
    {
     "data": {
      "text/html": [
       "<div>\n",
       "<style scoped>\n",
       "    .dataframe tbody tr th:only-of-type {\n",
       "        vertical-align: middle;\n",
       "    }\n",
       "\n",
       "    .dataframe tbody tr th {\n",
       "        vertical-align: top;\n",
       "    }\n",
       "\n",
       "    .dataframe thead th {\n",
       "        text-align: right;\n",
       "    }\n",
       "</style>\n",
       "<table border=\"1\" class=\"dataframe\">\n",
       "  <thead>\n",
       "    <tr style=\"text-align: right;\">\n",
       "      <th></th>\n",
       "      <th>zip</th>\n",
       "      <th>date</th>\n",
       "      <th>count</th>\n",
       "      <th>total</th>\n",
       "      <th>fips</th>\n",
       "      <th>weight</th>\n",
       "    </tr>\n",
       "  </thead>\n",
       "  <tbody>\n",
       "    <tr>\n",
       "      <th>0</th>\n",
       "      <td>45140</td>\n",
       "      <td>2018-01-01</td>\n",
       "      <td>2.0</td>\n",
       "      <td>2.0</td>\n",
       "      <td>39025</td>\n",
       "      <td>0.523570</td>\n",
       "    </tr>\n",
       "    <tr>\n",
       "      <th>1</th>\n",
       "      <td>45140</td>\n",
       "      <td>2018-01-01</td>\n",
       "      <td>2.0</td>\n",
       "      <td>2.0</td>\n",
       "      <td>39061</td>\n",
       "      <td>0.288115</td>\n",
       "    </tr>\n",
       "    <tr>\n",
       "      <th>2</th>\n",
       "      <td>45140</td>\n",
       "      <td>2018-01-01</td>\n",
       "      <td>2.0</td>\n",
       "      <td>2.0</td>\n",
       "      <td>39165</td>\n",
       "      <td>0.188315</td>\n",
       "    </tr>\n",
       "    <tr>\n",
       "      <th>3</th>\n",
       "      <td>45147</td>\n",
       "      <td>2018-01-02</td>\n",
       "      <td>NaN</td>\n",
       "      <td>20.0</td>\n",
       "      <td>39025</td>\n",
       "      <td>0.938776</td>\n",
       "    </tr>\n",
       "    <tr>\n",
       "      <th>4</th>\n",
       "      <td>45147</td>\n",
       "      <td>2018-01-02</td>\n",
       "      <td>NaN</td>\n",
       "      <td>20.0</td>\n",
       "      <td>39061</td>\n",
       "      <td>0.061224</td>\n",
       "    </tr>\n",
       "    <tr>\n",
       "      <th>5</th>\n",
       "      <td>00500</td>\n",
       "      <td>2018-01-03</td>\n",
       "      <td>20.0</td>\n",
       "      <td>40.0</td>\n",
       "      <td>NaN</td>\n",
       "      <td>NaN</td>\n",
       "    </tr>\n",
       "    <tr>\n",
       "      <th>6</th>\n",
       "      <td>95616</td>\n",
       "      <td>2018-01-04</td>\n",
       "      <td>100.0</td>\n",
       "      <td>NaN</td>\n",
       "      <td>06113</td>\n",
       "      <td>1.000000</td>\n",
       "    </tr>\n",
       "    <tr>\n",
       "      <th>7</th>\n",
       "      <td>95618</td>\n",
       "      <td>2018-01-05</td>\n",
       "      <td>21.0</td>\n",
       "      <td>20.0</td>\n",
       "      <td>06095</td>\n",
       "      <td>0.003372</td>\n",
       "    </tr>\n",
       "    <tr>\n",
       "      <th>8</th>\n",
       "      <td>95618</td>\n",
       "      <td>2018-01-05</td>\n",
       "      <td>21.0</td>\n",
       "      <td>20.0</td>\n",
       "      <td>06113</td>\n",
       "      <td>0.996628</td>\n",
       "    </tr>\n",
       "  </tbody>\n",
       "</table>\n",
       "</div>"
      ],
      "text/plain": [
       "     zip       date  count  total   fips    weight\n",
       "0  45140 2018-01-01    2.0    2.0  39025  0.523570\n",
       "1  45140 2018-01-01    2.0    2.0  39061  0.288115\n",
       "2  45140 2018-01-01    2.0    2.0  39165  0.188315\n",
       "3  45147 2018-01-02    NaN   20.0  39025  0.938776\n",
       "4  45147 2018-01-02    NaN   20.0  39061  0.061224\n",
       "5  00500 2018-01-03   20.0   40.0    NaN       NaN\n",
       "6  95616 2018-01-04  100.0    NaN  06113  1.000000\n",
       "7  95618 2018-01-05   21.0   20.0  06095  0.003372\n",
       "8  95618 2018-01-05   21.0   20.0  06113  0.996628"
      ]
     },
     "execution_count": 27,
     "metadata": {},
     "output_type": "execute_result"
    }
   ],
   "source": [
    "zip_data = pd.DataFrame(\n",
    "        {\n",
    "            \"zip\": [\"45140\", \"45147\", \"00500\", \"95616\", \"95618\"],\n",
    "            \"date\": pd.date_range(\"2018-01-01\", periods=5),\n",
    "            \"count\": [2, np.nan, 20, 100, 21],\n",
    "            \"total\": [2, 20, 40, np.nan, 20]\n",
    "        }\n",
    "    )\n",
    "zip_fips_df = pd.read_csv(\"zip_fips_table.csv\", dtype={\"zip\": str, \"fips\": str})\n",
    "\n",
    "data_df = zip_data.merge(zip_fips_df, left_on=\"zip\", right_on=\"zip\", how=\"left\")\n",
    "data_df"
   ]
  },
  {
   "cell_type": "markdown",
   "metadata": {},
   "source": [
    "## Replacing a column\n",
    "If there are no weights, we just drop the old column and we're done. If there are weights, we multiply the data by the weights and sum over the old codes. A helpful way to think of the operation is a multiplication of the data matrix (row vectors are columns of the dataframe) $D$ by the weights matrix $W$, resulting in $D*W$. The weights matrix is row-stochastic (i.e. rows sum to 1). \n",
    "\n",
    "Note that the aggregation step (i.e. linear combination of source code values) requires a decision for how to handle NA values. We choose to zero-fill them to avoid propagating NAs."
   ]
  },
  {
   "cell_type": "code",
   "execution_count": 28,
   "metadata": {},
   "outputs": [
    {
     "data": {
      "text/html": [
       "<div>\n",
       "<style scoped>\n",
       "    .dataframe tbody tr th:only-of-type {\n",
       "        vertical-align: middle;\n",
       "    }\n",
       "\n",
       "    .dataframe tbody tr th {\n",
       "        vertical-align: top;\n",
       "    }\n",
       "\n",
       "    .dataframe thead th {\n",
       "        text-align: right;\n",
       "    }\n",
       "</style>\n",
       "<table border=\"1\" class=\"dataframe\">\n",
       "  <thead>\n",
       "    <tr style=\"text-align: right;\">\n",
       "      <th></th>\n",
       "      <th>date</th>\n",
       "      <th>fips</th>\n",
       "      <th>count</th>\n",
       "      <th>total</th>\n",
       "    </tr>\n",
       "  </thead>\n",
       "  <tbody>\n",
       "    <tr>\n",
       "      <th>0</th>\n",
       "      <td>2018-01-01</td>\n",
       "      <td>39025</td>\n",
       "      <td>1.047140</td>\n",
       "      <td>1.047140</td>\n",
       "    </tr>\n",
       "    <tr>\n",
       "      <th>1</th>\n",
       "      <td>2018-01-01</td>\n",
       "      <td>39061</td>\n",
       "      <td>0.576229</td>\n",
       "      <td>0.576229</td>\n",
       "    </tr>\n",
       "    <tr>\n",
       "      <th>2</th>\n",
       "      <td>2018-01-01</td>\n",
       "      <td>39165</td>\n",
       "      <td>0.376631</td>\n",
       "      <td>0.376631</td>\n",
       "    </tr>\n",
       "    <tr>\n",
       "      <th>3</th>\n",
       "      <td>2018-01-02</td>\n",
       "      <td>39025</td>\n",
       "      <td>0.000000</td>\n",
       "      <td>18.775510</td>\n",
       "    </tr>\n",
       "    <tr>\n",
       "      <th>4</th>\n",
       "      <td>2018-01-02</td>\n",
       "      <td>39061</td>\n",
       "      <td>0.000000</td>\n",
       "      <td>1.224490</td>\n",
       "    </tr>\n",
       "    <tr>\n",
       "      <th>5</th>\n",
       "      <td>2018-01-04</td>\n",
       "      <td>06113</td>\n",
       "      <td>100.000000</td>\n",
       "      <td>0.000000</td>\n",
       "    </tr>\n",
       "    <tr>\n",
       "      <th>6</th>\n",
       "      <td>2018-01-05</td>\n",
       "      <td>06095</td>\n",
       "      <td>0.070819</td>\n",
       "      <td>0.067446</td>\n",
       "    </tr>\n",
       "    <tr>\n",
       "      <th>7</th>\n",
       "      <td>2018-01-05</td>\n",
       "      <td>06113</td>\n",
       "      <td>20.929181</td>\n",
       "      <td>19.932554</td>\n",
       "    </tr>\n",
       "  </tbody>\n",
       "</table>\n",
       "</div>"
      ],
      "text/plain": [
       "        date   fips       count      total\n",
       "0 2018-01-01  39025    1.047140   1.047140\n",
       "1 2018-01-01  39061    0.576229   0.576229\n",
       "2 2018-01-01  39165    0.376631   0.376631\n",
       "3 2018-01-02  39025    0.000000  18.775510\n",
       "4 2018-01-02  39061    0.000000   1.224490\n",
       "5 2018-01-04  06113  100.000000   0.000000\n",
       "6 2018-01-05  06095    0.070819   0.067446\n",
       "7 2018-01-05  06113   20.929181  19.932554"
      ]
     },
     "execution_count": 28,
     "metadata": {},
     "output_type": "execute_result"
    }
   ],
   "source": [
    "data_df = data_df.drop(columns=\"zip\")\n",
    "\n",
    "# Multiply and aggregate\n",
    "data_df[[\"count\", \"total\"]] = data_df[[\"count\", \"total\"]].multiply(data_df[\"weight\"], axis=0)\n",
    "data_df = (data_df.drop(\"weight\", axis=1)\n",
    "                  .groupby([\"date\", \"fips\"])\n",
    "                  .sum()\n",
    "                  .reset_index())\n",
    "data_df"
   ]
  },
  {
   "cell_type": "markdown",
   "metadata": {},
   "source": [
    "## Building population weights for FIPS <-> ZIP"
   ]
  },
  {
   "cell_type": "code",
   "execution_count": 29,
   "metadata": {},
   "outputs": [
    {
     "data": {
      "text/html": [
       "<div>\n",
       "<style scoped>\n",
       "    .dataframe tbody tr th:only-of-type {\n",
       "        vertical-align: middle;\n",
       "    }\n",
       "\n",
       "    .dataframe tbody tr th {\n",
       "        vertical-align: top;\n",
       "    }\n",
       "\n",
       "    .dataframe thead th {\n",
       "        text-align: right;\n",
       "    }\n",
       "</style>\n",
       "<table border=\"1\" class=\"dataframe\">\n",
       "  <thead>\n",
       "    <tr style=\"text-align: right;\">\n",
       "      <th></th>\n",
       "      <th></th>\n",
       "      <th>pop</th>\n",
       "    </tr>\n",
       "    <tr>\n",
       "      <th>fips</th>\n",
       "      <th>zip</th>\n",
       "      <th></th>\n",
       "    </tr>\n",
       "  </thead>\n",
       "  <tbody>\n",
       "    <tr>\n",
       "      <th>72001</th>\n",
       "      <th>00601</th>\n",
       "      <td>18465</td>\n",
       "    </tr>\n",
       "    <tr>\n",
       "      <th>72141</th>\n",
       "      <th>00601</th>\n",
       "      <td>105</td>\n",
       "    </tr>\n",
       "    <tr>\n",
       "      <th>72003</th>\n",
       "      <th>00602</th>\n",
       "      <td>41520</td>\n",
       "    </tr>\n",
       "    <tr>\n",
       "      <th>72005</th>\n",
       "      <th>00603</th>\n",
       "      <td>54689</td>\n",
       "    </tr>\n",
       "    <tr>\n",
       "      <th>72093</th>\n",
       "      <th>00606</th>\n",
       "      <td>6276</td>\n",
       "    </tr>\n",
       "    <tr>\n",
       "      <th>...</th>\n",
       "      <th>...</th>\n",
       "      <td>...</td>\n",
       "    </tr>\n",
       "    <tr>\n",
       "      <th rowspan=\"4\" valign=\"top\">02198</th>\n",
       "      <th>99923</th>\n",
       "      <td>87</td>\n",
       "    </tr>\n",
       "    <tr>\n",
       "      <th>99925</th>\n",
       "      <td>819</td>\n",
       "    </tr>\n",
       "    <tr>\n",
       "      <th>99926</th>\n",
       "      <td>1460</td>\n",
       "    </tr>\n",
       "    <tr>\n",
       "      <th>99927</th>\n",
       "      <td>94</td>\n",
       "    </tr>\n",
       "    <tr>\n",
       "      <th>02275</th>\n",
       "      <th>99929</th>\n",
       "      <td>2338</td>\n",
       "    </tr>\n",
       "  </tbody>\n",
       "</table>\n",
       "<p>44410 rows × 1 columns</p>\n",
       "</div>"
      ],
      "text/plain": [
       "               pop\n",
       "fips  zip         \n",
       "72001 00601  18465\n",
       "72141 00601    105\n",
       "72003 00602  41520\n",
       "72005 00603  54689\n",
       "72093 00606   6276\n",
       "...            ...\n",
       "02198 99923     87\n",
       "      99925    819\n",
       "      99926   1460\n",
       "      99927     94\n",
       "02275 99929   2338\n",
       "\n",
       "[44410 rows x 1 columns]"
      ]
     },
     "execution_count": 29,
     "metadata": {},
     "output_type": "execute_result"
    }
   ],
   "source": [
    "FIPS_BY_ZIP_POP_URL = (\n",
    "    \"https://www2.census.gov/geo/docs/maps-data/data/rel/zcta_county_rel_10.txt?#\"\n",
    ")\n",
    "pop_df = pd.read_csv(FIPS_BY_ZIP_POP_URL)\n",
    "\n",
    "# Create the FIPS column by combining the state and county codes\n",
    "pop_df[\"fips\"] = pop_df[\"STATE\"].astype(str).str.zfill(2) + pop_df[\"COUNTY\"].astype(\n",
    "    str\n",
    ").str.zfill(3)\n",
    "\n",
    "# Create the ZIP column by adding leading zeros to the ZIP\n",
    "pop_df[\"zip\"] = pop_df[\"ZCTA5\"].astype(str).str.zfill(5)\n",
    "\n",
    "# Pare down the dataframe to just the relevant columns: zip, fips, and population\n",
    "pop_df = pop_df[[\"zip\", \"fips\", \"POPPT\"]].rename(columns={\"POPPT\": \"pop\"})\n",
    "\n",
    "pop_df.set_index(\n",
    "    [\"fips\", \"zip\"], inplace=True\n",
    ")  # can we do without this and resetting index below?\n",
    "pop_df"
   ]
  },
  {
   "cell_type": "code",
   "execution_count": 31,
   "metadata": {},
   "outputs": [
    {
     "data": {
      "text/plain": [
       "312462997"
      ]
     },
     "execution_count": 31,
     "metadata": {},
     "output_type": "execute_result"
    }
   ],
   "source": [
    "# 2010 Census, corresponds to 308 million population figure\n",
    "pop_df[\"pop\"].sum()"
   ]
  },
  {
   "cell_type": "markdown",
   "metadata": {},
   "source": [
    "## US Census FIPS <-> ZIP crosswalk versus simplemaps.com\n",
    "We're switching to the US Census table for safety. The FIPS to ZIP weights in the two are essentially the same."
   ]
  },
  {
   "cell_type": "code",
   "execution_count": 110,
   "metadata": {
    "tags": []
   },
   "outputs": [
    {
     "name": "stdout",
     "output_type": "stream",
     "text": [
      "326256148\n"
     ]
    }
   ],
   "source": [
    "df_census = GeoMapper().load_crosswalk(\"zip\", \"fips\")\n",
    "df_simplemaps = pd.read_csv(\"../../data_proc/geomap/uszips.csv\")\n",
    "print(df_simplemaps[\"population\"].sum())"
   ]
  },
  {
   "cell_type": "code",
   "execution_count": 111,
   "metadata": {
    "tags": []
   },
   "outputs": [],
   "source": [
    "df_simplemaps[\"county_weights\"] = df_simplemaps[\"county_weights\"].transform(lambda x: list(eval(x).items()))\n",
    "df_simplemaps = df_simplemaps.explode(\"county_weights\")\n",
    "df_simplemaps[\"county_fips\"] = df_simplemaps[\"county_weights\"].apply(lambda x: x[0])\n",
    "df_simplemaps[\"county_weights\"] = df_simplemaps[\"county_weights\"].apply(lambda x: x[1]/100)\n",
    "df_simplemaps = df_simplemaps.rename(columns={\"county_fips\": \"fips\"})\n",
    "df_simplemaps[\"zip\"] = df_simplemaps[\"zip\"].astype(str).str.zfill(5)\n",
    "df_simplemaps[\"fips\"] = df_simplemaps[\"fips\"].astype(str).str.zfill(5)\n",
    "df = df_census.merge(df_simplemaps, on=[\"zip\", \"fips\"], how=\"left\")"
   ]
  },
  {
   "cell_type": "code",
   "execution_count": 62,
   "metadata": {},
   "outputs": [
    {
     "data": {
      "text/plain": [
       "1.1494991956541422e-05"
      ]
     },
     "execution_count": 62,
     "metadata": {},
     "output_type": "execute_result"
    }
   ],
   "source": [
    "df[\"weight\"].sub(df[\"county_weights\"]).abs().mean()"
   ]
  },
  {
   "cell_type": "code",
   "execution_count": 68,
   "metadata": {},
   "outputs": [
    {
     "data": {
      "text/plain": [
       "1.307895680646709e-09"
      ]
     },
     "execution_count": 68,
     "metadata": {},
     "output_type": "execute_result"
    }
   ],
   "source": [
    "1 - df[\"weight\"].corr(df[\"county_weights\"])"
   ]
  },
  {
   "cell_type": "code",
   "execution_count": 120,
   "metadata": {
    "tags": []
   },
   "outputs": [
    {
     "name": "stdout",
     "output_type": "stream",
     "text": [
      "113.4559999704361 147.0\n"
     ]
    }
   ],
   "source": [
    "df = df.dropna(subset=[\"population\"])\n",
    "print(df.groupby(\"zip\")[\"population\"].unique().sum()[0] - df[\"population\"].multiply(df[\"county_weights\"]).sum(),\n",
    "      df.groupby(\"zip\")[\"population\"].unique().sum()[0] - df[\"population\"].multiply(df[\"weight\"]).sum())"
   ]
  },
  {
   "attachments": {},
   "cell_type": "markdown",
   "metadata": {},
   "source": [
    "## We have updated the FIPS to HRR tables since the last version (James' version)\n",
    "And they haven't changed by very much. \n",
    "Note: Since JHU is now deactivated, this code may not work."
   ]
  },
  {
   "cell_type": "code",
   "execution_count": null,
   "metadata": {},
   "outputs": [],
   "source": [
    "df_new = GeoMapper().load_crosswalk(\"fips\", \"hrr\")\n",
    "df_old = pd.read_csv(\"https://raw.githubusercontent.com/cmu-delphi/covidcast-indicators/jhu_fix_0824/_delphi_utils_python/delphi_utils/data/fips_hrr_cross.csv?token=AANZ76Q7CUS7REWHRIGNKV27KHH6U\", dtype={\"fips\": str, \"hrr\": str, \"weight\": float})\n",
    "df_old[\"fips\"] = df_old[\"fips\"].str.zfill(5)\n",
    "df = df_new.groupby([\"hrr\", \"fips\"]).sum().reset_index().merge(df_old, on=[\"fips\", \"hrr\"], how=\"left\")\n",
    "df.weight_x.sub(df.weight_y).abs().mean()"
   ]
  },
  {
   "cell_type": "markdown",
   "metadata": {},
   "source": [
    "## Adding HHS codes\n",
    "These are the department of health and human services region codes. They aggregate states into larger regions. I couldn't find a crosswalk file on the web, so I built one manually below."
   ]
  },
  {
   "cell_type": "code",
   "execution_count": null,
   "metadata": {},
   "outputs": [],
   "source": [
    "with open(\"../../data_proc/geomap/hhs.txt\") as f:\n",
    "    s = f.readlines()\n",
    "\n",
    "# Process text from https://www.hhs.gov/about/agencies/iea/regional-offices/index.html\n",
    "s = [int(st[7:9]) if \"Region\" in st else st for st in s]\n",
    "s = [st.strip().split(\", \") if type(st) == str else st for st in s]\n",
    "d = {s[i]:s[i+1] for i in range(0, len(s), 2)}\n",
    "d = {key:[s.lstrip(' and') for s in d[key]] for key in d}\n",
    "\n",
    "# Flatten\n",
    "d = [[(key,x) for x in d[key]] for key in d]\n",
    "d = [x for y in d for x in y]\n",
    "\n",
    "# Make naming adjustments\n",
    "d.remove((2, \"the Virgin Islands\"))\n",
    "d.append((2, \"U.S. Virgin Islands\"))\n",
    "d.remove((9, \"Commonwealth of the Northern Mariana Islands\"))\n",
    "d.append((9, \"Northern Mariana Islands\"))\n",
    "\n",
    "# Make dataframe\n",
    "hhs = pd.DataFrame(d, columns=[\"hhs\", \"state_name\"])\n",
    "hhs['hhs'] = hhs['hhs'].astype(str)\n",
    "\n",
    "ss_df = pd.read_csv(\"state_codes_table.csv\",\n",
    "    dtype={\"state_code\": str, \"state_name\": str, \"state_id\": str},\n",
    ")\n",
    "\n",
    "ss_df = ss_df.merge(hhs, on=\"state_name\", how=\"left\").dropna()\n"
   ]
  }
 ],
 "metadata": {
  "kernelspec": {
   "display_name": "Python 3",
   "language": "python",
   "name": "python3"
  },
  "language_info": {
   "codemirror_mode": {
    "name": "ipython",
    "version": 3
   },
   "file_extension": ".py",
   "mimetype": "text/x-python",
   "name": "python",
   "nbconvert_exporter": "python",
   "pygments_lexer": "ipython3",
   "version": "3.11.1 (main, Dec 23 2022, 09:28:24) [Clang 14.0.0 (clang-1400.0.29.202)]"
  },
  "vscode": {
   "interpreter": {
    "hash": "5c7b89af1651d0b8571dde13640ecdccf7d5a6204171d6ab33e7c296e100e08a"
   }
  }
 },
 "nbformat": 4,
 "nbformat_minor": 4
}
