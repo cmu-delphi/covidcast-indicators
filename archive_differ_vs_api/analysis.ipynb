{
 "cells": [
  {
   "cell_type": "markdown",
   "metadata": {},
   "source": [
    "# Analysis\n",
    "\n",
    "After running `compare.py` on various sources (chng, nchs, dsew, hhs, quidel), this analysis notebook pinpoints where/when the difference between api and S3 happened."
   ]
  },
  {
   "cell_type": "markdown",
   "metadata": {},
   "source": [
    "### Preprocess:\n",
    "\n",
    "Since compare.py outputs a series of json objects separated by commas instead of valid json file, this following chunk converts all json of this bad form in current dir to good format."
   ]
  },
  {
   "cell_type": "code",
   "execution_count": 1,
   "metadata": {},
   "outputs": [],
   "source": [
    "# # Make output file actually valid json by adding brackets\n",
    "# import glob\n",
    "# import pandas as pd\n",
    "\n",
    "# dotjson_files = glob.glob('*.json')\n",
    "\n",
    "# for dotjson_file in dotjson_files:\n",
    "#     # Open the file and read it into a string\n",
    "#     with open(dotjson_file, 'r') as f:\n",
    "#         content = f.read()\n",
    "\n",
    "#     # Add the brackets\n",
    "#     content = '[' + content[:-2] + ']'\n",
    "\n",
    "#     # Write the string back to the file\n",
    "#     with open(dotjson_file, 'w') as f:\n",
    "#         f.write(content)"
   ]
  },
  {
   "cell_type": "markdown",
   "metadata": {},
   "source": [
    "Read all json files in current dir to a df."
   ]
  },
  {
   "cell_type": "code",
   "execution_count": 2,
   "metadata": {},
   "outputs": [
    {
     "name": "stdout",
     "output_type": "stream",
     "text": [
      "Index(['file_name', 'source', 'signal', 'time_value', 'geo_type',\n",
      "       'dif_row_count', 's3_row_count', 'api_row_count', 'full_dif', 'skip',\n",
      "       'reason'],\n",
      "      dtype='object')\n"
     ]
    }
   ],
   "source": [
    "\n",
    "import glob\n",
    "import pandas as pd\n",
    "\n",
    "json_files = glob.glob('*.json')\n",
    "\n",
    "# Read all the JSON files into a list of DataFrames\n",
    "dfs = [pd.read_json(file) for file in json_files]\n",
    "\n",
    "# Concatenate all the DataFrames into one\n",
    "df = pd.concat(dfs, ignore_index=True)\n",
    "print(df.columns)\n"
   ]
  },
  {
   "cell_type": "code",
   "execution_count": 3,
   "metadata": {},
   "outputs": [],
   "source": [
    "df['time_value'] = df['time_value'].fillna(0).astype(int)"
   ]
  },
  {
   "cell_type": "markdown",
   "metadata": {},
   "source": [
    "## General Analysis\n",
    "After missingness is taken into account, less than 10% of the files have differences."
   ]
  },
  {
   "cell_type": "code",
   "execution_count": 4,
   "metadata": {},
   "outputs": [
    {
     "name": "stdout",
     "output_type": "stream",
     "text": [
      "number of s3 csv files processed by compare.py 438164\n",
      "number of s3 csv files with differences found 40440\n"
     ]
    }
   ],
   "source": [
    "print('number of s3 csv files processed by compare.py',len(df))\n",
    "print('number of s3 csv files with differences found',len(df[df['dif_row_count']!=0]))\n"
   ]
  },
  {
   "cell_type": "markdown",
   "metadata": {},
   "source": [
    "## Specific Indicators\n",
    "#### 1. Quidel\n",
    "Vast majority of quidel s3 files have all rows matching api equivalent.\n",
    "Smoothed signals have more differences than non-smoothed signals.\n",
    "2 big spikes in 2022 and throughout mid 2023. "
   ]
  },
  {
   "cell_type": "code",
   "execution_count": 5,
   "metadata": {},
   "outputs": [],
   "source": [
    "quidel = df[df[\"source\"]==\"quidel\"]\n",
    "# quidel.head()"
   ]
  },
  {
   "cell_type": "code",
   "execution_count": 6,
   "metadata": {},
   "outputs": [
    {
     "name": "stdout",
     "output_type": "stream",
     "text": [
      "4796\n",
      "124647\n",
      "0.038476658082424765\n"
     ]
    }
   ],
   "source": [
    "print(len(quidel[quidel['dif_row_count']!=0]))\n",
    "print(len(quidel))\n",
    "print(len(quidel[quidel['dif_row_count']!=0])/len(quidel))"
   ]
  },
  {
   "cell_type": "code",
   "execution_count": 7,
   "metadata": {},
   "outputs": [
    {
     "ename": "NameError",
     "evalue": "name 'plt' is not defined",
     "output_type": "error",
     "traceback": [
      "\u001b[0;31m---------------------------------------------------------------------------\u001b[0m",
      "\u001b[0;31mNameError\u001b[0m                                 Traceback (most recent call last)",
      "Input \u001b[0;32mIn [7]\u001b[0m, in \u001b[0;36m<cell line: 5>\u001b[0;34m()\u001b[0m\n\u001b[1;32m      2\u001b[0m quidel_diff \u001b[38;5;241m=\u001b[39m quidel[quidel[\u001b[38;5;124m'\u001b[39m\u001b[38;5;124mdif_row_count\u001b[39m\u001b[38;5;124m'\u001b[39m]\u001b[38;5;241m!=\u001b[39m\u001b[38;5;241m0\u001b[39m]\n\u001b[1;32m      4\u001b[0m \u001b[38;5;66;03m# Create a histogram of the 'signal' column\u001b[39;00m\n\u001b[0;32m----> 5\u001b[0m \u001b[43mplt\u001b[49m\u001b[38;5;241m.\u001b[39mfigure(figsize\u001b[38;5;241m=\u001b[39m(\u001b[38;5;241m15\u001b[39m, \u001b[38;5;241m5\u001b[39m))\n\u001b[1;32m      6\u001b[0m plt\u001b[38;5;241m.\u001b[39mhist(quidel_match[\u001b[38;5;124m'\u001b[39m\u001b[38;5;124msignal\u001b[39m\u001b[38;5;124m'\u001b[39m], bins\u001b[38;5;241m=\u001b[39m\u001b[38;5;241m30\u001b[39m, linestyle\u001b[38;5;241m=\u001b[39m\u001b[38;5;124m'\u001b[39m\u001b[38;5;124m:\u001b[39m\u001b[38;5;124m'\u001b[39m)\n\u001b[1;32m      7\u001b[0m plt\u001b[38;5;241m.\u001b[39mhist(quidel_diff[\u001b[38;5;124m'\u001b[39m\u001b[38;5;124msignal\u001b[39m\u001b[38;5;124m'\u001b[39m], bins\u001b[38;5;241m=\u001b[39m\u001b[38;5;241m30\u001b[39m,)\n",
      "\u001b[0;31mNameError\u001b[0m: name 'plt' is not defined"
     ]
    }
   ],
   "source": [
    "quidel_match = quidel[quidel['dif_row_count']==0]\n",
    "quidel_diff = quidel[quidel['dif_row_count']!=0]\n",
    "\n",
    "# Create a histogram of the 'signal' column\n",
    "plt.figure(figsize=(15, 5))\n",
    "plt.hist(quidel_match['signal'], bins=30, linestyle=':')\n",
    "plt.hist(quidel_diff['signal'], bins=30,)\n",
    "\n",
    "# Set the labels and title\n",
    "plt.xlabel('Signals')\n",
    "plt.ylabel('Number of csv files on S3')\n",
    "plt.title('S3 files with difference from API (in orange) vs no diff (in blue) by quidel signals')\n",
    "plt.xticks(rotation=90)\n",
    "# Display the plot\n",
    "plt.show()"
   ]
  },
  {
   "cell_type": "code",
   "execution_count": null,
   "metadata": {},
   "outputs": [],
   "source": [
    "\n",
    "\n",
    "import matplotlib.pyplot as plt\n",
    "import pandas as pd\n",
    "\n",
    "# Convert 'time_value' to datetime\n",
    "quidel_diff['time_value'] = pd.to_datetime(quidel_diff['time_value'], format='%Y%m%d')\n",
    "#quidel['time_value'] = pd.to_datetime(quidel['time_value'], format='%Y%m%d')\n",
    "\n",
    "# Create a plot\n",
    "plt.figure(figsize=(15, 5))\n",
    "plt.bar(quidel_diff['time_value'], quidel_diff['dif_row_count'], alpha=0.5)\n",
    "#plt.bar(quidel['time_value'],  quidel['s3_row_count'], color='black', alpha=0.5)\n",
    "\n",
    "# Set the labels and title\n",
    "plt.xlabel('Time Value')\n",
    "plt.ylabel('Number of Row differences in each S3 csv file')\n",
    "plt.title('Number of Row differences over Time (quidel)')\n",
    "\n",
    "# Display the plot\n",
    "plt.show()"
   ]
  },
  {
   "cell_type": "markdown",
   "metadata": {},
   "source": [
    "#### 2. nchs\n",
    "\n",
    "Note: This indicator uses its own version of the archive differ, which outputs a different csv structure, causing wrong result in previous analysis.\n",
    "\n",
    "With that and missingness taken into account, this time we see the indicator has 13% of files being different from its equivalent api result, with the biggest spike in mid 2023."
   ]
  },
  {
   "cell_type": "code",
   "execution_count": null,
   "metadata": {},
   "outputs": [],
   "source": [
    "nchs = df[df[\"source\"]==\"nchs-mortality\"]\n",
    "#nchs.head(10)"
   ]
  },
  {
   "cell_type": "code",
   "execution_count": null,
   "metadata": {},
   "outputs": [],
   "source": [
    "print(len(nchs[nchs['dif_row_count']!=0]))\n",
    "print(len(nchs))\n",
    "print(len(nchs[nchs['dif_row_count']!=0])/len(nchs))"
   ]
  },
  {
   "cell_type": "code",
   "execution_count": null,
   "metadata": {},
   "outputs": [],
   "source": [
    "nchs_diff = nchs[nchs['dif_row_count']!=0]\n",
    "nchs_diff = nchs_diff[nchs_diff['skip']==False]"
   ]
  },
  {
   "cell_type": "code",
   "execution_count": null,
   "metadata": {},
   "outputs": [],
   "source": [
    "nchs_diff['time_value'] = nchs_diff['time_value'].astype(str) + '0'\n",
    "\n",
    "# Convert 'time_value' to datetime\n",
    "nchs_diff['time_value'] = pd.to_datetime(nchs_diff['time_value'], format='%Y%U%w')\n",
    "\n",
    "# Create a plot\n",
    "plt.figure(figsize=(15, 5))\n",
    "plt.bar(nchs_diff['time_value'], nchs_diff['dif_row_count'], alpha=0.5)\n",
    "\n",
    "# Set the labels and title\n",
    "plt.xlabel('Time Value')\n",
    "plt.ylabel('Difference Row Count')\n",
    "plt.title('Graph of Difference Row Count over Time (nchs-mortality)')\n",
    "\n",
    "# Display the plot\n",
    "plt.show()"
   ]
  },
  {
   "cell_type": "markdown",
   "metadata": {},
   "source": [
    "#### 3. chng\n",
    "\n",
    "Around 30% of files have some differences from api.\n",
    "Two major periods of mismatch:\n",
    "- Mid 2020 to late 2021\n",
    "- mid 2023 when the big contract patch happened."
   ]
  },
  {
   "cell_type": "code",
   "execution_count": null,
   "metadata": {},
   "outputs": [],
   "source": [
    "chng = df[df[\"source\"]==\"chng\"]\n",
    "#chng.head(10)"
   ]
  },
  {
   "cell_type": "code",
   "execution_count": null,
   "metadata": {},
   "outputs": [],
   "source": [
    "print(len(chng[chng['dif_row_count']!=0]))\n",
    "print(len(chng))\n",
    "print(len(chng[chng['dif_row_count']!=0])/len(chng))"
   ]
  },
  {
   "cell_type": "code",
   "execution_count": null,
   "metadata": {},
   "outputs": [],
   "source": [
    "chng_diff = chng[chng['dif_row_count']!=0]\n",
    "chng_match = chng[chng['dif_row_count']==0]\n",
    "\n",
    "plt.figure(figsize=(15, 5))\n",
    "plt.hist(chng_match['signal'], bins=30,alpha=0.5)\n",
    "plt.hist(chng_diff['signal'], bins=30,alpha=0.8)\n",
    "\n",
    "# Set the labels and title\n",
    "plt.xlabel('Signals')\n",
    "plt.ylabel('Number of csv files on S3 that have difference from API')\n",
    "plt.title('S3 files with difference from API (in orange) vs no diff (in blue) by chng signals')\n",
    "plt.xticks(rotation=90)\n",
    "# Display the plot\n",
    "plt.show()"
   ]
  },
  {
   "cell_type": "code",
   "execution_count": null,
   "metadata": {},
   "outputs": [],
   "source": [
    "# Convert 'time_value' to datetime\n",
    "chng_diff['time_value'] = pd.to_datetime(chng_diff['time_value'], format='%Y%m%d')\n",
    "chng['time_value'] = pd.to_datetime(chng['time_value'], format='%Y%m%d')\n",
    "\n",
    "# Create a plot\n",
    "plt.figure(figsize=(15, 5))\n",
    "plt.bar(chng_diff['time_value'], chng_diff['dif_row_count'], alpha=0.5)\n",
    "# plt.bar(chng['time_value'], chng['s3_row_count'], alpha=0.3, color='black')\n",
    "\n",
    "# Set the labels and title\n",
    "plt.xlabel('Time Value')\n",
    "plt.ylabel('Number of Row differences in each S3 csv file')\n",
    "plt.title('Number of Row differences over Time (chng) per csv file when compared to API')\n",
    "\n",
    "# Display the plot\n",
    "plt.show()"
   ]
  },
  {
   "cell_type": "markdown",
   "metadata": {},
   "source": [
    "#### 4.hhs\n",
    "Vast majority of files for this indicator match api.\n",
    "Late 2023 is when we see a spike of mismatch, right before the indicator got retired.\n"
   ]
  },
  {
   "cell_type": "code",
   "execution_count": null,
   "metadata": {},
   "outputs": [],
   "source": [
    "hhs= df[df[\"source\"]==\"hhs\"]\n",
    "# hhs.head(10)"
   ]
  },
  {
   "cell_type": "code",
   "execution_count": null,
   "metadata": {},
   "outputs": [],
   "source": [
    "print(len(hhs[hhs['dif_row_count']!=0]))\n",
    "print(len(hhs))\n",
    "print(len(hhs[hhs['dif_row_count']!=0])/len(hhs))"
   ]
  },
  {
   "cell_type": "code",
   "execution_count": null,
   "metadata": {},
   "outputs": [],
   "source": [
    "hhs_diff = hhs[hhs['dif_row_count']!=0]\n",
    "hhs_match = hhs[hhs['dif_row_count']==0]\n",
    "\n",
    "plt.figure(figsize=(15, 5))\n",
    "plt.hist(hhs_match['signal'], bins=30, alpha=0.5)\n",
    "plt.hist(hhs_diff['signal'], bins=30, alpha=0.8)\n",
    "\n",
    "# Set the labels and title\n",
    "plt.xlabel('Signals')\n",
    "plt.ylabel('Number of csv files on S3 that have difference from API')\n",
    "plt.title('S3 files with difference from API (in orange) vs no diff (in blue) by hhs signals')\n",
    "\n",
    "plt.xticks(rotation=90)\n",
    "# Display the plot\n",
    "plt.show()"
   ]
  },
  {
   "cell_type": "code",
   "execution_count": null,
   "metadata": {},
   "outputs": [],
   "source": [
    "# Convert 'time_value' to datetime\n",
    "hhs_diff['time_value'] = pd.to_datetime(hhs_diff['time_value'], format='%Y%m%d')\n",
    "\n",
    "# Create a plot\n",
    "plt.figure(figsize=(15, 5))\n",
    "plt.bar(hhs_diff['time_value'], hhs_diff['dif_row_count'], alpha=0.5)\n",
    "\n",
    "# Set the labels and title\n",
    "plt.xlabel('Time Value')\n",
    "plt.ylabel('Number of Row differences in each S3 csv file')\n",
    "plt.title('Number of Row differences over Time (hhs) per csv file when compared to API')\n",
    "\n",
    "\n",
    "# Display the plot\n",
    "plt.show()"
   ]
  },
  {
   "cell_type": "markdown",
   "metadata": {},
   "source": [
    "#### 5. dsew\n",
    "Vast majority of the files all match. "
   ]
  },
  {
   "cell_type": "code",
   "execution_count": null,
   "metadata": {},
   "outputs": [],
   "source": [
    "dsew = df[df[\"source\"]==\"dsew-cpr\"]\n",
    "#dsew.head(10)"
   ]
  },
  {
   "cell_type": "code",
   "execution_count": null,
   "metadata": {},
   "outputs": [],
   "source": [
    "print(len(dsew[dsew['dif_row_count']!=0]))\n",
    "print(len(dsew))\n",
    "print(len(dsew[dsew['dif_row_count']!=0])/len(dsew))"
   ]
  },
  {
   "cell_type": "code",
   "execution_count": null,
   "metadata": {},
   "outputs": [],
   "source": [
    "dsew_diff = dsew[dsew['dif_row_count']!=0]\n",
    "dsew_match = dsew[dsew['dif_row_count']==0]\n",
    "\n",
    "plt.figure(figsize=(15, 5))\n",
    "plt.hist(dsew_match['signal'], bins=30, linestyle=':')\n",
    "plt.hist(dsew_diff['signal'], bins=30,)\n",
    "\n",
    "# Set the labels and title\n",
    "plt.xlabel('Signals')\n",
    "plt.ylabel('Number of csv files on S3 that have difference from API')\n",
    "plt.title('S3 files with difference from API (in orange) vs no diff (in blue) by dsew signals')\n",
    "plt.xticks(rotation=90)\n",
    "# Display the plot\n",
    "plt.show()"
   ]
  },
  {
   "cell_type": "code",
   "execution_count": null,
   "metadata": {},
   "outputs": [],
   "source": [
    "# Convert 'time_value' to datetime\n",
    "dsew_diff['time_value'] = pd.to_datetime(dsew_diff['time_value'], format='%Y%m%d')\n",
    "\n",
    "# Create a plot\n",
    "plt.figure(figsize=(15, 5))\n",
    "plt.bar(dsew_diff['time_value'], dsew_diff['dif_row_count'], alpha=0.5)\n",
    "\n",
    "# Set the labels and title\n",
    "plt.xlabel('Time Value')\n",
    "plt.ylabel('Number of row differences in each S3 csv file')\n",
    "plt.title('Number of dsew row differences over time per csv file when compared to API')\n",
    "\n",
    "\n",
    "# Display the plot\n",
    "plt.show()"
   ]
  },
  {
   "cell_type": "markdown",
   "metadata": {},
   "source": [
    "#### 6. usafacts\n",
    "Vast majority of files match.\n",
    "Big spike for super brief periods of time in 2020."
   ]
  },
  {
   "cell_type": "code",
   "execution_count": null,
   "metadata": {},
   "outputs": [],
   "source": [
    "usafacts = df[df[\"source\"]==\"usa-facts\"]\n",
    "usafacts.head()"
   ]
  },
  {
   "cell_type": "code",
   "execution_count": null,
   "metadata": {},
   "outputs": [],
   "source": [
    "print(len(usafacts[usafacts['dif_row_count']!=0]))\n",
    "print(len(usafacts))\n",
    "print(len(usafacts[usafacts['dif_row_count']!=0])/len(usafacts))"
   ]
  },
  {
   "cell_type": "code",
   "execution_count": null,
   "metadata": {},
   "outputs": [],
   "source": [
    "usafacts_diff = usafacts[usafacts['dif_row_count']!=0]\n",
    "usafacts_match = usafacts[usafacts['dif_row_count']==0]\n",
    "\n",
    "plt.figure(figsize=(15, 5))\n",
    "plt.hist(usafacts_match['signal'], bins=30, linestyle=':')\n",
    "plt.hist(usafacts_diff['signal'], bins=30,)\n",
    "\n",
    "# Set the labels and title\n",
    "plt.xlabel('Signals')\n",
    "plt.ylabel('Number of csv files on S3 that have difference from API')\n",
    "plt.title('S3 files with difference from API (in orange) vs no diff (in blue) by usafacts signals')\n",
    "plt.xticks(rotation=90)\n",
    "# Display the plot\n",
    "plt.show()"
   ]
  },
  {
   "cell_type": "code",
   "execution_count": null,
   "metadata": {},
   "outputs": [],
   "source": [
    "# Convert 'time_value' to datetime\n",
    "usafacts_diff['time_value'] = pd.to_datetime(usafacts_diff['time_value'], format='%Y%m%d')\n",
    "# usafacts['time_value'] = pd.to_datetime(usafacts['time_value'], format='%Y%m%d')\n",
    "\n",
    "# Create a plot\n",
    "plt.figure(figsize=(15, 5))\n",
    "plt.bar(usafacts_diff['time_value'], usafacts_diff['dif_row_count'], alpha=0.5)\n",
    "# plt.bar(usafacts['time_value'], usafacts['s3_row_count'], alpha=0.3, color='black')\n",
    "\n",
    "# Set the labels and title\n",
    "plt.xlabel('Time Value')\n",
    "plt.ylabel('Number of row differences in each S3 csv file')\n",
    "plt.title('Number of usafacts row differences over time per csv file when compared to API')\n",
    "\n",
    "\n",
    "# Display the plot\n",
    "plt.show()"
   ]
  },
  {
   "cell_type": "markdown",
   "metadata": {},
   "source": [
    "#### 7. JHU\n",
    "Around 20% of fies have mismatch. \n",
    "Big outlier spike in early 2023."
   ]
  },
  {
   "cell_type": "code",
   "execution_count": null,
   "metadata": {},
   "outputs": [],
   "source": [
    "jhu = df[df[\"source\"]==\"jhu-csse\"]\n",
    "jhu.head()"
   ]
  },
  {
   "cell_type": "code",
   "execution_count": null,
   "metadata": {},
   "outputs": [],
   "source": [
    "print(len(jhu[jhu['dif_row_count']!=0]))\n",
    "print(len(jhu))\n",
    "print(len(jhu[jhu['dif_row_count']!=0])/len(jhu))"
   ]
  },
  {
   "cell_type": "code",
   "execution_count": null,
   "metadata": {},
   "outputs": [],
   "source": [
    "jhu_diff = jhu[jhu['dif_row_count']!=0]\n",
    "jhu_match = jhu[jhu['dif_row_count']==0]\n",
    "\n",
    "plt.figure(figsize=(15, 5))\n",
    "plt.hist(jhu_match['signal'], bins=30, linestyle=':')\n",
    "plt.hist(jhu_diff['signal'], bins=30,)\n",
    "\n",
    "# Set the labels and title\n",
    "plt.xlabel('Signals')\n",
    "plt.ylabel('Number of csv files on S3 that have difference from API')\n",
    "plt.title('S3 files with difference from API (in orange) vs no diff (in blue) by jhu signals')\n",
    "plt.xticks(rotation=90)\n",
    "# Display the plot\n",
    "plt.show()"
   ]
  },
  {
   "cell_type": "code",
   "execution_count": null,
   "metadata": {},
   "outputs": [],
   "source": [
    "# Convert 'time_value' to datetime\n",
    "jhu_diff['time_value'] = pd.to_datetime(jhu_diff['time_value'], format='%Y%m%d')\n",
    "# jhu['time_value'] = pd.to_datetime(jhu['time_value'], format='%Y%m%d')\n",
    "\n",
    "# Create a plot\n",
    "plt.figure(figsize=(15, 5))\n",
    "plt.bar(jhu_diff['time_value'], jhu_diff['dif_row_count'], alpha=0.5)\n",
    "# plt.bar(jhu['time_value'], jhu['s3_row_count'], alpha=0.3, color='black')\n",
    "\n",
    "# Set the labels and title\n",
    "plt.xlabel('Time Value')\n",
    "# plt.ylabel('Number of row differences in each S3 csv file')\n",
    "plt.title('Number of jhu row differences over time per csv file when compared to API')\n",
    "\n",
    "# Display the plot\n",
    "plt.show()"
   ]
  }
 ],
 "metadata": {
  "kernelspec": {
   "display_name": "sigdocupload",
   "language": "python",
   "name": "python3"
  },
  "language_info": {
   "codemirror_mode": {
    "name": "ipython",
    "version": 3
   },
   "file_extension": ".py",
   "mimetype": "text/x-python",
   "name": "python",
   "nbconvert_exporter": "python",
   "pygments_lexer": "ipython3",
   "version": "3.9.13"
  }
 },
 "nbformat": 4,
 "nbformat_minor": 2
}
